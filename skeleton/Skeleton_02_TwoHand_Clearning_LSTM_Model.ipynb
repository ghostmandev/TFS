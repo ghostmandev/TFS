{
 "cells": [
  {
   "cell_type": "code",
   "execution_count": 1,
   "outputs": [],
   "source": [
    "import pandas as pd\n",
    "import numpy as np\n",
    "import matplotlib.pyplot as plt\n",
    "import seaborn as sb\n",
    "import plotly as cm\n",
    "from pandas_profiling import ProfileReport"
   ],
   "metadata": {
    "collapsed": false,
    "pycharm": {
     "name": "#%%\n"
    }
   }
  },
  {
   "cell_type": "code",
   "execution_count": 2,
   "outputs": [],
   "source": [
    "srcfile = 'C:\\\\Users\\\\wutti\\\\Desktop\\\\Test_Files\\\\TFS_TwoHand_75_points_no_V_test.csv'"
   ],
   "metadata": {
    "collapsed": false,
    "pycharm": {
     "name": "#%%\n"
    }
   }
  },
  {
   "cell_type": "code",
   "execution_count": 3,
   "outputs": [],
   "source": [
    "# # df = pd.read_csv(srcfile, sep=';', encoding='latin1', engine='python')\n",
    "# df = pd.read_csv(srcfile, sep=';', encoding='latin1')\n",
    "# df.head()"
   ],
   "metadata": {
    "collapsed": false,
    "pycharm": {
     "name": "#%%\n"
    }
   }
  },
  {
   "cell_type": "code",
   "execution_count": 4,
   "outputs": [],
   "source": [
    "# profile = ProfileReport(df, title = 'TFS-Skeleton-Onehand_75_points')\n",
    "# profile"
   ],
   "metadata": {
    "collapsed": false,
    "pycharm": {
     "name": "#%%\n"
    }
   }
  },
  {
   "cell_type": "code",
   "execution_count": 5,
   "outputs": [],
   "source": [
    "# print(df.isnull().sum())"
   ],
   "metadata": {
    "collapsed": false,
    "pycharm": {
     "name": "#%%\n"
    }
   }
  },
  {
   "cell_type": "code",
   "execution_count": 6,
   "outputs": [],
   "source": [
    "# df.head()"
   ],
   "metadata": {
    "collapsed": false,
    "pycharm": {
     "name": "#%%\n"
    }
   }
  },
  {
   "cell_type": "code",
   "execution_count": 7,
   "outputs": [],
   "source": [
    "df = pd.read_csv(srcfile, engine='python')"
   ],
   "metadata": {
    "collapsed": false,
    "pycharm": {
     "name": "#%%\n"
    }
   }
  },
  {
   "cell_type": "code",
   "execution_count": 8,
   "outputs": [
    {
     "data": {
      "text/plain": "  class        x1        y1        z1        x2        y2        z2        x3  \\\n0    อ่  0.434110  0.298331 -1.035047  0.461011  0.239869 -0.973024  0.477499   \n1    อ่  0.429909  0.299091 -1.033196  0.457929  0.241853 -0.964616  0.474237   \n2    อ่  0.429909  0.299091 -1.033196  0.457929  0.241853 -0.964616  0.474237   \n3    อ่  0.432813  0.310793 -1.206027  0.460014  0.253977 -1.139681  0.475536   \n4    อ่  0.437205  0.306630 -1.133030  0.462581  0.252750 -1.060267  0.477573   \n\n         y3        z3  ...       z72       x73       y73       z73       x74  \\\n0  0.243439 -0.973308  ...       NaN       NaN       NaN       NaN       NaN   \n1  0.243988 -0.964898  ... -0.015277  0.705914  0.929784 -0.020854  0.714973   \n2  0.243988 -0.964898  ... -0.015277  0.705914  0.929784 -0.020854  0.714973   \n3  0.256214 -1.139858  ... -0.025833  0.697252  0.873881 -0.033462  0.707033   \n4  0.254981 -1.060502  ... -0.021447  0.692508  0.823403 -0.029377  0.701794   \n\n        y74       z74       x75       y75       z75  \n0       NaN       NaN       NaN       NaN       NaN  \n1  0.895617 -0.020210  0.719473  0.867781 -0.019419  \n2  0.895617 -0.020210  0.719473  0.867781 -0.019419  \n3  0.841776 -0.032931  0.713368  0.814074 -0.031750  \n4  0.792851 -0.029400  0.709057  0.765694 -0.028588  \n\n[5 rows x 226 columns]",
      "text/html": "<div>\n<style scoped>\n    .dataframe tbody tr th:only-of-type {\n        vertical-align: middle;\n    }\n\n    .dataframe tbody tr th {\n        vertical-align: top;\n    }\n\n    .dataframe thead th {\n        text-align: right;\n    }\n</style>\n<table border=\"1\" class=\"dataframe\">\n  <thead>\n    <tr style=\"text-align: right;\">\n      <th></th>\n      <th>class</th>\n      <th>x1</th>\n      <th>y1</th>\n      <th>z1</th>\n      <th>x2</th>\n      <th>y2</th>\n      <th>z2</th>\n      <th>x3</th>\n      <th>y3</th>\n      <th>z3</th>\n      <th>...</th>\n      <th>z72</th>\n      <th>x73</th>\n      <th>y73</th>\n      <th>z73</th>\n      <th>x74</th>\n      <th>y74</th>\n      <th>z74</th>\n      <th>x75</th>\n      <th>y75</th>\n      <th>z75</th>\n    </tr>\n  </thead>\n  <tbody>\n    <tr>\n      <th>0</th>\n      <td>อ่</td>\n      <td>0.434110</td>\n      <td>0.298331</td>\n      <td>-1.035047</td>\n      <td>0.461011</td>\n      <td>0.239869</td>\n      <td>-0.973024</td>\n      <td>0.477499</td>\n      <td>0.243439</td>\n      <td>-0.973308</td>\n      <td>...</td>\n      <td>NaN</td>\n      <td>NaN</td>\n      <td>NaN</td>\n      <td>NaN</td>\n      <td>NaN</td>\n      <td>NaN</td>\n      <td>NaN</td>\n      <td>NaN</td>\n      <td>NaN</td>\n      <td>NaN</td>\n    </tr>\n    <tr>\n      <th>1</th>\n      <td>อ่</td>\n      <td>0.429909</td>\n      <td>0.299091</td>\n      <td>-1.033196</td>\n      <td>0.457929</td>\n      <td>0.241853</td>\n      <td>-0.964616</td>\n      <td>0.474237</td>\n      <td>0.243988</td>\n      <td>-0.964898</td>\n      <td>...</td>\n      <td>-0.015277</td>\n      <td>0.705914</td>\n      <td>0.929784</td>\n      <td>-0.020854</td>\n      <td>0.714973</td>\n      <td>0.895617</td>\n      <td>-0.020210</td>\n      <td>0.719473</td>\n      <td>0.867781</td>\n      <td>-0.019419</td>\n    </tr>\n    <tr>\n      <th>2</th>\n      <td>อ่</td>\n      <td>0.429909</td>\n      <td>0.299091</td>\n      <td>-1.033196</td>\n      <td>0.457929</td>\n      <td>0.241853</td>\n      <td>-0.964616</td>\n      <td>0.474237</td>\n      <td>0.243988</td>\n      <td>-0.964898</td>\n      <td>...</td>\n      <td>-0.015277</td>\n      <td>0.705914</td>\n      <td>0.929784</td>\n      <td>-0.020854</td>\n      <td>0.714973</td>\n      <td>0.895617</td>\n      <td>-0.020210</td>\n      <td>0.719473</td>\n      <td>0.867781</td>\n      <td>-0.019419</td>\n    </tr>\n    <tr>\n      <th>3</th>\n      <td>อ่</td>\n      <td>0.432813</td>\n      <td>0.310793</td>\n      <td>-1.206027</td>\n      <td>0.460014</td>\n      <td>0.253977</td>\n      <td>-1.139681</td>\n      <td>0.475536</td>\n      <td>0.256214</td>\n      <td>-1.139858</td>\n      <td>...</td>\n      <td>-0.025833</td>\n      <td>0.697252</td>\n      <td>0.873881</td>\n      <td>-0.033462</td>\n      <td>0.707033</td>\n      <td>0.841776</td>\n      <td>-0.032931</td>\n      <td>0.713368</td>\n      <td>0.814074</td>\n      <td>-0.031750</td>\n    </tr>\n    <tr>\n      <th>4</th>\n      <td>อ่</td>\n      <td>0.437205</td>\n      <td>0.306630</td>\n      <td>-1.133030</td>\n      <td>0.462581</td>\n      <td>0.252750</td>\n      <td>-1.060267</td>\n      <td>0.477573</td>\n      <td>0.254981</td>\n      <td>-1.060502</td>\n      <td>...</td>\n      <td>-0.021447</td>\n      <td>0.692508</td>\n      <td>0.823403</td>\n      <td>-0.029377</td>\n      <td>0.701794</td>\n      <td>0.792851</td>\n      <td>-0.029400</td>\n      <td>0.709057</td>\n      <td>0.765694</td>\n      <td>-0.028588</td>\n    </tr>\n  </tbody>\n</table>\n<p>5 rows × 226 columns</p>\n</div>"
     },
     "execution_count": 8,
     "metadata": {},
     "output_type": "execute_result"
    }
   ],
   "source": [
    "df.head()"
   ],
   "metadata": {
    "collapsed": false,
    "pycharm": {
     "name": "#%%\n"
    }
   }
  },
  {
   "cell_type": "code",
   "execution_count": 9,
   "outputs": [
    {
     "data": {
      "text/plain": "           class        x1        y1        z1        x2        y2        z2  \\\n35232  ไม้ไต่คู้  0.505169  0.450338 -1.266487  0.532236  0.391213 -1.192186   \n35233  ไม้ไต่คู้  0.518348  0.452888 -1.254290  0.540892  0.397112 -1.181628   \n35234  ไม้ไต่คู้  0.522974  0.458728 -1.299674  0.544999  0.402066 -1.227341   \n35235  ไม้ไต่คู้  0.506826  0.456396 -1.309099  0.532749  0.401388 -1.233267   \n35236  ไม้ไต่คู้  0.511536  0.450597 -1.278467  0.535949  0.397674 -1.202380   \n\n             x3        y3        z3  ...       z72       x73       y73  \\\n35232  0.547755  0.393168 -1.192205  ... -0.037867  0.773673  0.957604   \n35233  0.555048  0.398733 -1.181709  ... -0.029353  0.762456  0.991850   \n35234  0.558838  0.402731 -1.227251  ... -0.022544  0.722687  1.041104   \n35235  0.547672  0.402509 -1.233406  ...       NaN       NaN       NaN   \n35236  0.551701  0.398948 -1.202611  ...       NaN       NaN       NaN   \n\n            z73       x74       y74       z74       x75       y75       z75  \n35232 -0.047840  0.788576  0.940628 -0.046659  0.799739  0.923667 -0.045932  \n35233 -0.037508  0.779295  0.966001 -0.036288  0.792470  0.945838 -0.035624  \n35234 -0.026217  0.734203  1.022373 -0.022036  0.742804  1.011384 -0.020418  \n35235       NaN       NaN       NaN       NaN       NaN       NaN       NaN  \n35236       NaN       NaN       NaN       NaN       NaN       NaN       NaN  \n\n[5 rows x 226 columns]",
      "text/html": "<div>\n<style scoped>\n    .dataframe tbody tr th:only-of-type {\n        vertical-align: middle;\n    }\n\n    .dataframe tbody tr th {\n        vertical-align: top;\n    }\n\n    .dataframe thead th {\n        text-align: right;\n    }\n</style>\n<table border=\"1\" class=\"dataframe\">\n  <thead>\n    <tr style=\"text-align: right;\">\n      <th></th>\n      <th>class</th>\n      <th>x1</th>\n      <th>y1</th>\n      <th>z1</th>\n      <th>x2</th>\n      <th>y2</th>\n      <th>z2</th>\n      <th>x3</th>\n      <th>y3</th>\n      <th>z3</th>\n      <th>...</th>\n      <th>z72</th>\n      <th>x73</th>\n      <th>y73</th>\n      <th>z73</th>\n      <th>x74</th>\n      <th>y74</th>\n      <th>z74</th>\n      <th>x75</th>\n      <th>y75</th>\n      <th>z75</th>\n    </tr>\n  </thead>\n  <tbody>\n    <tr>\n      <th>35232</th>\n      <td>ไม้ไต่คู้</td>\n      <td>0.505169</td>\n      <td>0.450338</td>\n      <td>-1.266487</td>\n      <td>0.532236</td>\n      <td>0.391213</td>\n      <td>-1.192186</td>\n      <td>0.547755</td>\n      <td>0.393168</td>\n      <td>-1.192205</td>\n      <td>...</td>\n      <td>-0.037867</td>\n      <td>0.773673</td>\n      <td>0.957604</td>\n      <td>-0.047840</td>\n      <td>0.788576</td>\n      <td>0.940628</td>\n      <td>-0.046659</td>\n      <td>0.799739</td>\n      <td>0.923667</td>\n      <td>-0.045932</td>\n    </tr>\n    <tr>\n      <th>35233</th>\n      <td>ไม้ไต่คู้</td>\n      <td>0.518348</td>\n      <td>0.452888</td>\n      <td>-1.254290</td>\n      <td>0.540892</td>\n      <td>0.397112</td>\n      <td>-1.181628</td>\n      <td>0.555048</td>\n      <td>0.398733</td>\n      <td>-1.181709</td>\n      <td>...</td>\n      <td>-0.029353</td>\n      <td>0.762456</td>\n      <td>0.991850</td>\n      <td>-0.037508</td>\n      <td>0.779295</td>\n      <td>0.966001</td>\n      <td>-0.036288</td>\n      <td>0.792470</td>\n      <td>0.945838</td>\n      <td>-0.035624</td>\n    </tr>\n    <tr>\n      <th>35234</th>\n      <td>ไม้ไต่คู้</td>\n      <td>0.522974</td>\n      <td>0.458728</td>\n      <td>-1.299674</td>\n      <td>0.544999</td>\n      <td>0.402066</td>\n      <td>-1.227341</td>\n      <td>0.558838</td>\n      <td>0.402731</td>\n      <td>-1.227251</td>\n      <td>...</td>\n      <td>-0.022544</td>\n      <td>0.722687</td>\n      <td>1.041104</td>\n      <td>-0.026217</td>\n      <td>0.734203</td>\n      <td>1.022373</td>\n      <td>-0.022036</td>\n      <td>0.742804</td>\n      <td>1.011384</td>\n      <td>-0.020418</td>\n    </tr>\n    <tr>\n      <th>35235</th>\n      <td>ไม้ไต่คู้</td>\n      <td>0.506826</td>\n      <td>0.456396</td>\n      <td>-1.309099</td>\n      <td>0.532749</td>\n      <td>0.401388</td>\n      <td>-1.233267</td>\n      <td>0.547672</td>\n      <td>0.402509</td>\n      <td>-1.233406</td>\n      <td>...</td>\n      <td>NaN</td>\n      <td>NaN</td>\n      <td>NaN</td>\n      <td>NaN</td>\n      <td>NaN</td>\n      <td>NaN</td>\n      <td>NaN</td>\n      <td>NaN</td>\n      <td>NaN</td>\n      <td>NaN</td>\n    </tr>\n    <tr>\n      <th>35236</th>\n      <td>ไม้ไต่คู้</td>\n      <td>0.511536</td>\n      <td>0.450597</td>\n      <td>-1.278467</td>\n      <td>0.535949</td>\n      <td>0.397674</td>\n      <td>-1.202380</td>\n      <td>0.551701</td>\n      <td>0.398948</td>\n      <td>-1.202611</td>\n      <td>...</td>\n      <td>NaN</td>\n      <td>NaN</td>\n      <td>NaN</td>\n      <td>NaN</td>\n      <td>NaN</td>\n      <td>NaN</td>\n      <td>NaN</td>\n      <td>NaN</td>\n      <td>NaN</td>\n      <td>NaN</td>\n    </tr>\n  </tbody>\n</table>\n<p>5 rows × 226 columns</p>\n</div>"
     },
     "execution_count": 9,
     "metadata": {},
     "output_type": "execute_result"
    }
   ],
   "source": [
    "df.tail()"
   ],
   "metadata": {
    "collapsed": false,
    "pycharm": {
     "name": "#%%\n"
    }
   }
  },
  {
   "cell_type": "code",
   "execution_count": 10,
   "outputs": [
    {
     "data": {
      "text/plain": "True"
     },
     "execution_count": 10,
     "metadata": {},
     "output_type": "execute_result"
    }
   ],
   "source": [
    "df.isnull().values.any()"
   ],
   "metadata": {
    "collapsed": false,
    "pycharm": {
     "name": "#%%\n"
    }
   }
  },
  {
   "cell_type": "code",
   "execution_count": 11,
   "outputs": [
    {
     "data": {
      "text/plain": "508284"
     },
     "execution_count": 11,
     "metadata": {},
     "output_type": "execute_result"
    }
   ],
   "source": [
    "df.isnull().sum().sum()"
   ],
   "metadata": {
    "collapsed": false,
    "pycharm": {
     "name": "#%%\n"
    }
   }
  },
  {
   "cell_type": "code",
   "execution_count": 12,
   "outputs": [
    {
     "name": "stdout",
     "output_type": "stream",
     "text": [
      "class       0\n",
      "x1          0\n",
      "y1          0\n",
      "z1          0\n",
      "x2          0\n",
      "         ... \n",
      "y74      6226\n",
      "z74      6226\n",
      "x75      6226\n",
      "y75      6226\n",
      "z75      6226\n",
      "Length: 226, dtype: int64\n"
     ]
    }
   ],
   "source": [
    "print(df.isnull().sum())"
   ],
   "metadata": {
    "collapsed": false,
    "pycharm": {
     "name": "#%%\n"
    }
   }
  },
  {
   "cell_type": "code",
   "execution_count": 13,
   "outputs": [],
   "source": [
    "# df = pd.DataFrame(df)\n",
    "# df"
   ],
   "metadata": {
    "collapsed": false,
    "pycharm": {
     "name": "#%%\n"
    }
   }
  },
  {
   "cell_type": "code",
   "execution_count": 14,
   "outputs": [
    {
     "data": {
      "text/plain": "           class        x1        y1        z1        x2        y2        z2  \\\n1             อ่  0.429909  0.299091 -1.033196  0.457929  0.241853 -0.964616   \n2             อ่  0.429909  0.299091 -1.033196  0.457929  0.241853 -0.964616   \n3             อ่  0.432813  0.310793 -1.206027  0.460014  0.253977 -1.139681   \n4             อ่  0.437205  0.306630 -1.133030  0.462581  0.252750 -1.060267   \n5             อ่  0.437205  0.306630 -1.133030  0.462581  0.252750 -1.060267   \n...          ...       ...       ...       ...       ...       ...       ...   \n35230  ไม้ไต่คู้  0.511456  0.460191 -0.959940  0.534037  0.401124 -0.899052   \n35231  ไม้ไต่คู้  0.501599  0.458881 -1.124302  0.526439  0.400657 -1.055216   \n35232  ไม้ไต่คู้  0.505169  0.450338 -1.266487  0.532236  0.391213 -1.192186   \n35233  ไม้ไต่คู้  0.518348  0.452888 -1.254290  0.540892  0.397112 -1.181628   \n35234  ไม้ไต่คู้  0.522974  0.458728 -1.299674  0.544999  0.402066 -1.227341   \n\n             x3        y3        z3  ...       z72       x73       y73  \\\n1      0.474237  0.243988 -0.964898  ... -0.015277  0.705914  0.929784   \n2      0.474237  0.243988 -0.964898  ... -0.015277  0.705914  0.929784   \n3      0.475536  0.256214 -1.139858  ... -0.025833  0.697252  0.873881   \n4      0.477573  0.254981 -1.060502  ... -0.021447  0.692508  0.823403   \n5      0.477573  0.254981 -1.060502  ... -0.021447  0.692508  0.823403   \n...         ...       ...       ...  ...       ...       ...       ...   \n35230  0.548146  0.401731 -0.898836  ... -0.039919  0.809364  0.820627   \n35231  0.540674  0.401736 -1.055150  ... -0.043934  0.785507  0.907059   \n35232  0.547755  0.393168 -1.192205  ... -0.037867  0.773673  0.957604   \n35233  0.555048  0.398733 -1.181709  ... -0.029353  0.762456  0.991850   \n35234  0.558838  0.402731 -1.227251  ... -0.022544  0.722687  1.041104   \n\n            z73       x74       y74       z74       x75       y75       z75  \n1     -0.020854  0.714973  0.895617 -0.020210  0.719473  0.867781 -0.019419  \n2     -0.020854  0.714973  0.895617 -0.020210  0.719473  0.867781 -0.019419  \n3     -0.033462  0.707033  0.841776 -0.032931  0.713368  0.814074 -0.031750  \n4     -0.029377  0.701794  0.792851 -0.029400  0.709057  0.765694 -0.028588  \n5     -0.029377  0.701794  0.792851 -0.029400  0.709057  0.765694 -0.028588  \n...         ...       ...       ...       ...       ...       ...       ...  \n35230 -0.052186  0.828242  0.795007 -0.057392  0.844519  0.771788 -0.060988  \n35231 -0.058207  0.802646  0.886843 -0.061276  0.817798  0.866778 -0.062948  \n35232 -0.047840  0.788576  0.940628 -0.046659  0.799739  0.923667 -0.045932  \n35233 -0.037508  0.779295  0.966001 -0.036288  0.792470  0.945838 -0.035624  \n35234 -0.026217  0.734203  1.022373 -0.022036  0.742804  1.011384 -0.020418  \n\n[29011 rows x 226 columns]",
      "text/html": "<div>\n<style scoped>\n    .dataframe tbody tr th:only-of-type {\n        vertical-align: middle;\n    }\n\n    .dataframe tbody tr th {\n        vertical-align: top;\n    }\n\n    .dataframe thead th {\n        text-align: right;\n    }\n</style>\n<table border=\"1\" class=\"dataframe\">\n  <thead>\n    <tr style=\"text-align: right;\">\n      <th></th>\n      <th>class</th>\n      <th>x1</th>\n      <th>y1</th>\n      <th>z1</th>\n      <th>x2</th>\n      <th>y2</th>\n      <th>z2</th>\n      <th>x3</th>\n      <th>y3</th>\n      <th>z3</th>\n      <th>...</th>\n      <th>z72</th>\n      <th>x73</th>\n      <th>y73</th>\n      <th>z73</th>\n      <th>x74</th>\n      <th>y74</th>\n      <th>z74</th>\n      <th>x75</th>\n      <th>y75</th>\n      <th>z75</th>\n    </tr>\n  </thead>\n  <tbody>\n    <tr>\n      <th>1</th>\n      <td>อ่</td>\n      <td>0.429909</td>\n      <td>0.299091</td>\n      <td>-1.033196</td>\n      <td>0.457929</td>\n      <td>0.241853</td>\n      <td>-0.964616</td>\n      <td>0.474237</td>\n      <td>0.243988</td>\n      <td>-0.964898</td>\n      <td>...</td>\n      <td>-0.015277</td>\n      <td>0.705914</td>\n      <td>0.929784</td>\n      <td>-0.020854</td>\n      <td>0.714973</td>\n      <td>0.895617</td>\n      <td>-0.020210</td>\n      <td>0.719473</td>\n      <td>0.867781</td>\n      <td>-0.019419</td>\n    </tr>\n    <tr>\n      <th>2</th>\n      <td>อ่</td>\n      <td>0.429909</td>\n      <td>0.299091</td>\n      <td>-1.033196</td>\n      <td>0.457929</td>\n      <td>0.241853</td>\n      <td>-0.964616</td>\n      <td>0.474237</td>\n      <td>0.243988</td>\n      <td>-0.964898</td>\n      <td>...</td>\n      <td>-0.015277</td>\n      <td>0.705914</td>\n      <td>0.929784</td>\n      <td>-0.020854</td>\n      <td>0.714973</td>\n      <td>0.895617</td>\n      <td>-0.020210</td>\n      <td>0.719473</td>\n      <td>0.867781</td>\n      <td>-0.019419</td>\n    </tr>\n    <tr>\n      <th>3</th>\n      <td>อ่</td>\n      <td>0.432813</td>\n      <td>0.310793</td>\n      <td>-1.206027</td>\n      <td>0.460014</td>\n      <td>0.253977</td>\n      <td>-1.139681</td>\n      <td>0.475536</td>\n      <td>0.256214</td>\n      <td>-1.139858</td>\n      <td>...</td>\n      <td>-0.025833</td>\n      <td>0.697252</td>\n      <td>0.873881</td>\n      <td>-0.033462</td>\n      <td>0.707033</td>\n      <td>0.841776</td>\n      <td>-0.032931</td>\n      <td>0.713368</td>\n      <td>0.814074</td>\n      <td>-0.031750</td>\n    </tr>\n    <tr>\n      <th>4</th>\n      <td>อ่</td>\n      <td>0.437205</td>\n      <td>0.306630</td>\n      <td>-1.133030</td>\n      <td>0.462581</td>\n      <td>0.252750</td>\n      <td>-1.060267</td>\n      <td>0.477573</td>\n      <td>0.254981</td>\n      <td>-1.060502</td>\n      <td>...</td>\n      <td>-0.021447</td>\n      <td>0.692508</td>\n      <td>0.823403</td>\n      <td>-0.029377</td>\n      <td>0.701794</td>\n      <td>0.792851</td>\n      <td>-0.029400</td>\n      <td>0.709057</td>\n      <td>0.765694</td>\n      <td>-0.028588</td>\n    </tr>\n    <tr>\n      <th>5</th>\n      <td>อ่</td>\n      <td>0.437205</td>\n      <td>0.306630</td>\n      <td>-1.133030</td>\n      <td>0.462581</td>\n      <td>0.252750</td>\n      <td>-1.060267</td>\n      <td>0.477573</td>\n      <td>0.254981</td>\n      <td>-1.060502</td>\n      <td>...</td>\n      <td>-0.021447</td>\n      <td>0.692508</td>\n      <td>0.823403</td>\n      <td>-0.029377</td>\n      <td>0.701794</td>\n      <td>0.792851</td>\n      <td>-0.029400</td>\n      <td>0.709057</td>\n      <td>0.765694</td>\n      <td>-0.028588</td>\n    </tr>\n    <tr>\n      <th>...</th>\n      <td>...</td>\n      <td>...</td>\n      <td>...</td>\n      <td>...</td>\n      <td>...</td>\n      <td>...</td>\n      <td>...</td>\n      <td>...</td>\n      <td>...</td>\n      <td>...</td>\n      <td>...</td>\n      <td>...</td>\n      <td>...</td>\n      <td>...</td>\n      <td>...</td>\n      <td>...</td>\n      <td>...</td>\n      <td>...</td>\n      <td>...</td>\n      <td>...</td>\n      <td>...</td>\n    </tr>\n    <tr>\n      <th>35230</th>\n      <td>ไม้ไต่คู้</td>\n      <td>0.511456</td>\n      <td>0.460191</td>\n      <td>-0.959940</td>\n      <td>0.534037</td>\n      <td>0.401124</td>\n      <td>-0.899052</td>\n      <td>0.548146</td>\n      <td>0.401731</td>\n      <td>-0.898836</td>\n      <td>...</td>\n      <td>-0.039919</td>\n      <td>0.809364</td>\n      <td>0.820627</td>\n      <td>-0.052186</td>\n      <td>0.828242</td>\n      <td>0.795007</td>\n      <td>-0.057392</td>\n      <td>0.844519</td>\n      <td>0.771788</td>\n      <td>-0.060988</td>\n    </tr>\n    <tr>\n      <th>35231</th>\n      <td>ไม้ไต่คู้</td>\n      <td>0.501599</td>\n      <td>0.458881</td>\n      <td>-1.124302</td>\n      <td>0.526439</td>\n      <td>0.400657</td>\n      <td>-1.055216</td>\n      <td>0.540674</td>\n      <td>0.401736</td>\n      <td>-1.055150</td>\n      <td>...</td>\n      <td>-0.043934</td>\n      <td>0.785507</td>\n      <td>0.907059</td>\n      <td>-0.058207</td>\n      <td>0.802646</td>\n      <td>0.886843</td>\n      <td>-0.061276</td>\n      <td>0.817798</td>\n      <td>0.866778</td>\n      <td>-0.062948</td>\n    </tr>\n    <tr>\n      <th>35232</th>\n      <td>ไม้ไต่คู้</td>\n      <td>0.505169</td>\n      <td>0.450338</td>\n      <td>-1.266487</td>\n      <td>0.532236</td>\n      <td>0.391213</td>\n      <td>-1.192186</td>\n      <td>0.547755</td>\n      <td>0.393168</td>\n      <td>-1.192205</td>\n      <td>...</td>\n      <td>-0.037867</td>\n      <td>0.773673</td>\n      <td>0.957604</td>\n      <td>-0.047840</td>\n      <td>0.788576</td>\n      <td>0.940628</td>\n      <td>-0.046659</td>\n      <td>0.799739</td>\n      <td>0.923667</td>\n      <td>-0.045932</td>\n    </tr>\n    <tr>\n      <th>35233</th>\n      <td>ไม้ไต่คู้</td>\n      <td>0.518348</td>\n      <td>0.452888</td>\n      <td>-1.254290</td>\n      <td>0.540892</td>\n      <td>0.397112</td>\n      <td>-1.181628</td>\n      <td>0.555048</td>\n      <td>0.398733</td>\n      <td>-1.181709</td>\n      <td>...</td>\n      <td>-0.029353</td>\n      <td>0.762456</td>\n      <td>0.991850</td>\n      <td>-0.037508</td>\n      <td>0.779295</td>\n      <td>0.966001</td>\n      <td>-0.036288</td>\n      <td>0.792470</td>\n      <td>0.945838</td>\n      <td>-0.035624</td>\n    </tr>\n    <tr>\n      <th>35234</th>\n      <td>ไม้ไต่คู้</td>\n      <td>0.522974</td>\n      <td>0.458728</td>\n      <td>-1.299674</td>\n      <td>0.544999</td>\n      <td>0.402066</td>\n      <td>-1.227341</td>\n      <td>0.558838</td>\n      <td>0.402731</td>\n      <td>-1.227251</td>\n      <td>...</td>\n      <td>-0.022544</td>\n      <td>0.722687</td>\n      <td>1.041104</td>\n      <td>-0.026217</td>\n      <td>0.734203</td>\n      <td>1.022373</td>\n      <td>-0.022036</td>\n      <td>0.742804</td>\n      <td>1.011384</td>\n      <td>-0.020418</td>\n    </tr>\n  </tbody>\n</table>\n<p>29011 rows × 226 columns</p>\n</div>"
     },
     "execution_count": 14,
     "metadata": {},
     "output_type": "execute_result"
    }
   ],
   "source": [
    "# remove NaN columns\n",
    "df_drop_ax0 = df.dropna(axis=0)\n",
    "df_drop_ax0"
   ],
   "metadata": {
    "collapsed": false,
    "pycharm": {
     "name": "#%%\n"
    }
   }
  },
  {
   "cell_type": "code",
   "execution_count": 15,
   "outputs": [
    {
     "data": {
      "text/plain": "False"
     },
     "execution_count": 15,
     "metadata": {},
     "output_type": "execute_result"
    }
   ],
   "source": [
    "df_drop_ax0.isnull().values.any()"
   ],
   "metadata": {
    "collapsed": false,
    "pycharm": {
     "name": "#%%\n"
    }
   }
  },
  {
   "cell_type": "code",
   "execution_count": 16,
   "outputs": [
    {
     "name": "stdout",
     "output_type": "stream",
     "text": [
      "class    0\n",
      "x1       0\n",
      "y1       0\n",
      "z1       0\n",
      "x2       0\n",
      "        ..\n",
      "y74      0\n",
      "z74      0\n",
      "x75      0\n",
      "y75      0\n",
      "z75      0\n",
      "Length: 226, dtype: int64\n"
     ]
    }
   ],
   "source": [
    "print(df_drop_ax0.isnull().sum())"
   ],
   "metadata": {
    "collapsed": false,
    "pycharm": {
     "name": "#%%\n"
    }
   }
  },
  {
   "cell_type": "code",
   "execution_count": 17,
   "outputs": [],
   "source": [
    "# df_drop_class = df_drop_ax0.iloc[:, 1:]\n",
    "# label = df_drop_ax0.iloc[:, 0]\n",
    "#\n",
    "# print(f'Feature = {df_drop_class.shape}  ; Label = {label.shape}')"
   ],
   "metadata": {
    "collapsed": false,
    "pycharm": {
     "name": "#%%\n"
    }
   }
  },
  {
   "cell_type": "code",
   "execution_count": 18,
   "outputs": [
    {
     "name": "stdout",
     "output_type": "stream",
     "text": [
      "['x1', 'x2', 'x3', 'x4', 'x5', 'x6', 'x7', 'x8', 'x9', 'x10', 'x11', 'x16', 'x17', 'x18', 'x19', 'x20', 'x21', 'x22', 'x23', 'x24', 'x25', 'x26', 'x27', 'x28', 'x29', 'x30', 'x31', 'x32', 'x33'] ['y1', 'y2', 'y3', 'y4', 'y5', 'y6', 'y7', 'y8', 'y9', 'y10', 'y11', 'y16', 'y17', 'y18', 'y19', 'y20', 'y21', 'y22', 'y23', 'y24', 'y25', 'y26', 'y27', 'y28', 'y29', 'y30', 'y31', 'y32', 'y33'] ['z1', 'z2', 'z3', 'z4', 'z5', 'z6', 'z7', 'z8', 'z9', 'z10', 'z11', 'z16', 'z17', 'z18', 'z19', 'z20', 'z21', 'z22', 'z23', 'z24', 'z25', 'z26', 'z27', 'z28', 'z29', 'z30', 'z31', 'z32', 'z33']\n",
      "29\n"
     ]
    }
   ],
   "source": [
    "a, b, c = [], [], []\n",
    "for i in range (1, 34):\n",
    "    if i != 12 and i !=13 and i != 14 and i != 15:\n",
    "        a.append('x' + str(i))\n",
    "        b.append('y' + str(i))\n",
    "        c.append('z' + str(i))\n",
    "    else:\n",
    "        pass\n",
    "print(a, b, c)\n",
    "print(len(a))"
   ],
   "metadata": {
    "collapsed": false,
    "pycharm": {
     "name": "#%%\n"
    }
   }
  },
  {
   "cell_type": "code",
   "execution_count": 19,
   "outputs": [
    {
     "name": "stdout",
     "output_type": "stream",
     "text": [
      "Feature = (29011, 225)  ; Label = (29011,)\n"
     ]
    }
   ],
   "source": [
    "feature = df_drop_ax0.iloc[:, 1:]\n",
    "label = df_drop_ax0.iloc[:, 0]\n",
    "print(f'Feature = {feature.shape}  ; Label = {label.shape}')"
   ],
   "metadata": {
    "collapsed": false,
    "pycharm": {
     "name": "#%%\n"
    }
   }
  },
  {
   "cell_type": "code",
   "execution_count": 20,
   "outputs": [
    {
     "data": {
      "text/plain": "             x1        y1        z1        x2        y2        z2        x3  \\\n1      0.429909  0.299091 -1.033196  0.457929  0.241853 -0.964616  0.474237   \n2      0.429909  0.299091 -1.033196  0.457929  0.241853 -0.964616  0.474237   \n3      0.432813  0.310793 -1.206027  0.460014  0.253977 -1.139681  0.475536   \n4      0.437205  0.306630 -1.133030  0.462581  0.252750 -1.060267  0.477573   \n5      0.437205  0.306630 -1.133030  0.462581  0.252750 -1.060267  0.477573   \n...         ...       ...       ...       ...       ...       ...       ...   \n35230  0.511456  0.460191 -0.959940  0.534037  0.401124 -0.899052  0.548146   \n35231  0.501599  0.458881 -1.124302  0.526439  0.400657 -1.055216  0.540674   \n35232  0.505169  0.450338 -1.266487  0.532236  0.391213 -1.192186  0.547755   \n35233  0.518348  0.452888 -1.254290  0.540892  0.397112 -1.181628  0.555048   \n35234  0.522974  0.458728 -1.299674  0.544999  0.402066 -1.227341  0.558838   \n\n             y3        z3        x4  ...       z72       x73       y73  \\\n1      0.243988 -0.964898  0.489387  ... -0.015277  0.705914  0.929784   \n2      0.243988 -0.964898  0.489387  ... -0.015277  0.705914  0.929784   \n3      0.256214 -1.139858  0.490387  ... -0.025833  0.697252  0.873881   \n4      0.254981 -1.060502  0.491673  ... -0.021447  0.692508  0.823403   \n5      0.254981 -1.060502  0.491673  ... -0.021447  0.692508  0.823403   \n...         ...       ...       ...  ...       ...       ...       ...   \n35230  0.401731 -0.898836  0.559430  ... -0.039919  0.809364  0.820627   \n35231  0.401736 -1.055150  0.554994  ... -0.043934  0.785507  0.907059   \n35232  0.393168 -1.192205  0.561072  ... -0.037867  0.773673  0.957604   \n35233  0.398733 -1.181709  0.567229  ... -0.029353  0.762456  0.991850   \n35234  0.402731 -1.227251  0.571938  ... -0.022544  0.722687  1.041104   \n\n            z73       x74       y74       z74       x75       y75       z75  \n1     -0.020854  0.714973  0.895617 -0.020210  0.719473  0.867781 -0.019419  \n2     -0.020854  0.714973  0.895617 -0.020210  0.719473  0.867781 -0.019419  \n3     -0.033462  0.707033  0.841776 -0.032931  0.713368  0.814074 -0.031750  \n4     -0.029377  0.701794  0.792851 -0.029400  0.709057  0.765694 -0.028588  \n5     -0.029377  0.701794  0.792851 -0.029400  0.709057  0.765694 -0.028588  \n...         ...       ...       ...       ...       ...       ...       ...  \n35230 -0.052186  0.828242  0.795007 -0.057392  0.844519  0.771788 -0.060988  \n35231 -0.058207  0.802646  0.886843 -0.061276  0.817798  0.866778 -0.062948  \n35232 -0.047840  0.788576  0.940628 -0.046659  0.799739  0.923667 -0.045932  \n35233 -0.037508  0.779295  0.966001 -0.036288  0.792470  0.945838 -0.035624  \n35234 -0.026217  0.734203  1.022373 -0.022036  0.742804  1.011384 -0.020418  \n\n[29011 rows x 225 columns]",
      "text/html": "<div>\n<style scoped>\n    .dataframe tbody tr th:only-of-type {\n        vertical-align: middle;\n    }\n\n    .dataframe tbody tr th {\n        vertical-align: top;\n    }\n\n    .dataframe thead th {\n        text-align: right;\n    }\n</style>\n<table border=\"1\" class=\"dataframe\">\n  <thead>\n    <tr style=\"text-align: right;\">\n      <th></th>\n      <th>x1</th>\n      <th>y1</th>\n      <th>z1</th>\n      <th>x2</th>\n      <th>y2</th>\n      <th>z2</th>\n      <th>x3</th>\n      <th>y3</th>\n      <th>z3</th>\n      <th>x4</th>\n      <th>...</th>\n      <th>z72</th>\n      <th>x73</th>\n      <th>y73</th>\n      <th>z73</th>\n      <th>x74</th>\n      <th>y74</th>\n      <th>z74</th>\n      <th>x75</th>\n      <th>y75</th>\n      <th>z75</th>\n    </tr>\n  </thead>\n  <tbody>\n    <tr>\n      <th>1</th>\n      <td>0.429909</td>\n      <td>0.299091</td>\n      <td>-1.033196</td>\n      <td>0.457929</td>\n      <td>0.241853</td>\n      <td>-0.964616</td>\n      <td>0.474237</td>\n      <td>0.243988</td>\n      <td>-0.964898</td>\n      <td>0.489387</td>\n      <td>...</td>\n      <td>-0.015277</td>\n      <td>0.705914</td>\n      <td>0.929784</td>\n      <td>-0.020854</td>\n      <td>0.714973</td>\n      <td>0.895617</td>\n      <td>-0.020210</td>\n      <td>0.719473</td>\n      <td>0.867781</td>\n      <td>-0.019419</td>\n    </tr>\n    <tr>\n      <th>2</th>\n      <td>0.429909</td>\n      <td>0.299091</td>\n      <td>-1.033196</td>\n      <td>0.457929</td>\n      <td>0.241853</td>\n      <td>-0.964616</td>\n      <td>0.474237</td>\n      <td>0.243988</td>\n      <td>-0.964898</td>\n      <td>0.489387</td>\n      <td>...</td>\n      <td>-0.015277</td>\n      <td>0.705914</td>\n      <td>0.929784</td>\n      <td>-0.020854</td>\n      <td>0.714973</td>\n      <td>0.895617</td>\n      <td>-0.020210</td>\n      <td>0.719473</td>\n      <td>0.867781</td>\n      <td>-0.019419</td>\n    </tr>\n    <tr>\n      <th>3</th>\n      <td>0.432813</td>\n      <td>0.310793</td>\n      <td>-1.206027</td>\n      <td>0.460014</td>\n      <td>0.253977</td>\n      <td>-1.139681</td>\n      <td>0.475536</td>\n      <td>0.256214</td>\n      <td>-1.139858</td>\n      <td>0.490387</td>\n      <td>...</td>\n      <td>-0.025833</td>\n      <td>0.697252</td>\n      <td>0.873881</td>\n      <td>-0.033462</td>\n      <td>0.707033</td>\n      <td>0.841776</td>\n      <td>-0.032931</td>\n      <td>0.713368</td>\n      <td>0.814074</td>\n      <td>-0.031750</td>\n    </tr>\n    <tr>\n      <th>4</th>\n      <td>0.437205</td>\n      <td>0.306630</td>\n      <td>-1.133030</td>\n      <td>0.462581</td>\n      <td>0.252750</td>\n      <td>-1.060267</td>\n      <td>0.477573</td>\n      <td>0.254981</td>\n      <td>-1.060502</td>\n      <td>0.491673</td>\n      <td>...</td>\n      <td>-0.021447</td>\n      <td>0.692508</td>\n      <td>0.823403</td>\n      <td>-0.029377</td>\n      <td>0.701794</td>\n      <td>0.792851</td>\n      <td>-0.029400</td>\n      <td>0.709057</td>\n      <td>0.765694</td>\n      <td>-0.028588</td>\n    </tr>\n    <tr>\n      <th>5</th>\n      <td>0.437205</td>\n      <td>0.306630</td>\n      <td>-1.133030</td>\n      <td>0.462581</td>\n      <td>0.252750</td>\n      <td>-1.060267</td>\n      <td>0.477573</td>\n      <td>0.254981</td>\n      <td>-1.060502</td>\n      <td>0.491673</td>\n      <td>...</td>\n      <td>-0.021447</td>\n      <td>0.692508</td>\n      <td>0.823403</td>\n      <td>-0.029377</td>\n      <td>0.701794</td>\n      <td>0.792851</td>\n      <td>-0.029400</td>\n      <td>0.709057</td>\n      <td>0.765694</td>\n      <td>-0.028588</td>\n    </tr>\n    <tr>\n      <th>...</th>\n      <td>...</td>\n      <td>...</td>\n      <td>...</td>\n      <td>...</td>\n      <td>...</td>\n      <td>...</td>\n      <td>...</td>\n      <td>...</td>\n      <td>...</td>\n      <td>...</td>\n      <td>...</td>\n      <td>...</td>\n      <td>...</td>\n      <td>...</td>\n      <td>...</td>\n      <td>...</td>\n      <td>...</td>\n      <td>...</td>\n      <td>...</td>\n      <td>...</td>\n      <td>...</td>\n    </tr>\n    <tr>\n      <th>35230</th>\n      <td>0.511456</td>\n      <td>0.460191</td>\n      <td>-0.959940</td>\n      <td>0.534037</td>\n      <td>0.401124</td>\n      <td>-0.899052</td>\n      <td>0.548146</td>\n      <td>0.401731</td>\n      <td>-0.898836</td>\n      <td>0.559430</td>\n      <td>...</td>\n      <td>-0.039919</td>\n      <td>0.809364</td>\n      <td>0.820627</td>\n      <td>-0.052186</td>\n      <td>0.828242</td>\n      <td>0.795007</td>\n      <td>-0.057392</td>\n      <td>0.844519</td>\n      <td>0.771788</td>\n      <td>-0.060988</td>\n    </tr>\n    <tr>\n      <th>35231</th>\n      <td>0.501599</td>\n      <td>0.458881</td>\n      <td>-1.124302</td>\n      <td>0.526439</td>\n      <td>0.400657</td>\n      <td>-1.055216</td>\n      <td>0.540674</td>\n      <td>0.401736</td>\n      <td>-1.055150</td>\n      <td>0.554994</td>\n      <td>...</td>\n      <td>-0.043934</td>\n      <td>0.785507</td>\n      <td>0.907059</td>\n      <td>-0.058207</td>\n      <td>0.802646</td>\n      <td>0.886843</td>\n      <td>-0.061276</td>\n      <td>0.817798</td>\n      <td>0.866778</td>\n      <td>-0.062948</td>\n    </tr>\n    <tr>\n      <th>35232</th>\n      <td>0.505169</td>\n      <td>0.450338</td>\n      <td>-1.266487</td>\n      <td>0.532236</td>\n      <td>0.391213</td>\n      <td>-1.192186</td>\n      <td>0.547755</td>\n      <td>0.393168</td>\n      <td>-1.192205</td>\n      <td>0.561072</td>\n      <td>...</td>\n      <td>-0.037867</td>\n      <td>0.773673</td>\n      <td>0.957604</td>\n      <td>-0.047840</td>\n      <td>0.788576</td>\n      <td>0.940628</td>\n      <td>-0.046659</td>\n      <td>0.799739</td>\n      <td>0.923667</td>\n      <td>-0.045932</td>\n    </tr>\n    <tr>\n      <th>35233</th>\n      <td>0.518348</td>\n      <td>0.452888</td>\n      <td>-1.254290</td>\n      <td>0.540892</td>\n      <td>0.397112</td>\n      <td>-1.181628</td>\n      <td>0.555048</td>\n      <td>0.398733</td>\n      <td>-1.181709</td>\n      <td>0.567229</td>\n      <td>...</td>\n      <td>-0.029353</td>\n      <td>0.762456</td>\n      <td>0.991850</td>\n      <td>-0.037508</td>\n      <td>0.779295</td>\n      <td>0.966001</td>\n      <td>-0.036288</td>\n      <td>0.792470</td>\n      <td>0.945838</td>\n      <td>-0.035624</td>\n    </tr>\n    <tr>\n      <th>35234</th>\n      <td>0.522974</td>\n      <td>0.458728</td>\n      <td>-1.299674</td>\n      <td>0.544999</td>\n      <td>0.402066</td>\n      <td>-1.227341</td>\n      <td>0.558838</td>\n      <td>0.402731</td>\n      <td>-1.227251</td>\n      <td>0.571938</td>\n      <td>...</td>\n      <td>-0.022544</td>\n      <td>0.722687</td>\n      <td>1.041104</td>\n      <td>-0.026217</td>\n      <td>0.734203</td>\n      <td>1.022373</td>\n      <td>-0.022036</td>\n      <td>0.742804</td>\n      <td>1.011384</td>\n      <td>-0.020418</td>\n    </tr>\n  </tbody>\n</table>\n<p>29011 rows × 225 columns</p>\n</div>"
     },
     "execution_count": 20,
     "metadata": {},
     "output_type": "execute_result"
    }
   ],
   "source": [
    "feature"
   ],
   "metadata": {
    "collapsed": false,
    "pycharm": {
     "name": "#%%\n"
    }
   }
  },
  {
   "cell_type": "code",
   "execution_count": 21,
   "outputs": [
    {
     "data": {
      "text/plain": "(29011, 138)"
     },
     "execution_count": 21,
     "metadata": {},
     "output_type": "execute_result"
    }
   ],
   "source": [
    "feature = feature.drop(a, axis=1)\n",
    "feature = feature.drop(b, axis=1)\n",
    "feature = feature.drop(c, axis=1)\n",
    "feature\n",
    "feature.shape"
   ],
   "metadata": {
    "collapsed": false,
    "pycharm": {
     "name": "#%%\n"
    }
   }
  },
  {
   "cell_type": "code",
   "execution_count": 20,
   "outputs": [],
   "source": [
    "# feature = df_drop_class.drop(a, axis='columns')\n",
    "# feature"
   ],
   "metadata": {
    "collapsed": false,
    "pycharm": {
     "name": "#%%\n"
    }
   }
  },
  {
   "cell_type": "code",
   "execution_count": 23,
   "outputs": [
    {
     "data": {
      "text/plain": "(29011,)"
     },
     "execution_count": 23,
     "metadata": {},
     "output_type": "execute_result"
    }
   ],
   "source": [
    "label\n",
    "label.shape"
   ],
   "metadata": {
    "collapsed": false,
    "pycharm": {
     "name": "#%%\n"
    }
   }
  },
  {
   "cell_type": "code",
   "execution_count": 24,
   "outputs": [
    {
     "name": "stdout",
     "output_type": "stream",
     "text": [
      "Feature = (29011, 138)  ; Label = (29011,)\n",
      "{'อู', 'อ๋', 'แอ', 'อ่', 'ฤ', 'อำ', 'อ้', 'อุ', 'อา', 'ทัณฑฆาต', 'ฯ', 'อ๊', 'เอ', 'อะ', 'ไม้หันอากาศ', 'ไม้ไต่คู้'}\n"
     ]
    }
   ],
   "source": [
    "print(f'Feature = {feature.shape}  ; Label = {label.shape}')\n",
    "print(set(label))"
   ],
   "metadata": {
    "collapsed": false,
    "pycharm": {
     "name": "#%%\n"
    }
   }
  },
  {
   "cell_type": "code",
   "execution_count": 25,
   "outputs": [],
   "source": [
    "from sklearn.model_selection import train_test_split"
   ],
   "metadata": {
    "collapsed": false,
    "pycharm": {
     "name": "#%%\n"
    }
   }
  },
  {
   "cell_type": "code",
   "execution_count": 26,
   "outputs": [],
   "source": [
    "x_train, x_test, y_train, y_test = train_test_split(feature, label,test_size=0.2, shuffle= True, random_state= 42)"
   ],
   "metadata": {
    "collapsed": false,
    "pycharm": {
     "name": "#%%\n"
    }
   }
  },
  {
   "cell_type": "code",
   "execution_count": 27,
   "outputs": [
    {
     "name": "stdout",
     "output_type": "stream",
     "text": [
      "(23208, 138) (5803, 138) (23208,) (5803,)\n"
     ]
    }
   ],
   "source": [
    "print(x_train.shape, x_test.shape, y_train.shape, y_test.shape)"
   ],
   "metadata": {
    "collapsed": false,
    "pycharm": {
     "name": "#%%\n"
    }
   }
  },
  {
   "cell_type": "code",
   "execution_count": 32,
   "outputs": [],
   "source": [
    "# x_train /= 255.0\n",
    "# x_test /= 255.0"
   ],
   "metadata": {
    "collapsed": false,
    "pycharm": {
     "name": "#%%\n"
    }
   }
  },
  {
   "cell_type": "code",
   "execution_count": 33,
   "outputs": [
    {
     "name": "stdout",
     "output_type": "stream",
     "text": [
      "x_train = (23208, 138), x_val = (2901, 138), x_test = (2902, 138)\n",
      "y_train = (23208,), y_val = (2901,), y_test = (2902,)\n"
     ]
    }
   ],
   "source": [
    "x_val, x_test, y_val, y_test = train_test_split(x_test, y_test, test_size=0.5, shuffle=True, random_state=42)\n",
    "print('x_train = {}, x_val = {}, x_test = {}'.format(x_train.shape, x_val.shape, x_test.shape))\n",
    "print('y_train = {}, y_val = {}, y_test = {}'.format(y_train.shape, y_val.shape, y_test.shape))"
   ],
   "metadata": {
    "collapsed": false,
    "pycharm": {
     "name": "#%%\n"
    }
   }
  },
  {
   "cell_type": "code",
   "execution_count": 34,
   "outputs": [
    {
     "name": "stdout",
     "output_type": "stream",
     "text": [
      "x_train = (23208, 138), x_val = (2901, 138), x_test = (2902, 138)\n",
      "y_train = (23208,), y_val = (2901,), y_test = (2902,)\n",
      "x_val_class = (23208, 16), y_val_class = (2901, 16)\n",
      "{'อู', 'อ๋', 'แอ', 'อ่', 'อ๊', 'ฯ', 'ฤ', 'อำ', 'อ้', 'อุ', 'ทัณฑฆาต', 'เอ', 'อา', 'ไม้หันอากาศ', 'อะ', 'ไม้ไต่คู้'}\n"
     ]
    }
   ],
   "source": [
    "# One-Hot encoding\n",
    "x_val_class = pd.get_dummies(y_train).values\n",
    "y_val_class = pd.get_dummies(y_val).values\n",
    "print('x_train = {}, x_val = {}, x_test = {}'.format(x_train.shape, x_val.shape, x_test.shape))\n",
    "print('y_train = {}, y_val = {}, y_test = {}'.format(y_train.shape, y_val.shape, y_test.shape))\n",
    "print('x_val_class = {}, y_val_class = {}'.format(x_val_class.shape, y_val_class.shape))\n",
    "print(set(y_val))"
   ],
   "metadata": {
    "collapsed": false,
    "pycharm": {
     "name": "#%%\n"
    }
   }
  },
  {
   "cell_type": "code",
   "execution_count": 35,
   "outputs": [],
   "source": [
    "from keras.models import Sequential\n",
    "from keras.layers import Conv2D, Dense, MaxPool2D, Dropout, Flatten, AveragePooling2D\n",
    "from tensorflow.keras.utils import Sequence\n",
    "import numpy as np\n",
    "from sklearn.metrics import classification_report, confusion_matrix, recall_score, precision_score\n",
    "from sklearn.metrics import f1_score, accuracy_score\n",
    "import plotly.figure_factory as ff\n",
    "import plotly\n",
    "import plotly.graph_objs as go\n",
    "import pickle\n",
    "from tensorflow.keras.callbacks import EarlyStopping, ModelCheckpoint\n",
    "from statistics import mode, StatisticsError\n",
    "from keras.layers import LSTM\n",
    "from keras.layers import TimeDistributed\n",
    "from keras.layers import MaxPooling2D\n",
    "from tensorflow.keras.optimizers import Adam\n",
    "from tensorflow.keras import layers\n",
    "from tensorflow.keras import regularizers\n",
    "import time"
   ],
   "metadata": {
    "collapsed": false,
    "pycharm": {
     "name": "#%%\n"
    }
   }
  },
  {
   "cell_type": "code",
   "execution_count": 36,
   "outputs": [
    {
     "data": {
      "text/plain": "(23208, 138)"
     },
     "execution_count": 36,
     "metadata": {},
     "output_type": "execute_result"
    }
   ],
   "source": [
    "x_train.shape"
   ],
   "metadata": {
    "collapsed": false,
    "pycharm": {
     "name": "#%%\n"
    }
   }
  },
  {
   "cell_type": "code",
   "execution_count": 37,
   "outputs": [],
   "source": [
    "step = x_train.shape[1]"
   ],
   "metadata": {
    "collapsed": false,
    "pycharm": {
     "name": "#%%\n"
    }
   }
  },
  {
   "cell_type": "code",
   "execution_count": 38,
   "outputs": [],
   "source": [
    "# DataGenerator\n",
    "class DataGenerator(Sequence):\n",
    "    def __init__(self, x_set, y_set, batch_size):\n",
    "        self.x, self.y = x_set, y_set\n",
    "        self.batch_size = batch_size\n",
    "\n",
    "    def __len__(self):\n",
    "        return int(np.ceil(len(self.x) / float(self.batch_size)))\n",
    "\n",
    "    def __getitem__(self, idx):\n",
    "        batch_x = self.x[idx * self.batch_size:(idx + 1) * self.batch_size]\n",
    "        batch_y = self.y[idx * self.batch_size:(idx + 1) * self.batch_size]\n",
    "        return batch_x, batch_y\n",
    "\n",
    "train_gen = DataGenerator(x_train, x_val_class, 16)\n",
    "test_gen = DataGenerator(x_val, y_val_class, 16)"
   ],
   "metadata": {
    "collapsed": false,
    "pycharm": {
     "name": "#%%\n"
    }
   }
  },
  {
   "cell_type": "code",
   "execution_count": 39,
   "outputs": [
    {
     "data": {
      "text/plain": "class\nทัณฑฆาต        1854\nฤ              1950\nอะ             1938\nอา             1946\nอำ             1898\nอุ             1990\nอู             1934\nอ่             1599\nอ้             1629\nอ๊             1636\nอ๋             1632\nฯ              1570\nเอ             1899\nแอ             1929\nไม้หันอากาศ    1772\nไม้ไต่คู้      1835\ndtype: int64"
     },
     "execution_count": 39,
     "metadata": {},
     "output_type": "execute_result"
    }
   ],
   "source": [
    "check_group = df_drop_ax0.groupby('class').size()\n",
    "check_group[:]"
   ],
   "metadata": {
    "collapsed": false,
    "pycharm": {
     "name": "#%%\n"
    }
   }
  },
  {
   "cell_type": "code",
   "execution_count": 42,
   "outputs": [
    {
     "data": {
      "text/plain": "138"
     },
     "execution_count": 42,
     "metadata": {},
     "output_type": "execute_result"
    }
   ],
   "source": [
    "x_train.shape[1]"
   ],
   "metadata": {
    "collapsed": false,
    "pycharm": {
     "name": "#%%\n"
    }
   }
  },
  {
   "cell_type": "code",
   "execution_count": 43,
   "outputs": [
    {
     "name": "stdout",
     "output_type": "stream",
     "text": [
      "Model: \"sequential_1\"\n",
      "_________________________________________________________________\n",
      " Layer (type)                Output Shape              Param #   \n",
      "=================================================================\n",
      " lstm (LSTM)                 (None, 138, 225)          204300    \n",
      "                                                                 \n",
      " lstm_1 (LSTM)               (None, 138, 128)          181248    \n",
      "                                                                 \n",
      " lstm_2 (LSTM)               (None, 128)               131584    \n",
      "                                                                 \n",
      " dense (Dense)               (None, 128)               16512     \n",
      "                                                                 \n",
      " dense_1 (Dense)             (None, 84)                10836     \n",
      "                                                                 \n",
      " dense_2 (Dense)             (None, 16)                1360      \n",
      "                                                                 \n",
      "=================================================================\n",
      "Total params: 545,840\n",
      "Trainable params: 545,840\n",
      "Non-trainable params: 0\n",
      "_________________________________________________________________\n"
     ]
    }
   ],
   "source": [
    "def LSTM_model_TwoHand():\n",
    "    model = Sequential()\n",
    "\n",
    "    # model.add(LSTM(units = 32, input_shape=(step, 1), activation= 'tanh'))\n",
    "\n",
    "    model.add(LSTM(units = 225, input_shape=(x_train.shape[1], 1), activation= 'tanh', return_sequences= True))\n",
    "    model.add(LSTM(units = 128, activation='tanh', return_sequences=True))\n",
    "    model.add(LSTM(units= 128, activation= 'tanh'))\n",
    "\n",
    "    # model.add(Flatten())\n",
    "    model.add(Dense(units = 128, activation = 'tanh'))\n",
    "    #model.add(Dropout(0.2))\n",
    "    model.add(Dense(units = 84, activation = 'tanh'))\n",
    "    #model.add(Dropout(0.2))\n",
    "    model.add(Dense(units= 16, activation= 'softmax'))\n",
    "    model.compile(optimizer= 'adam', loss='categorical_crossentropy', metrics=['accuracy'])\n",
    "    return model\n",
    "\n",
    "model = LSTM_model_TwoHand()\n",
    "model.build()\n",
    "model.summary()\n"
   ],
   "metadata": {
    "collapsed": false,
    "pycharm": {
     "name": "#%%\n"
    }
   }
  },
  {
   "cell_type": "code",
   "execution_count": 44,
   "outputs": [
    {
     "name": "stdout",
     "output_type": "stream",
     "text": [
      "Epoch 1/50\n",
      "1451/1451 [==============================] - 46s 27ms/step - loss: 2.6420 - accuracy: 0.1191 - val_loss: 2.0423 - val_accuracy: 0.3216\n",
      "Epoch 2/50\n",
      "1451/1451 [==============================] - 39s 27ms/step - loss: 2.6288 - accuracy: 0.1340 - val_loss: 2.7983 - val_accuracy: 0.0634\n",
      "Epoch 3/50\n",
      "1451/1451 [==============================] - 38s 26ms/step - loss: 2.7921 - accuracy: 0.0647 - val_loss: 2.7916 - val_accuracy: 0.0665\n",
      "Epoch 4/50\n",
      "1451/1451 [==============================] - 38s 26ms/step - loss: 2.7908 - accuracy: 0.0661 - val_loss: 2.7883 - val_accuracy: 0.0669\n",
      "Epoch 5/50\n",
      "1451/1451 [==============================] - 38s 26ms/step - loss: 2.7915 - accuracy: 0.0626 - val_loss: 2.7865 - val_accuracy: 0.0641\n",
      "Epoch 6/50\n",
      "1451/1451 [==============================] - 38s 26ms/step - loss: 2.7902 - accuracy: 0.0630 - val_loss: 2.7861 - val_accuracy: 0.0738\n",
      "Epoch 7/50\n",
      "1451/1451 [==============================] - 38s 26ms/step - loss: 2.7906 - accuracy: 0.0637 - val_loss: 2.7889 - val_accuracy: 0.0624\n",
      "Epoch 8/50\n",
      "1451/1451 [==============================] - 38s 26ms/step - loss: 2.7897 - accuracy: 0.0651 - val_loss: 2.7831 - val_accuracy: 0.0665\n",
      "Epoch 9/50\n",
      "1451/1451 [==============================] - 38s 26ms/step - loss: 2.7916 - accuracy: 0.0643 - val_loss: 2.7797 - val_accuracy: 0.0707\n",
      "Epoch 10/50\n",
      "1451/1451 [==============================] - 38s 26ms/step - loss: 2.7891 - accuracy: 0.0648 - val_loss: 2.7836 - val_accuracy: 0.0738\n",
      "Epoch 11/50\n",
      "1451/1451 [==============================] - 41s 28ms/step - loss: 2.7900 - accuracy: 0.0630 - val_loss: 2.7906 - val_accuracy: 0.0665\n",
      "Epoch 12/50\n",
      "1451/1451 [==============================] - 40s 28ms/step - loss: 2.7912 - accuracy: 0.0643 - val_loss: 2.7853 - val_accuracy: 0.0665\n",
      "Epoch 13/50\n",
      "1451/1451 [==============================] - 38s 26ms/step - loss: 2.7906 - accuracy: 0.0648 - val_loss: 2.7818 - val_accuracy: 0.0669\n",
      "Epoch 14/50\n",
      "1451/1451 [==============================] - 39s 27ms/step - loss: 2.7908 - accuracy: 0.0618 - val_loss: 2.7860 - val_accuracy: 0.0545\n",
      "Epoch 15/50\n",
      "1451/1451 [==============================] - 39s 27ms/step - loss: 2.7899 - accuracy: 0.0640 - val_loss: 2.7788 - val_accuracy: 0.0693\n",
      "Epoch 16/50\n",
      "1451/1451 [==============================] - 41s 28ms/step - loss: 2.7910 - accuracy: 0.0623 - val_loss: 2.7879 - val_accuracy: 0.0707\n",
      "Epoch 17/50\n",
      "1451/1451 [==============================] - 42s 29ms/step - loss: 2.7904 - accuracy: 0.0637 - val_loss: 2.7884 - val_accuracy: 0.0641\n",
      "Epoch 18/50\n",
      "1451/1451 [==============================] - 41s 28ms/step - loss: 2.7895 - accuracy: 0.0640 - val_loss: 2.7827 - val_accuracy: 0.0707\n",
      "Epoch 19/50\n",
      "1451/1451 [==============================] - 42s 29ms/step - loss: 2.7911 - accuracy: 0.0639 - val_loss: 2.7901 - val_accuracy: 0.0634\n",
      "Epoch 20/50\n",
      "1451/1451 [==============================] - 42s 29ms/step - loss: 2.7918 - accuracy: 0.0630 - val_loss: 2.7781 - val_accuracy: 0.0707\n",
      "Epoch 21/50\n",
      "1451/1451 [==============================] - 42s 29ms/step - loss: 2.7901 - accuracy: 0.0631 - val_loss: 2.7925 - val_accuracy: 0.0624\n",
      "Epoch 22/50\n",
      "1451/1451 [==============================] - 41s 28ms/step - loss: 2.7895 - accuracy: 0.0651 - val_loss: 2.7814 - val_accuracy: 0.0738\n",
      "Epoch 23/50\n",
      "1451/1451 [==============================] - 39s 27ms/step - loss: 2.7900 - accuracy: 0.0652 - val_loss: 2.7972 - val_accuracy: 0.0624\n",
      "Epoch 24/50\n",
      "1451/1451 [==============================] - 41s 29ms/step - loss: 2.7906 - accuracy: 0.0631 - val_loss: 2.7889 - val_accuracy: 0.0665\n",
      "Epoch 25/50\n",
      "1451/1451 [==============================] - 41s 28ms/step - loss: 2.7916 - accuracy: 0.0636 - val_loss: 2.7905 - val_accuracy: 0.0700\n",
      "Epoch 26/50\n",
      "1451/1451 [==============================] - 42s 29ms/step - loss: 2.7895 - accuracy: 0.0655 - val_loss: 2.7785 - val_accuracy: 0.0665\n",
      "Epoch 27/50\n",
      "1451/1451 [==============================] - 43s 29ms/step - loss: 2.7901 - accuracy: 0.0640 - val_loss: 2.7906 - val_accuracy: 0.0665\n",
      "Epoch 28/50\n",
      "1451/1451 [==============================] - 43s 29ms/step - loss: 2.7906 - accuracy: 0.0651 - val_loss: 2.7951 - val_accuracy: 0.0700\n",
      "Epoch 29/50\n",
      "1451/1451 [==============================] - 40s 28ms/step - loss: 2.7913 - accuracy: 0.0621 - val_loss: 2.7901 - val_accuracy: 0.0738\n",
      "Epoch 30/50\n",
      "1451/1451 [==============================] - 41s 28ms/step - loss: 2.7904 - accuracy: 0.0667 - val_loss: 2.7918 - val_accuracy: 0.0665\n",
      "Epoch 31/50\n",
      "1451/1451 [==============================] - 39s 27ms/step - loss: 2.7900 - accuracy: 0.0655 - val_loss: 2.7951 - val_accuracy: 0.0693\n",
      "Epoch 32/50\n",
      "1451/1451 [==============================] - 42s 29ms/step - loss: 2.7908 - accuracy: 0.0597 - val_loss: 2.7967 - val_accuracy: 0.0738\n",
      "Epoch 33/50\n",
      "1451/1451 [==============================] - 41s 28ms/step - loss: 2.7909 - accuracy: 0.0633 - val_loss: 2.7871 - val_accuracy: 0.0624\n",
      "Epoch 34/50\n",
      "1451/1451 [==============================] - ETA: 0s - loss: 2.7904 - accuracy: 0.0655"
     ]
    },
    {
     "ename": "KeyboardInterrupt",
     "evalue": "",
     "output_type": "error",
     "traceback": [
      "\u001B[1;31m---------------------------------------------------------------------------\u001B[0m",
      "\u001B[1;31mKeyboardInterrupt\u001B[0m                         Traceback (most recent call last)",
      "\u001B[1;32m~\\AppData\\Local\\Temp/ipykernel_6448/151596997.py\u001B[0m in \u001B[0;36m<module>\u001B[1;34m\u001B[0m\n\u001B[0;32m      1\u001B[0m \u001B[0mes\u001B[0m \u001B[1;33m=\u001B[0m \u001B[0mEarlyStopping\u001B[0m\u001B[1;33m(\u001B[0m\u001B[0mmonitor\u001B[0m\u001B[1;33m=\u001B[0m\u001B[1;34m'val_loss'\u001B[0m\u001B[1;33m,\u001B[0m \u001B[0mverbose\u001B[0m\u001B[1;33m=\u001B[0m\u001B[1;36m1\u001B[0m\u001B[1;33m,\u001B[0m \u001B[0mpatience\u001B[0m\u001B[1;33m=\u001B[0m\u001B[1;36m5\u001B[0m\u001B[1;33m)\u001B[0m \u001B[1;31m#\u001B[0m\u001B[1;33m\u001B[0m\u001B[1;33m\u001B[0m\u001B[0m\n\u001B[0;32m      2\u001B[0m \u001B[0mmc\u001B[0m \u001B[1;33m=\u001B[0m \u001B[0mModelCheckpoint\u001B[0m\u001B[1;33m(\u001B[0m\u001B[1;34m'TL1 tr300.h5'\u001B[0m\u001B[1;33m,\u001B[0m \u001B[0mmonitor\u001B[0m\u001B[1;33m=\u001B[0m\u001B[1;34m'val_accuracy'\u001B[0m\u001B[1;33m,\u001B[0m \u001B[0mverbose\u001B[0m\u001B[1;33m=\u001B[0m\u001B[1;36m1\u001B[0m\u001B[1;33m,\u001B[0m \u001B[0msave_best_only\u001B[0m\u001B[1;33m=\u001B[0m\u001B[1;32mTrue\u001B[0m\u001B[1;33m)\u001B[0m \u001B[1;31m#\u001B[0m\u001B[1;33m\u001B[0m\u001B[1;33m\u001B[0m\u001B[0m\n\u001B[1;32m----> 3\u001B[1;33m \u001B[0mMy_model\u001B[0m \u001B[1;33m=\u001B[0m \u001B[0mmodel\u001B[0m\u001B[1;33m.\u001B[0m\u001B[0mfit\u001B[0m\u001B[1;33m(\u001B[0m\u001B[0mtrain_gen\u001B[0m\u001B[1;33m,\u001B[0m \u001B[0mepochs\u001B[0m\u001B[1;33m=\u001B[0m\u001B[1;36m50\u001B[0m\u001B[1;33m,\u001B[0m \u001B[0mverbose\u001B[0m\u001B[1;33m=\u001B[0m\u001B[1;36m1\u001B[0m\u001B[1;33m,\u001B[0m \u001B[0mvalidation_data\u001B[0m\u001B[1;33m=\u001B[0m\u001B[0mtest_gen\u001B[0m\u001B[1;33m)\u001B[0m\u001B[1;33m\u001B[0m\u001B[1;33m\u001B[0m\u001B[0m\n\u001B[0m\u001B[0;32m      4\u001B[0m \u001B[1;31m#My_model = model.fit(train_gen, epochs=50, verbose=1, validation_data=test_gen, callbacks=[es, mc])\u001B[0m\u001B[1;33m\u001B[0m\u001B[1;33m\u001B[0m\u001B[1;33m\u001B[0m\u001B[0m\n",
      "\u001B[1;32mC:\\ProgramData\\Miniconda3\\envs\\tf2\\lib\\site-packages\\keras\\utils\\traceback_utils.py\u001B[0m in \u001B[0;36merror_handler\u001B[1;34m(*args, **kwargs)\u001B[0m\n\u001B[0;32m     62\u001B[0m     \u001B[0mfiltered_tb\u001B[0m \u001B[1;33m=\u001B[0m \u001B[1;32mNone\u001B[0m\u001B[1;33m\u001B[0m\u001B[1;33m\u001B[0m\u001B[0m\n\u001B[0;32m     63\u001B[0m     \u001B[1;32mtry\u001B[0m\u001B[1;33m:\u001B[0m\u001B[1;33m\u001B[0m\u001B[1;33m\u001B[0m\u001B[0m\n\u001B[1;32m---> 64\u001B[1;33m       \u001B[1;32mreturn\u001B[0m \u001B[0mfn\u001B[0m\u001B[1;33m(\u001B[0m\u001B[1;33m*\u001B[0m\u001B[0margs\u001B[0m\u001B[1;33m,\u001B[0m \u001B[1;33m**\u001B[0m\u001B[0mkwargs\u001B[0m\u001B[1;33m)\u001B[0m\u001B[1;33m\u001B[0m\u001B[1;33m\u001B[0m\u001B[0m\n\u001B[0m\u001B[0;32m     65\u001B[0m     \u001B[1;32mexcept\u001B[0m \u001B[0mException\u001B[0m \u001B[1;32mas\u001B[0m \u001B[0me\u001B[0m\u001B[1;33m:\u001B[0m  \u001B[1;31m# pylint: disable=broad-except\u001B[0m\u001B[1;33m\u001B[0m\u001B[1;33m\u001B[0m\u001B[0m\n\u001B[0;32m     66\u001B[0m       \u001B[0mfiltered_tb\u001B[0m \u001B[1;33m=\u001B[0m \u001B[0m_process_traceback_frames\u001B[0m\u001B[1;33m(\u001B[0m\u001B[0me\u001B[0m\u001B[1;33m.\u001B[0m\u001B[0m__traceback__\u001B[0m\u001B[1;33m)\u001B[0m\u001B[1;33m\u001B[0m\u001B[1;33m\u001B[0m\u001B[0m\n",
      "\u001B[1;32mC:\\ProgramData\\Miniconda3\\envs\\tf2\\lib\\site-packages\\keras\\engine\\training.py\u001B[0m in \u001B[0;36mfit\u001B[1;34m(self, x, y, batch_size, epochs, verbose, callbacks, validation_split, validation_data, shuffle, class_weight, sample_weight, initial_epoch, steps_per_epoch, validation_steps, validation_batch_size, validation_freq, max_queue_size, workers, use_multiprocessing)\u001B[0m\n\u001B[0;32m   1418\u001B[0m                 \u001B[0mmodel\u001B[0m\u001B[1;33m=\u001B[0m\u001B[0mself\u001B[0m\u001B[1;33m,\u001B[0m\u001B[1;33m\u001B[0m\u001B[1;33m\u001B[0m\u001B[0m\n\u001B[0;32m   1419\u001B[0m                 steps_per_execution=self._steps_per_execution)\n\u001B[1;32m-> 1420\u001B[1;33m           val_logs = self.evaluate(\n\u001B[0m\u001B[0;32m   1421\u001B[0m               \u001B[0mx\u001B[0m\u001B[1;33m=\u001B[0m\u001B[0mval_x\u001B[0m\u001B[1;33m,\u001B[0m\u001B[1;33m\u001B[0m\u001B[1;33m\u001B[0m\u001B[0m\n\u001B[0;32m   1422\u001B[0m               \u001B[0my\u001B[0m\u001B[1;33m=\u001B[0m\u001B[0mval_y\u001B[0m\u001B[1;33m,\u001B[0m\u001B[1;33m\u001B[0m\u001B[1;33m\u001B[0m\u001B[0m\n",
      "\u001B[1;32mC:\\ProgramData\\Miniconda3\\envs\\tf2\\lib\\site-packages\\keras\\utils\\traceback_utils.py\u001B[0m in \u001B[0;36merror_handler\u001B[1;34m(*args, **kwargs)\u001B[0m\n\u001B[0;32m     62\u001B[0m     \u001B[0mfiltered_tb\u001B[0m \u001B[1;33m=\u001B[0m \u001B[1;32mNone\u001B[0m\u001B[1;33m\u001B[0m\u001B[1;33m\u001B[0m\u001B[0m\n\u001B[0;32m     63\u001B[0m     \u001B[1;32mtry\u001B[0m\u001B[1;33m:\u001B[0m\u001B[1;33m\u001B[0m\u001B[1;33m\u001B[0m\u001B[0m\n\u001B[1;32m---> 64\u001B[1;33m       \u001B[1;32mreturn\u001B[0m \u001B[0mfn\u001B[0m\u001B[1;33m(\u001B[0m\u001B[1;33m*\u001B[0m\u001B[0margs\u001B[0m\u001B[1;33m,\u001B[0m \u001B[1;33m**\u001B[0m\u001B[0mkwargs\u001B[0m\u001B[1;33m)\u001B[0m\u001B[1;33m\u001B[0m\u001B[1;33m\u001B[0m\u001B[0m\n\u001B[0m\u001B[0;32m     65\u001B[0m     \u001B[1;32mexcept\u001B[0m \u001B[0mException\u001B[0m \u001B[1;32mas\u001B[0m \u001B[0me\u001B[0m\u001B[1;33m:\u001B[0m  \u001B[1;31m# pylint: disable=broad-except\u001B[0m\u001B[1;33m\u001B[0m\u001B[1;33m\u001B[0m\u001B[0m\n\u001B[0;32m     66\u001B[0m       \u001B[0mfiltered_tb\u001B[0m \u001B[1;33m=\u001B[0m \u001B[0m_process_traceback_frames\u001B[0m\u001B[1;33m(\u001B[0m\u001B[0me\u001B[0m\u001B[1;33m.\u001B[0m\u001B[0m__traceback__\u001B[0m\u001B[1;33m)\u001B[0m\u001B[1;33m\u001B[0m\u001B[1;33m\u001B[0m\u001B[0m\n",
      "\u001B[1;32mC:\\ProgramData\\Miniconda3\\envs\\tf2\\lib\\site-packages\\keras\\engine\\training.py\u001B[0m in \u001B[0;36mevaluate\u001B[1;34m(self, x, y, batch_size, verbose, sample_weight, steps, callbacks, max_queue_size, workers, use_multiprocessing, return_dict, **kwargs)\u001B[0m\n\u001B[0;32m   1714\u001B[0m             \u001B[1;32mwith\u001B[0m \u001B[0mtf\u001B[0m\u001B[1;33m.\u001B[0m\u001B[0mprofiler\u001B[0m\u001B[1;33m.\u001B[0m\u001B[0mexperimental\u001B[0m\u001B[1;33m.\u001B[0m\u001B[0mTrace\u001B[0m\u001B[1;33m(\u001B[0m\u001B[1;34m'test'\u001B[0m\u001B[1;33m,\u001B[0m \u001B[0mstep_num\u001B[0m\u001B[1;33m=\u001B[0m\u001B[0mstep\u001B[0m\u001B[1;33m,\u001B[0m \u001B[0m_r\u001B[0m\u001B[1;33m=\u001B[0m\u001B[1;36m1\u001B[0m\u001B[1;33m)\u001B[0m\u001B[1;33m:\u001B[0m\u001B[1;33m\u001B[0m\u001B[1;33m\u001B[0m\u001B[0m\n\u001B[0;32m   1715\u001B[0m               \u001B[0mcallbacks\u001B[0m\u001B[1;33m.\u001B[0m\u001B[0mon_test_batch_begin\u001B[0m\u001B[1;33m(\u001B[0m\u001B[0mstep\u001B[0m\u001B[1;33m)\u001B[0m\u001B[1;33m\u001B[0m\u001B[1;33m\u001B[0m\u001B[0m\n\u001B[1;32m-> 1716\u001B[1;33m               \u001B[0mtmp_logs\u001B[0m \u001B[1;33m=\u001B[0m \u001B[0mself\u001B[0m\u001B[1;33m.\u001B[0m\u001B[0mtest_function\u001B[0m\u001B[1;33m(\u001B[0m\u001B[0miterator\u001B[0m\u001B[1;33m)\u001B[0m\u001B[1;33m\u001B[0m\u001B[1;33m\u001B[0m\u001B[0m\n\u001B[0m\u001B[0;32m   1717\u001B[0m               \u001B[1;32mif\u001B[0m \u001B[0mdata_handler\u001B[0m\u001B[1;33m.\u001B[0m\u001B[0mshould_sync\u001B[0m\u001B[1;33m:\u001B[0m\u001B[1;33m\u001B[0m\u001B[1;33m\u001B[0m\u001B[0m\n\u001B[0;32m   1718\u001B[0m                 \u001B[0mcontext\u001B[0m\u001B[1;33m.\u001B[0m\u001B[0masync_wait\u001B[0m\u001B[1;33m(\u001B[0m\u001B[1;33m)\u001B[0m\u001B[1;33m\u001B[0m\u001B[1;33m\u001B[0m\u001B[0m\n",
      "\u001B[1;32mC:\\ProgramData\\Miniconda3\\envs\\tf2\\lib\\site-packages\\tensorflow\\python\\util\\traceback_utils.py\u001B[0m in \u001B[0;36merror_handler\u001B[1;34m(*args, **kwargs)\u001B[0m\n\u001B[0;32m    148\u001B[0m     \u001B[0mfiltered_tb\u001B[0m \u001B[1;33m=\u001B[0m \u001B[1;32mNone\u001B[0m\u001B[1;33m\u001B[0m\u001B[1;33m\u001B[0m\u001B[0m\n\u001B[0;32m    149\u001B[0m     \u001B[1;32mtry\u001B[0m\u001B[1;33m:\u001B[0m\u001B[1;33m\u001B[0m\u001B[1;33m\u001B[0m\u001B[0m\n\u001B[1;32m--> 150\u001B[1;33m       \u001B[1;32mreturn\u001B[0m \u001B[0mfn\u001B[0m\u001B[1;33m(\u001B[0m\u001B[1;33m*\u001B[0m\u001B[0margs\u001B[0m\u001B[1;33m,\u001B[0m \u001B[1;33m**\u001B[0m\u001B[0mkwargs\u001B[0m\u001B[1;33m)\u001B[0m\u001B[1;33m\u001B[0m\u001B[1;33m\u001B[0m\u001B[0m\n\u001B[0m\u001B[0;32m    151\u001B[0m     \u001B[1;32mexcept\u001B[0m \u001B[0mException\u001B[0m \u001B[1;32mas\u001B[0m \u001B[0me\u001B[0m\u001B[1;33m:\u001B[0m\u001B[1;33m\u001B[0m\u001B[1;33m\u001B[0m\u001B[0m\n\u001B[0;32m    152\u001B[0m       \u001B[0mfiltered_tb\u001B[0m \u001B[1;33m=\u001B[0m \u001B[0m_process_traceback_frames\u001B[0m\u001B[1;33m(\u001B[0m\u001B[0me\u001B[0m\u001B[1;33m.\u001B[0m\u001B[0m__traceback__\u001B[0m\u001B[1;33m)\u001B[0m\u001B[1;33m\u001B[0m\u001B[1;33m\u001B[0m\u001B[0m\n",
      "\u001B[1;32mC:\\ProgramData\\Miniconda3\\envs\\tf2\\lib\\site-packages\\tensorflow\\python\\eager\\def_function.py\u001B[0m in \u001B[0;36m__call__\u001B[1;34m(self, *args, **kwds)\u001B[0m\n\u001B[0;32m    913\u001B[0m \u001B[1;33m\u001B[0m\u001B[0m\n\u001B[0;32m    914\u001B[0m       \u001B[1;32mwith\u001B[0m \u001B[0mOptionalXlaContext\u001B[0m\u001B[1;33m(\u001B[0m\u001B[0mself\u001B[0m\u001B[1;33m.\u001B[0m\u001B[0m_jit_compile\u001B[0m\u001B[1;33m)\u001B[0m\u001B[1;33m:\u001B[0m\u001B[1;33m\u001B[0m\u001B[1;33m\u001B[0m\u001B[0m\n\u001B[1;32m--> 915\u001B[1;33m         \u001B[0mresult\u001B[0m \u001B[1;33m=\u001B[0m \u001B[0mself\u001B[0m\u001B[1;33m.\u001B[0m\u001B[0m_call\u001B[0m\u001B[1;33m(\u001B[0m\u001B[1;33m*\u001B[0m\u001B[0margs\u001B[0m\u001B[1;33m,\u001B[0m \u001B[1;33m**\u001B[0m\u001B[0mkwds\u001B[0m\u001B[1;33m)\u001B[0m\u001B[1;33m\u001B[0m\u001B[1;33m\u001B[0m\u001B[0m\n\u001B[0m\u001B[0;32m    916\u001B[0m \u001B[1;33m\u001B[0m\u001B[0m\n\u001B[0;32m    917\u001B[0m       \u001B[0mnew_tracing_count\u001B[0m \u001B[1;33m=\u001B[0m \u001B[0mself\u001B[0m\u001B[1;33m.\u001B[0m\u001B[0mexperimental_get_tracing_count\u001B[0m\u001B[1;33m(\u001B[0m\u001B[1;33m)\u001B[0m\u001B[1;33m\u001B[0m\u001B[1;33m\u001B[0m\u001B[0m\n",
      "\u001B[1;32mC:\\ProgramData\\Miniconda3\\envs\\tf2\\lib\\site-packages\\tensorflow\\python\\eager\\def_function.py\u001B[0m in \u001B[0;36m_call\u001B[1;34m(self, *args, **kwds)\u001B[0m\n\u001B[0;32m    952\u001B[0m       \u001B[1;31m# In this case we have not created variables on the first call. So we can\u001B[0m\u001B[1;33m\u001B[0m\u001B[1;33m\u001B[0m\u001B[1;33m\u001B[0m\u001B[0m\n\u001B[0;32m    953\u001B[0m       \u001B[1;31m# run the first trace but we should fail if variables are created.\u001B[0m\u001B[1;33m\u001B[0m\u001B[1;33m\u001B[0m\u001B[1;33m\u001B[0m\u001B[0m\n\u001B[1;32m--> 954\u001B[1;33m       \u001B[0mresults\u001B[0m \u001B[1;33m=\u001B[0m \u001B[0mself\u001B[0m\u001B[1;33m.\u001B[0m\u001B[0m_stateful_fn\u001B[0m\u001B[1;33m(\u001B[0m\u001B[1;33m*\u001B[0m\u001B[0margs\u001B[0m\u001B[1;33m,\u001B[0m \u001B[1;33m**\u001B[0m\u001B[0mkwds\u001B[0m\u001B[1;33m)\u001B[0m\u001B[1;33m\u001B[0m\u001B[1;33m\u001B[0m\u001B[0m\n\u001B[0m\u001B[0;32m    955\u001B[0m       \u001B[1;32mif\u001B[0m \u001B[0mself\u001B[0m\u001B[1;33m.\u001B[0m\u001B[0m_created_variables\u001B[0m \u001B[1;32mand\u001B[0m \u001B[1;32mnot\u001B[0m \u001B[0mALLOW_DYNAMIC_VARIABLE_CREATION\u001B[0m\u001B[1;33m:\u001B[0m\u001B[1;33m\u001B[0m\u001B[1;33m\u001B[0m\u001B[0m\n\u001B[0;32m    956\u001B[0m         raise ValueError(\"Creating variables on a non-first call to a function\"\n",
      "\u001B[1;32mC:\\ProgramData\\Miniconda3\\envs\\tf2\\lib\\site-packages\\tensorflow\\python\\eager\\function.py\u001B[0m in \u001B[0;36m__call__\u001B[1;34m(self, *args, **kwargs)\u001B[0m\n\u001B[0;32m   2954\u001B[0m       (graph_function,\n\u001B[0;32m   2955\u001B[0m        filtered_flat_args) = self._maybe_define_function(args, kwargs)\n\u001B[1;32m-> 2956\u001B[1;33m     return graph_function._call_flat(\n\u001B[0m\u001B[0;32m   2957\u001B[0m         filtered_flat_args, captured_inputs=graph_function.captured_inputs)  # pylint: disable=protected-access\n\u001B[0;32m   2958\u001B[0m \u001B[1;33m\u001B[0m\u001B[0m\n",
      "\u001B[1;32mC:\\ProgramData\\Miniconda3\\envs\\tf2\\lib\\site-packages\\tensorflow\\python\\eager\\function.py\u001B[0m in \u001B[0;36m_call_flat\u001B[1;34m(self, args, captured_inputs, cancellation_manager)\u001B[0m\n\u001B[0;32m   1851\u001B[0m         and executing_eagerly):\n\u001B[0;32m   1852\u001B[0m       \u001B[1;31m# No tape is watching; skip to running the function.\u001B[0m\u001B[1;33m\u001B[0m\u001B[1;33m\u001B[0m\u001B[1;33m\u001B[0m\u001B[0m\n\u001B[1;32m-> 1853\u001B[1;33m       return self._build_call_outputs(self._inference_function.call(\n\u001B[0m\u001B[0;32m   1854\u001B[0m           ctx, args, cancellation_manager=cancellation_manager))\n\u001B[0;32m   1855\u001B[0m     forward_backward = self._select_forward_and_backward_functions(\n",
      "\u001B[1;32mC:\\ProgramData\\Miniconda3\\envs\\tf2\\lib\\site-packages\\tensorflow\\python\\eager\\function.py\u001B[0m in \u001B[0;36mcall\u001B[1;34m(self, ctx, args, cancellation_manager)\u001B[0m\n\u001B[0;32m    497\u001B[0m       \u001B[1;32mwith\u001B[0m \u001B[0m_InterpolateFunctionError\u001B[0m\u001B[1;33m(\u001B[0m\u001B[0mself\u001B[0m\u001B[1;33m)\u001B[0m\u001B[1;33m:\u001B[0m\u001B[1;33m\u001B[0m\u001B[1;33m\u001B[0m\u001B[0m\n\u001B[0;32m    498\u001B[0m         \u001B[1;32mif\u001B[0m \u001B[0mcancellation_manager\u001B[0m \u001B[1;32mis\u001B[0m \u001B[1;32mNone\u001B[0m\u001B[1;33m:\u001B[0m\u001B[1;33m\u001B[0m\u001B[1;33m\u001B[0m\u001B[0m\n\u001B[1;32m--> 499\u001B[1;33m           outputs = execute.execute(\n\u001B[0m\u001B[0;32m    500\u001B[0m               \u001B[0mstr\u001B[0m\u001B[1;33m(\u001B[0m\u001B[0mself\u001B[0m\u001B[1;33m.\u001B[0m\u001B[0msignature\u001B[0m\u001B[1;33m.\u001B[0m\u001B[0mname\u001B[0m\u001B[1;33m)\u001B[0m\u001B[1;33m,\u001B[0m\u001B[1;33m\u001B[0m\u001B[1;33m\u001B[0m\u001B[0m\n\u001B[0;32m    501\u001B[0m               \u001B[0mnum_outputs\u001B[0m\u001B[1;33m=\u001B[0m\u001B[0mself\u001B[0m\u001B[1;33m.\u001B[0m\u001B[0m_num_outputs\u001B[0m\u001B[1;33m,\u001B[0m\u001B[1;33m\u001B[0m\u001B[1;33m\u001B[0m\u001B[0m\n",
      "\u001B[1;32mC:\\ProgramData\\Miniconda3\\envs\\tf2\\lib\\site-packages\\tensorflow\\python\\eager\\execute.py\u001B[0m in \u001B[0;36mquick_execute\u001B[1;34m(op_name, num_outputs, inputs, attrs, ctx, name)\u001B[0m\n\u001B[0;32m     52\u001B[0m   \u001B[1;32mtry\u001B[0m\u001B[1;33m:\u001B[0m\u001B[1;33m\u001B[0m\u001B[1;33m\u001B[0m\u001B[0m\n\u001B[0;32m     53\u001B[0m     \u001B[0mctx\u001B[0m\u001B[1;33m.\u001B[0m\u001B[0mensure_initialized\u001B[0m\u001B[1;33m(\u001B[0m\u001B[1;33m)\u001B[0m\u001B[1;33m\u001B[0m\u001B[1;33m\u001B[0m\u001B[0m\n\u001B[1;32m---> 54\u001B[1;33m     tensors = pywrap_tfe.TFE_Py_Execute(ctx._handle, device_name, op_name,\n\u001B[0m\u001B[0;32m     55\u001B[0m                                         inputs, attrs, num_outputs)\n\u001B[0;32m     56\u001B[0m   \u001B[1;32mexcept\u001B[0m \u001B[0mcore\u001B[0m\u001B[1;33m.\u001B[0m\u001B[0m_NotOkStatusException\u001B[0m \u001B[1;32mas\u001B[0m \u001B[0me\u001B[0m\u001B[1;33m:\u001B[0m\u001B[1;33m\u001B[0m\u001B[1;33m\u001B[0m\u001B[0m\n",
      "\u001B[1;31mKeyboardInterrupt\u001B[0m: "
     ]
    }
   ],
   "source": [
    "es = EarlyStopping(monitor='val_loss', verbose=1, patience=5) #\n",
    "mc = ModelCheckpoint('TL1 tr300.h5', monitor='val_accuracy', verbose=1, save_best_only=True) #\n",
    "My_model = model.fit(train_gen, epochs=50, verbose=1, validation_data=test_gen, callbacks=[es, mc], )"
   ],
   "metadata": {
    "collapsed": false,
    "pycharm": {
     "name": "#%%\n"
    }
   }
  },
  {
   "cell_type": "code",
   "execution_count": 37,
   "outputs": [],
   "source": [],
   "metadata": {
    "collapsed": false,
    "pycharm": {
     "name": "#%%\n"
    }
   }
  }
 ],
 "metadata": {
  "kernelspec": {
   "display_name": "Python 3",
   "language": "python",
   "name": "python3"
  },
  "language_info": {
   "codemirror_mode": {
    "name": "ipython",
    "version": 2
   },
   "file_extension": ".py",
   "mimetype": "text/x-python",
   "name": "python",
   "nbconvert_exporter": "python",
   "pygments_lexer": "ipython2",
   "version": "2.7.6"
  }
 },
 "nbformat": 4,
 "nbformat_minor": 0
}