{
 "cells": [
  {
   "cell_type": "code",
   "execution_count": 1,
   "outputs": [],
   "source": [
    "import pandas as pd\n",
    "import numpy as np\n",
    "import matplotlib.pyplot as plt\n",
    "import seaborn as sb\n",
    "import plotly as cm\n",
    "from pandas_profiling import ProfileReport"
   ],
   "metadata": {
    "collapsed": false,
    "pycharm": {
     "name": "#%%\n"
    }
   }
  },
  {
   "cell_type": "code",
   "execution_count": 2,
   "outputs": [],
   "source": [
    "srcfile = 'D:\\\\FingerSpelling\\\\TFS_Coding\\\\handLms.csv'"
   ],
   "metadata": {
    "collapsed": false,
    "pycharm": {
     "name": "#%%\n"
    }
   }
  },
  {
   "cell_type": "code",
   "execution_count": 3,
   "outputs": [],
   "source": [
    "df = pd.read_csv(srcfile, engine='python')"
   ],
   "metadata": {
    "collapsed": false,
    "pycharm": {
     "name": "#%%\n"
    }
   }
  },
  {
   "cell_type": "code",
   "execution_count": 4,
   "outputs": [
    {
     "data": {
      "text/plain": "    x0   x1   x2   x3   x4   x5   x6   x7   x8   x9  ...  y12  y13  y14  y15  \\\n0  364  337  294  276  286  266  185  209  238  268  ...  253  295  294  291   \n1  365  337  294  274  283  266  185  207  237  268  ...  254  293  295  292   \n2  368  338  292  270  276  266  184  205  234  268  ...  254  290  297  294   \n3  369  339  294  269  276  259  184  207  236  260  ...  255  294  297  294   \n4  368  338  292  271  275  263  184  207  236  265  ...  254  288  297  296   \n\n   y16  y17  y18  y19  y20  class_name  \n0  289  338  331  325  324        like  \n1  290  336  329  325  325        like  \n2  289  334  332  326  323        like  \n3  289  336  331  327  326        like  \n4  291  333  332  328  325        like  \n\n[5 rows x 43 columns]",
      "text/html": "<div>\n<style scoped>\n    .dataframe tbody tr th:only-of-type {\n        vertical-align: middle;\n    }\n\n    .dataframe tbody tr th {\n        vertical-align: top;\n    }\n\n    .dataframe thead th {\n        text-align: right;\n    }\n</style>\n<table border=\"1\" class=\"dataframe\">\n  <thead>\n    <tr style=\"text-align: right;\">\n      <th></th>\n      <th>x0</th>\n      <th>x1</th>\n      <th>x2</th>\n      <th>x3</th>\n      <th>x4</th>\n      <th>x5</th>\n      <th>x6</th>\n      <th>x7</th>\n      <th>x8</th>\n      <th>x9</th>\n      <th>...</th>\n      <th>y12</th>\n      <th>y13</th>\n      <th>y14</th>\n      <th>y15</th>\n      <th>y16</th>\n      <th>y17</th>\n      <th>y18</th>\n      <th>y19</th>\n      <th>y20</th>\n      <th>class_name</th>\n    </tr>\n  </thead>\n  <tbody>\n    <tr>\n      <th>0</th>\n      <td>364</td>\n      <td>337</td>\n      <td>294</td>\n      <td>276</td>\n      <td>286</td>\n      <td>266</td>\n      <td>185</td>\n      <td>209</td>\n      <td>238</td>\n      <td>268</td>\n      <td>...</td>\n      <td>253</td>\n      <td>295</td>\n      <td>294</td>\n      <td>291</td>\n      <td>289</td>\n      <td>338</td>\n      <td>331</td>\n      <td>325</td>\n      <td>324</td>\n      <td>like</td>\n    </tr>\n    <tr>\n      <th>1</th>\n      <td>365</td>\n      <td>337</td>\n      <td>294</td>\n      <td>274</td>\n      <td>283</td>\n      <td>266</td>\n      <td>185</td>\n      <td>207</td>\n      <td>237</td>\n      <td>268</td>\n      <td>...</td>\n      <td>254</td>\n      <td>293</td>\n      <td>295</td>\n      <td>292</td>\n      <td>290</td>\n      <td>336</td>\n      <td>329</td>\n      <td>325</td>\n      <td>325</td>\n      <td>like</td>\n    </tr>\n    <tr>\n      <th>2</th>\n      <td>368</td>\n      <td>338</td>\n      <td>292</td>\n      <td>270</td>\n      <td>276</td>\n      <td>266</td>\n      <td>184</td>\n      <td>205</td>\n      <td>234</td>\n      <td>268</td>\n      <td>...</td>\n      <td>254</td>\n      <td>290</td>\n      <td>297</td>\n      <td>294</td>\n      <td>289</td>\n      <td>334</td>\n      <td>332</td>\n      <td>326</td>\n      <td>323</td>\n      <td>like</td>\n    </tr>\n    <tr>\n      <th>3</th>\n      <td>369</td>\n      <td>339</td>\n      <td>294</td>\n      <td>269</td>\n      <td>276</td>\n      <td>259</td>\n      <td>184</td>\n      <td>207</td>\n      <td>236</td>\n      <td>260</td>\n      <td>...</td>\n      <td>255</td>\n      <td>294</td>\n      <td>297</td>\n      <td>294</td>\n      <td>289</td>\n      <td>336</td>\n      <td>331</td>\n      <td>327</td>\n      <td>326</td>\n      <td>like</td>\n    </tr>\n    <tr>\n      <th>4</th>\n      <td>368</td>\n      <td>338</td>\n      <td>292</td>\n      <td>271</td>\n      <td>275</td>\n      <td>263</td>\n      <td>184</td>\n      <td>207</td>\n      <td>236</td>\n      <td>265</td>\n      <td>...</td>\n      <td>254</td>\n      <td>288</td>\n      <td>297</td>\n      <td>296</td>\n      <td>291</td>\n      <td>333</td>\n      <td>332</td>\n      <td>328</td>\n      <td>325</td>\n      <td>like</td>\n    </tr>\n  </tbody>\n</table>\n<p>5 rows × 43 columns</p>\n</div>"
     },
     "execution_count": 4,
     "metadata": {},
     "output_type": "execute_result"
    }
   ],
   "source": [
    "df.head()"
   ],
   "metadata": {
    "collapsed": false,
    "pycharm": {
     "name": "#%%\n"
    }
   }
  },
  {
   "cell_type": "code",
   "execution_count": 5,
   "outputs": [
    {
     "data": {
      "text/plain": "False"
     },
     "execution_count": 5,
     "metadata": {},
     "output_type": "execute_result"
    }
   ],
   "source": [
    "df.isnull().values.any()"
   ],
   "metadata": {
    "collapsed": false,
    "pycharm": {
     "name": "#%%\n"
    }
   }
  },
  {
   "cell_type": "code",
   "execution_count": 6,
   "outputs": [],
   "source": [
    "# # remove NaN columns\n",
    "# df_drop_ax0 = df.dropna(axis=0)\n",
    "# df_drop_ax0"
   ],
   "metadata": {
    "collapsed": false,
    "pycharm": {
     "name": "#%%\n"
    }
   }
  },
  {
   "cell_type": "code",
   "execution_count": 7,
   "outputs": [],
   "source": [
    "# df_drop_ax0.isnull().values.any()"
   ],
   "metadata": {
    "collapsed": false,
    "pycharm": {
     "name": "#%%\n"
    }
   }
  },
  {
   "cell_type": "code",
   "execution_count": 8,
   "outputs": [],
   "source": [
    "# print(df_drop_ax0.isnull().sum())"
   ],
   "metadata": {
    "collapsed": false,
    "pycharm": {
     "name": "#%%\n"
    }
   }
  },
  {
   "cell_type": "code",
   "execution_count": 9,
   "outputs": [],
   "source": [
    "# feature = df_drop_ax0.iloc[:, 1:]\n",
    "# label = df_drop_ax0.iloc[:, 0]\n",
    "# print(f'Feature = {feature.shape}  ; Label = {label.shape}')"
   ],
   "metadata": {
    "collapsed": false,
    "pycharm": {
     "name": "#%%\n"
    }
   }
  },
  {
   "cell_type": "code",
   "execution_count": 10,
   "outputs": [],
   "source": [
    "# feature"
   ],
   "metadata": {
    "collapsed": false,
    "pycharm": {
     "name": "#%%\n"
    }
   }
  },
  {
   "cell_type": "code",
   "execution_count": 11,
   "outputs": [],
   "source": [
    "# label"
   ],
   "metadata": {
    "collapsed": false,
    "pycharm": {
     "name": "#%%\n"
    }
   }
  },
  {
   "cell_type": "code",
   "execution_count": 12,
   "outputs": [
    {
     "data": {
      "text/plain": "class_name\nlike    30\nlove    30\nok      30\ntwo     30\ndtype: int64"
     },
     "execution_count": 12,
     "metadata": {},
     "output_type": "execute_result"
    }
   ],
   "source": [
    "check_group = df.groupby('class_name').size()\n",
    "check_group"
   ],
   "metadata": {
    "collapsed": false,
    "pycharm": {
     "name": "#%%\n"
    }
   }
  },
  {
   "cell_type": "code",
   "execution_count": 13,
   "outputs": [
    {
     "name": "stdout",
     "output_type": "stream",
     "text": [
      "    x0   x1   x2   x3   x4   x5   x6   x7   x8   x9  ...  y12  y13  y14  y15  \\\n",
      "0  364  337  294  276  286  266  185  209  238  268  ...  253  295  294  291   \n",
      "1  365  337  294  274  283  266  185  207  237  268  ...  254  293  295  292   \n",
      "2  368  338  292  270  276  266  184  205  234  268  ...  254  290  297  294   \n",
      "3  369  339  294  269  276  259  184  207  236  260  ...  255  294  297  294   \n",
      "4  368  338  292  271  275  263  184  207  236  265  ...  254  288  297  296   \n",
      "5  367  339  294  271  276  267  184  206  236  269  ...  254  289  294  294   \n",
      "6  377  354  308  283  286  266  185  206  237  262  ...  257  277  293  299   \n",
      "7  378  352  308  281  282  264  186  207  237  260  ...  259  279  293  298   \n",
      "\n",
      "   y16  y17  y18  y19  y20  class_name  \n",
      "0  289  338  331  325  324        like  \n",
      "1  290  336  329  325  325        like  \n",
      "2  289  334  332  326  323        like  \n",
      "3  289  336  331  327  326        like  \n",
      "4  291  333  332  328  325        like  \n",
      "5  291  333  330  326  325        like  \n",
      "6  296  327  330  332  328        like  \n",
      "7  295  328  330  330  328        like  \n",
      "\n",
      "[8 rows x 43 columns]\n",
      "['like' 'love' 'ok' 'two']\n"
     ]
    }
   ],
   "source": [
    "print(df.head(8))\n",
    "print(df.class_name.unique())  # check amount of class_name"
   ],
   "metadata": {
    "collapsed": false,
    "pycharm": {
     "name": "#%%\n"
    }
   }
  },
  {
   "cell_type": "code",
   "execution_count": 14,
   "outputs": [
    {
     "name": "stdout",
     "output_type": "stream",
     "text": [
      "Index(['like', 'love', 'ok', 'two'], dtype='object')\n",
      "[0 0 0 0 0 0 0 0 0 0 0 0 0 0 0 0 0 0 0 0 0 0 0 0 0 0 0 0 0 0 1 1 1 1 1 1 1\n",
      " 1 1 1 1 1 1 1 1 1 1 1 1 1 1 1 1 1 1 1 1 1 1 1 2 2 2 2 2 2 2 2 2 2 2 2 2 2\n",
      " 2 2 2 2 2 2 2 2 2 2 2 2 2 2 2 2 3 3 3 3 3 3 3 3 3 3 3 3 3 3 3 3 3 3 3 3 3\n",
      " 3 3 3 3 3 3 3 3 3]\n"
     ]
    }
   ],
   "source": [
    "y,class_name = pd.factorize(df.class_name,sort=True) # like = 1000, love = 0100, ok = 0010, two = 0001\n",
    "print(class_name)\n",
    "print(y)"
   ],
   "metadata": {
    "collapsed": false,
    "pycharm": {
     "name": "#%%\n"
    }
   }
  },
  {
   "cell_type": "code",
   "execution_count": 15,
   "outputs": [
    {
     "data": {
      "text/plain": "array([0, 0, 0, 0, 0, 0, 0, 0, 0, 0, 0, 0, 0, 0, 0, 0, 0, 0, 0, 0, 0, 0,\n       0, 0, 0, 0, 0, 0, 0, 0, 1, 1, 1, 1, 1, 1, 1, 1, 1, 1, 1, 1, 1, 1,\n       1, 1, 1, 1, 1, 1, 1, 1, 1, 1, 1, 1, 1, 1, 1, 1, 2, 2, 2, 2, 2, 2,\n       2, 2, 2, 2, 2, 2, 2, 2, 2, 2, 2, 2, 2, 2, 2, 2, 2, 2, 2, 2, 2, 2,\n       2, 2, 3, 3, 3, 3, 3, 3, 3, 3, 3, 3, 3, 3, 3, 3, 3, 3, 3, 3, 3, 3,\n       3, 3, 3, 3, 3, 3, 3, 3, 3, 3], dtype=int64)"
     },
     "execution_count": 15,
     "metadata": {},
     "output_type": "execute_result"
    }
   ],
   "source": [
    "y"
   ],
   "metadata": {
    "collapsed": false,
    "pycharm": {
     "name": "#%%\n"
    }
   }
  },
  {
   "cell_type": "code",
   "execution_count": 16,
   "outputs": [
    {
     "data": {
      "text/plain": "      x0   x1   x2   x3   x4   x5   x6   x7   x8   x9  ...  y11  y12  y13  \\\n0    364  337  294  276  286  266  185  209  238  268  ...  254  253  295   \n1    365  337  294  274  283  266  185  207  237  268  ...  256  254  293   \n2    368  338  292  270  276  266  184  205  234  268  ...  257  254  290   \n3    369  339  294  269  276  259  184  207  236  260  ...  257  255  294   \n4    368  338  292  271  275  263  184  207  236  265  ...  258  254  288   \n..   ...  ...  ...  ...  ...  ...  ...  ...  ...  ...  ...  ...  ...  ...   \n115  266  233  220  242  263  210  191  181  174  243  ...  156  125  261   \n116  274  238  218  239  262  213  193  181  172  246  ...  154  124  260   \n117  263  230  217  241  264  210  193  182  177  243  ...  154  122  259   \n118  259  227  215  239  263  210  193  183  176  244  ...  150  119  256   \n119  262  228  215  239  265  211  193  184  177  245  ...  151  119  257   \n\n     y14  y15  y16  y17  y18  y19  y20  \n0    294  291  289  338  331  325  324  \n1    295  292  290  336  329  325  325  \n2    297  294  289  334  332  326  323  \n3    297  294  289  336  331  327  326  \n4    297  296  291  333  332  328  325  \n..   ...  ...  ...  ...  ...  ...  ...  \n115  227  257  280  281  258  281  302  \n116  225  254  279  280  257  281  303  \n117  228  260  284  280  258  283  306  \n118  228  262  288  279  265  292  315  \n119  227  261  286  280  265  291  313  \n\n[120 rows x 42 columns]",
      "text/html": "<div>\n<style scoped>\n    .dataframe tbody tr th:only-of-type {\n        vertical-align: middle;\n    }\n\n    .dataframe tbody tr th {\n        vertical-align: top;\n    }\n\n    .dataframe thead th {\n        text-align: right;\n    }\n</style>\n<table border=\"1\" class=\"dataframe\">\n  <thead>\n    <tr style=\"text-align: right;\">\n      <th></th>\n      <th>x0</th>\n      <th>x1</th>\n      <th>x2</th>\n      <th>x3</th>\n      <th>x4</th>\n      <th>x5</th>\n      <th>x6</th>\n      <th>x7</th>\n      <th>x8</th>\n      <th>x9</th>\n      <th>...</th>\n      <th>y11</th>\n      <th>y12</th>\n      <th>y13</th>\n      <th>y14</th>\n      <th>y15</th>\n      <th>y16</th>\n      <th>y17</th>\n      <th>y18</th>\n      <th>y19</th>\n      <th>y20</th>\n    </tr>\n  </thead>\n  <tbody>\n    <tr>\n      <th>0</th>\n      <td>364</td>\n      <td>337</td>\n      <td>294</td>\n      <td>276</td>\n      <td>286</td>\n      <td>266</td>\n      <td>185</td>\n      <td>209</td>\n      <td>238</td>\n      <td>268</td>\n      <td>...</td>\n      <td>254</td>\n      <td>253</td>\n      <td>295</td>\n      <td>294</td>\n      <td>291</td>\n      <td>289</td>\n      <td>338</td>\n      <td>331</td>\n      <td>325</td>\n      <td>324</td>\n    </tr>\n    <tr>\n      <th>1</th>\n      <td>365</td>\n      <td>337</td>\n      <td>294</td>\n      <td>274</td>\n      <td>283</td>\n      <td>266</td>\n      <td>185</td>\n      <td>207</td>\n      <td>237</td>\n      <td>268</td>\n      <td>...</td>\n      <td>256</td>\n      <td>254</td>\n      <td>293</td>\n      <td>295</td>\n      <td>292</td>\n      <td>290</td>\n      <td>336</td>\n      <td>329</td>\n      <td>325</td>\n      <td>325</td>\n    </tr>\n    <tr>\n      <th>2</th>\n      <td>368</td>\n      <td>338</td>\n      <td>292</td>\n      <td>270</td>\n      <td>276</td>\n      <td>266</td>\n      <td>184</td>\n      <td>205</td>\n      <td>234</td>\n      <td>268</td>\n      <td>...</td>\n      <td>257</td>\n      <td>254</td>\n      <td>290</td>\n      <td>297</td>\n      <td>294</td>\n      <td>289</td>\n      <td>334</td>\n      <td>332</td>\n      <td>326</td>\n      <td>323</td>\n    </tr>\n    <tr>\n      <th>3</th>\n      <td>369</td>\n      <td>339</td>\n      <td>294</td>\n      <td>269</td>\n      <td>276</td>\n      <td>259</td>\n      <td>184</td>\n      <td>207</td>\n      <td>236</td>\n      <td>260</td>\n      <td>...</td>\n      <td>257</td>\n      <td>255</td>\n      <td>294</td>\n      <td>297</td>\n      <td>294</td>\n      <td>289</td>\n      <td>336</td>\n      <td>331</td>\n      <td>327</td>\n      <td>326</td>\n    </tr>\n    <tr>\n      <th>4</th>\n      <td>368</td>\n      <td>338</td>\n      <td>292</td>\n      <td>271</td>\n      <td>275</td>\n      <td>263</td>\n      <td>184</td>\n      <td>207</td>\n      <td>236</td>\n      <td>265</td>\n      <td>...</td>\n      <td>258</td>\n      <td>254</td>\n      <td>288</td>\n      <td>297</td>\n      <td>296</td>\n      <td>291</td>\n      <td>333</td>\n      <td>332</td>\n      <td>328</td>\n      <td>325</td>\n    </tr>\n    <tr>\n      <th>...</th>\n      <td>...</td>\n      <td>...</td>\n      <td>...</td>\n      <td>...</td>\n      <td>...</td>\n      <td>...</td>\n      <td>...</td>\n      <td>...</td>\n      <td>...</td>\n      <td>...</td>\n      <td>...</td>\n      <td>...</td>\n      <td>...</td>\n      <td>...</td>\n      <td>...</td>\n      <td>...</td>\n      <td>...</td>\n      <td>...</td>\n      <td>...</td>\n      <td>...</td>\n      <td>...</td>\n    </tr>\n    <tr>\n      <th>115</th>\n      <td>266</td>\n      <td>233</td>\n      <td>220</td>\n      <td>242</td>\n      <td>263</td>\n      <td>210</td>\n      <td>191</td>\n      <td>181</td>\n      <td>174</td>\n      <td>243</td>\n      <td>...</td>\n      <td>156</td>\n      <td>125</td>\n      <td>261</td>\n      <td>227</td>\n      <td>257</td>\n      <td>280</td>\n      <td>281</td>\n      <td>258</td>\n      <td>281</td>\n      <td>302</td>\n    </tr>\n    <tr>\n      <th>116</th>\n      <td>274</td>\n      <td>238</td>\n      <td>218</td>\n      <td>239</td>\n      <td>262</td>\n      <td>213</td>\n      <td>193</td>\n      <td>181</td>\n      <td>172</td>\n      <td>246</td>\n      <td>...</td>\n      <td>154</td>\n      <td>124</td>\n      <td>260</td>\n      <td>225</td>\n      <td>254</td>\n      <td>279</td>\n      <td>280</td>\n      <td>257</td>\n      <td>281</td>\n      <td>303</td>\n    </tr>\n    <tr>\n      <th>117</th>\n      <td>263</td>\n      <td>230</td>\n      <td>217</td>\n      <td>241</td>\n      <td>264</td>\n      <td>210</td>\n      <td>193</td>\n      <td>182</td>\n      <td>177</td>\n      <td>243</td>\n      <td>...</td>\n      <td>154</td>\n      <td>122</td>\n      <td>259</td>\n      <td>228</td>\n      <td>260</td>\n      <td>284</td>\n      <td>280</td>\n      <td>258</td>\n      <td>283</td>\n      <td>306</td>\n    </tr>\n    <tr>\n      <th>118</th>\n      <td>259</td>\n      <td>227</td>\n      <td>215</td>\n      <td>239</td>\n      <td>263</td>\n      <td>210</td>\n      <td>193</td>\n      <td>183</td>\n      <td>176</td>\n      <td>244</td>\n      <td>...</td>\n      <td>150</td>\n      <td>119</td>\n      <td>256</td>\n      <td>228</td>\n      <td>262</td>\n      <td>288</td>\n      <td>279</td>\n      <td>265</td>\n      <td>292</td>\n      <td>315</td>\n    </tr>\n    <tr>\n      <th>119</th>\n      <td>262</td>\n      <td>228</td>\n      <td>215</td>\n      <td>239</td>\n      <td>265</td>\n      <td>211</td>\n      <td>193</td>\n      <td>184</td>\n      <td>177</td>\n      <td>245</td>\n      <td>...</td>\n      <td>151</td>\n      <td>119</td>\n      <td>257</td>\n      <td>227</td>\n      <td>261</td>\n      <td>286</td>\n      <td>280</td>\n      <td>265</td>\n      <td>291</td>\n      <td>313</td>\n    </tr>\n  </tbody>\n</table>\n<p>120 rows × 42 columns</p>\n</div>"
     },
     "execution_count": 16,
     "metadata": {},
     "output_type": "execute_result"
    }
   ],
   "source": [
    "x = df.drop('class_name',axis=1) # drop 'class_name' on axis y\n",
    "\n",
    "x"
   ],
   "metadata": {
    "collapsed": false,
    "pycharm": {
     "name": "#%%\n"
    }
   }
  },
  {
   "cell_type": "code",
   "execution_count": 17,
   "outputs": [],
   "source": [
    "import pandas as pd\n",
    "from sklearn.model_selection import train_test_split # 120 => train = 84; test = 36\n",
    "from sklearn.metrics import classification_report\n",
    "from sklearn.metrics import confusion_matrix\n",
    "from sklearn.metrics import accuracy_score\n",
    "\n",
    "from tensorflow.keras import Sequential\n",
    "from tensorflow.keras.layers import Dense\n",
    "\n",
    "import numpy as np\n",
    "\n",
    "import seaborn as sns\n",
    "import matplotlib.pyplot as plt"
   ],
   "metadata": {
    "collapsed": false,
    "pycharm": {
     "name": "#%%\n"
    }
   }
  },
  {
   "cell_type": "code",
   "execution_count": 18,
   "outputs": [
    {
     "data": {
      "text/plain": "(120, 42)"
     },
     "execution_count": 18,
     "metadata": {},
     "output_type": "execute_result"
    }
   ],
   "source": [
    "np.array(x).shape"
   ],
   "metadata": {
    "collapsed": false,
    "pycharm": {
     "name": "#%%\n"
    }
   }
  },
  {
   "cell_type": "code",
   "execution_count": 19,
   "outputs": [
    {
     "name": "stdout",
     "output_type": "stream",
     "text": [
      "(96, 42)\n",
      "(24, 42)\n",
      "(96,)\n",
      "(24,)\n"
     ]
    }
   ],
   "source": [
    "x_train, x_test, y_train, y_test = train_test_split(x,y,test_size=0.2, shuffle=True, random_state=42) # test 20%\n",
    "print(x_train.shape)\n",
    "print(x_test.shape)\n",
    "print(y_train.shape)\n",
    "print(y_test.shape)"
   ],
   "metadata": {
    "collapsed": false,
    "pycharm": {
     "name": "#%%\n"
    }
   }
  },
  {
   "cell_type": "code",
   "execution_count": 20,
   "outputs": [
    {
     "name": "stdout",
     "output_type": "stream",
     "text": [
      "    0  1  2  3\n",
      "0   0  1  0  0\n",
      "1   0  1  0  0\n",
      "2   1  0  0  0\n",
      "3   0  1  0  0\n",
      "4   1  0  0  0\n",
      "5   0  0  1  0\n",
      "6   0  0  1  0\n",
      "7   1  0  0  0\n",
      "8   0  1  0  0\n",
      "9   0  0  0  1\n",
      "10  1  0  0  0\n",
      "11  0  0  1  0\n",
      "12  1  0  0  0\n",
      "13  0  1  0  0\n",
      "14  0  0  1  0\n",
      "15  0  0  0  1\n",
      "16  0  0  0  1\n",
      "17  1  0  0  0\n",
      "18  0  0  1  0\n",
      "19  0  0  0  1\n",
      "(96, 4)\n",
      "(24, 4)\n"
     ]
    }
   ],
   "source": [
    "y_train_1h = pd.get_dummies(y_train) # 1 hot format  # like = 1000, love = 0100, ok = 0010, two = 0001\n",
    "y_test_1h = pd.get_dummies(y_test)\n",
    "print(y_test_1h.head(20))\n",
    "print(y_train_1h.shape)\n",
    "print(y_test_1h.shape)"
   ],
   "metadata": {
    "collapsed": false,
    "pycharm": {
     "name": "#%%\n"
    }
   }
  },
  {
   "cell_type": "code",
   "execution_count": 21,
   "outputs": [],
   "source": [
    "from keras.models import Sequential\n",
    "from keras.layers import Conv2D, Dense, MaxPool2D, Dropout, Flatten, AveragePooling2D\n",
    "from tensorflow.keras.utils import Sequence\n",
    "import numpy as np\n",
    "from sklearn.metrics import classification_report, confusion_matrix, recall_score, precision_score\n",
    "from sklearn.metrics import f1_score, accuracy_score\n",
    "import plotly.figure_factory as ff\n",
    "import plotly\n",
    "import plotly.graph_objs as go\n",
    "import pickle\n",
    "from tensorflow.keras.callbacks import EarlyStopping, ModelCheckpoint\n",
    "from statistics import mode, StatisticsError\n",
    "from keras.layers import LSTM\n",
    "from keras.layers import TimeDistributed\n",
    "from keras.layers import MaxPooling2D\n",
    "from tensorflow.keras.optimizers import Adam\n",
    "from tensorflow.keras import layers\n",
    "from tensorflow.keras import regularizers\n",
    "import time"
   ],
   "metadata": {
    "collapsed": false,
    "pycharm": {
     "name": "#%%\n"
    }
   }
  },
  {
   "cell_type": "code",
   "execution_count": 22,
   "outputs": [
    {
     "name": "stdout",
     "output_type": "stream",
     "text": [
      "Model: \"sequential\"\n",
      "_________________________________________________________________\n",
      " Layer (type)                Output Shape              Param #   \n",
      "=================================================================\n",
      " lstm (LSTM)                 (None, 42, 64)            16896     \n",
      "                                                                 \n",
      " lstm_1 (LSTM)               (None, 42, 32)            12416     \n",
      "                                                                 \n",
      " lstm_2 (LSTM)               (None, 16)                3136      \n",
      "                                                                 \n",
      " dense (Dense)               (None, 64)                1088      \n",
      "                                                                 \n",
      " dense_1 (Dense)             (None, 32)                2080      \n",
      "                                                                 \n",
      " dense_2 (Dense)             (None, 4)                 132       \n",
      "                                                                 \n",
      "=================================================================\n",
      "Total params: 35,748\n",
      "Trainable params: 35,748\n",
      "Non-trainable params: 0\n",
      "_________________________________________________________________\n"
     ]
    }
   ],
   "source": [
    "def LSTM_model_TwoHand():\n",
    "    model = Sequential()\n",
    "\n",
    "    model.add(LSTM(units = 64, input_shape=(42, 1), activation= 'tanh', return_sequences= True))\n",
    "    model.add(LSTM(units = 32, activation='tanh', return_sequences=True))\n",
    "    model.add(LSTM(units= 16, activation= 'tanh'))\n",
    "\n",
    "    # model.add(Flatten())\n",
    "    model.add(Dense(units = 64, activation = 'tanh'))\n",
    "    #model.add(Dropout(0.2))\n",
    "    model.add(Dense(units = 32, activation = 'tanh'))\n",
    "    #model.add(Dropout(0.2))\n",
    "    model.add(Dense(units= 4, activation= 'softmax'))\n",
    "    model.compile(optimizer= 'adam', loss='categorical_crossentropy', metrics=['accuracy'])\n",
    "    return model\n",
    "\n",
    "model = LSTM_model_TwoHand()\n",
    "model.build()\n",
    "model.summary()"
   ],
   "metadata": {
    "collapsed": false,
    "pycharm": {
     "name": "#%%\n"
    }
   }
  },
  {
   "cell_type": "code",
   "execution_count": 23,
   "outputs": [
    {
     "name": "stdout",
     "output_type": "stream",
     "text": [
      "Epoch 1/25\n",
      "10/10 [==============================] - 4s 84ms/step - loss: 1.4321 - accuracy: 0.2105 - val_loss: 1.3851 - val_accuracy: 0.2500\n",
      "Epoch 2/25\n",
      "10/10 [==============================] - 0s 13ms/step - loss: 1.4045 - accuracy: 0.1842 - val_loss: 1.4175 - val_accuracy: 0.1000\n",
      "Epoch 3/25\n",
      "10/10 [==============================] - 0s 13ms/step - loss: 1.3871 - accuracy: 0.1842 - val_loss: 1.3736 - val_accuracy: 0.3500\n",
      "Epoch 4/25\n",
      "10/10 [==============================] - 0s 13ms/step - loss: 1.3658 - accuracy: 0.3684 - val_loss: 1.3521 - val_accuracy: 0.7000\n",
      "Epoch 5/25\n",
      "10/10 [==============================] - 0s 13ms/step - loss: 1.3378 - accuracy: 0.3553 - val_loss: 1.2797 - val_accuracy: 0.6500\n",
      "Epoch 6/25\n",
      "10/10 [==============================] - 0s 13ms/step - loss: 1.2447 - accuracy: 0.5526 - val_loss: 1.0888 - val_accuracy: 1.0000\n",
      "Epoch 7/25\n",
      "10/10 [==============================] - 0s 14ms/step - loss: 0.9644 - accuracy: 0.8158 - val_loss: 0.7001 - val_accuracy: 0.9500\n",
      "Epoch 8/25\n",
      "10/10 [==============================] - 0s 13ms/step - loss: 0.7988 - accuracy: 0.7368 - val_loss: 0.6573 - val_accuracy: 0.5500\n",
      "Epoch 9/25\n",
      "10/10 [==============================] - 0s 13ms/step - loss: 0.5333 - accuracy: 0.8947 - val_loss: 0.6299 - val_accuracy: 0.8000\n",
      "Epoch 10/25\n",
      "10/10 [==============================] - 0s 13ms/step - loss: 0.3876 - accuracy: 0.9211 - val_loss: 0.2451 - val_accuracy: 1.0000\n",
      "Epoch 11/25\n",
      "10/10 [==============================] - 0s 13ms/step - loss: 0.1923 - accuracy: 0.9737 - val_loss: 0.1116 - val_accuracy: 1.0000\n",
      "Epoch 12/25\n",
      "10/10 [==============================] - 0s 14ms/step - loss: 0.1007 - accuracy: 1.0000 - val_loss: 0.1161 - val_accuracy: 1.0000\n",
      "Epoch 13/25\n",
      "10/10 [==============================] - 0s 13ms/step - loss: 0.1286 - accuracy: 0.9737 - val_loss: 0.1064 - val_accuracy: 1.0000\n",
      "Epoch 14/25\n",
      "10/10 [==============================] - 0s 14ms/step - loss: 0.0880 - accuracy: 0.9868 - val_loss: 0.0358 - val_accuracy: 1.0000\n",
      "Epoch 15/25\n",
      "10/10 [==============================] - 0s 12ms/step - loss: 0.1810 - accuracy: 0.9868 - val_loss: 0.0709 - val_accuracy: 1.0000\n",
      "Epoch 16/25\n",
      "10/10 [==============================] - 0s 13ms/step - loss: 0.0703 - accuracy: 1.0000 - val_loss: 0.0771 - val_accuracy: 1.0000\n",
      "Epoch 17/25\n",
      "10/10 [==============================] - 0s 12ms/step - loss: 0.0446 - accuracy: 1.0000 - val_loss: 0.0209 - val_accuracy: 1.0000\n",
      "Epoch 18/25\n",
      "10/10 [==============================] - 0s 13ms/step - loss: 0.0215 - accuracy: 1.0000 - val_loss: 0.0179 - val_accuracy: 1.0000\n",
      "Epoch 19/25\n",
      "10/10 [==============================] - 0s 13ms/step - loss: 0.0163 - accuracy: 1.0000 - val_loss: 0.0153 - val_accuracy: 1.0000\n",
      "Epoch 20/25\n",
      "10/10 [==============================] - 0s 14ms/step - loss: 0.0137 - accuracy: 1.0000 - val_loss: 0.0130 - val_accuracy: 1.0000\n",
      "Epoch 21/25\n",
      "10/10 [==============================] - 0s 13ms/step - loss: 0.0122 - accuracy: 1.0000 - val_loss: 0.0120 - val_accuracy: 1.0000\n",
      "Epoch 22/25\n",
      "10/10 [==============================] - 0s 13ms/step - loss: 0.0111 - accuracy: 1.0000 - val_loss: 0.0111 - val_accuracy: 1.0000\n",
      "Epoch 23/25\n",
      "10/10 [==============================] - 0s 13ms/step - loss: 0.0103 - accuracy: 1.0000 - val_loss: 0.0104 - val_accuracy: 1.0000\n",
      "Epoch 24/25\n",
      "10/10 [==============================] - 0s 13ms/step - loss: 0.0096 - accuracy: 1.0000 - val_loss: 0.0097 - val_accuracy: 1.0000\n",
      "Epoch 25/25\n",
      "10/10 [==============================] - 0s 13ms/step - loss: 0.0090 - accuracy: 1.0000 - val_loss: 0.0091 - val_accuracy: 1.0000\n"
     ]
    }
   ],
   "source": [
    "history = model.fit(x_train,y_train_1h,epochs=25,batch_size=8,verbose=1,validation_split=0.2)"
   ],
   "metadata": {
    "collapsed": false,
    "pycharm": {
     "name": "#%%\n"
    }
   }
  },
  {
   "cell_type": "code",
   "execution_count": 24,
   "outputs": [],
   "source": [
    "df_hist = pd.DataFrame.from_dict(history.history) # draw graph"
   ],
   "metadata": {
    "collapsed": false,
    "pycharm": {
     "name": "#%%\n"
    }
   }
  },
  {
   "cell_type": "code",
   "execution_count": 25,
   "outputs": [
    {
     "name": "stdout",
     "output_type": "stream",
     "text": [
      "Training Done\n"
     ]
    },
    {
     "data": {
      "text/plain": "<Figure size 432x288 with 1 Axes>",
      "image/png": "[encoded data removed]"
     },
     "metadata": {},
     "output_type": "display_data"
    }
   ],
   "source": [
    "print(\"Training Done\")\n",
    "\n",
    "df_hist['loss'].plot(style='b--',label='train')\n",
    "df_hist['val_loss'].plot(style='r-',label='val')\n",
    "plt.xlabel('epoch')\n",
    "plt.ylabel('loss')\n",
    "plt.legend()\n",
    "plt.title('Loss')\n",
    "plt.show()"
   ],
   "metadata": {
    "collapsed": false,
    "pycharm": {
     "name": "#%%\n"
    }
   }
  },
  {
   "cell_type": "code",
   "execution_count": 26,
   "outputs": [
    {
     "data": {
      "text/plain": "<Figure size 432x288 with 1 Axes>",
      "image/png": "[encoded data removed]"
     },
     "metadata": {},
     "output_type": "display_data"
    }
   ],
   "source": [
    "df_hist['accuracy'].plot(style='b--',label='train')  # 68, 16\n",
    "df_hist['val_accuracy'].plot(style='r-',label='val')\n",
    "plt.xlabel('epoch')\n",
    "plt.ylabel('accuracy')\n",
    "plt.legend()\n",
    "plt.title('Accuracy')\n",
    "plt.show()"
   ],
   "metadata": {
    "collapsed": false,
    "pycharm": {
     "name": "#%%\n"
    }
   }
  },
  {
   "cell_type": "code",
   "execution_count": 27,
   "outputs": [
    {
     "name": "stdout",
     "output_type": "stream",
     "text": [
      "test loss :  0.008456769399344921\n",
      "test accuracy :  1.0\n"
     ]
    }
   ],
   "source": [
    "score = model.evaluate(x_test,y_test_1h,verbose=0) # test = 36\n",
    "print('test loss : ',score[0])\n",
    "print('test accuracy : ',score[1])"
   ],
   "metadata": {
    "collapsed": false,
    "pycharm": {
     "name": "#%%\n"
    }
   }
  },
  {
   "cell_type": "code",
   "execution_count": 28,
   "outputs": [
    {
     "name": "stdout",
     "output_type": "stream",
     "text": [
      "(24, 42)\n",
      "<class 'pandas.core.frame.DataFrame'>\n"
     ]
    }
   ],
   "source": [
    "# model.save(handLms_model_filename) # handLms_model.h5\n",
    "\n",
    "print(x_test.shape)\n",
    "print(type(x_test))"
   ],
   "metadata": {
    "collapsed": false,
    "pycharm": {
     "name": "#%%\n"
    }
   }
  },
  {
   "cell_type": "code",
   "execution_count": 29,
   "outputs": [
    {
     "name": "stdout",
     "output_type": "stream",
     "text": [
      "[1 1 0 1 0 2 2 0 1 3 0 2 0 1 2 3 3 0 2 3 2 1 1 2]\n",
      "[1 1 0 1 0 2 2 0 1 3 0 2 0 1 2 3 3 0 2 3 2 1 1 2]\n"
     ]
    }
   ],
   "source": [
    "y_pred = model.predict(x_test) # love 0100 => 0.03, 0.99, 0.02, 0.05\n",
    "y_pred = np.argmax(y_pred,axis=1) # love = 0100\n",
    "\n",
    "print(y_test) # 1\n",
    "print(y_pred) # 1"
   ],
   "metadata": {
    "collapsed": false,
    "pycharm": {
     "name": "#%%\n"
    }
   }
  },
  {
   "cell_type": "code",
   "execution_count": 30,
   "outputs": [
    {
     "name": "stdout",
     "output_type": "stream",
     "text": [
      "[[6 0 0 0]\n",
      " [0 7 0 0]\n",
      " [0 0 7 0]\n",
      " [0 0 0 4]]\n",
      "1.0\n",
      "              precision    recall  f1-score   support\n",
      "\n",
      "           0       1.00      1.00      1.00         6\n",
      "           1       1.00      1.00      1.00         7\n",
      "           2       1.00      1.00      1.00         7\n",
      "           3       1.00      1.00      1.00         4\n",
      "\n",
      "    accuracy                           1.00        24\n",
      "   macro avg       1.00      1.00      1.00        24\n",
      "weighted avg       1.00      1.00      1.00        24\n",
      "\n"
     ]
    }
   ],
   "source": [
    "print(confusion_matrix(y_test,y_pred))\n",
    "print(accuracy_score(y_test,y_pred))\n",
    "print(classification_report(y_test,y_pred))"
   ],
   "metadata": {
    "collapsed": false,
    "pycharm": {
     "name": "#%%\n"
    }
   }
  },
  {
   "cell_type": "code",
   "execution_count": 31,
   "outputs": [
    {
     "data": {
      "text/plain": "<Figure size 432x288 with 2 Axes>",
      "image/png": "[encoded data removed]"
     },
     "metadata": {},
     "output_type": "display_data"
    }
   ],
   "source": [
    "ax = plt.subplot()\n",
    "cm = confusion_matrix(y_test,y_pred)\n",
    "sns.heatmap(cm,annot=True,ax=ax,cmap='coolwarm')\n",
    "ax.set_xlabel('Predicted labels')\n",
    "ax.set_ylabel('Actual labels')\n",
    "ax.set_title('Confusion Matrix')\n",
    "# ax.xaxis.set_ticklabels(y_targets)\n",
    "# ax.yaxis.set_ticklabels(y_targets)\n",
    "plt.show()"
   ],
   "metadata": {
    "collapsed": false,
    "pycharm": {
     "name": "#%%\n"
    }
   }
  },
  {
   "cell_type": "code",
   "execution_count": 31,
   "outputs": [],
   "source": [],
   "metadata": {
    "collapsed": false,
    "pycharm": {
     "name": "#%%\n"
    }
   }
  },
  {
   "cell_type": "code",
   "execution_count": 31,
   "outputs": [],
   "source": [],
   "metadata": {
    "collapsed": false,
    "pycharm": {
     "name": "#%%\n"
    }
   }
  }
 ],
 "metadata": {
  "kernelspec": {
   "display_name": "Python 3",
   "language": "python",
   "name": "python3"
  },
  "language_info": {
   "codemirror_mode": {
    "name": "ipython",
    "version": 2
   },
   "file_extension": ".py",
   "mimetype": "text/x-python",
   "name": "python",
   "nbconvert_exporter": "python",
   "pygments_lexer": "ipython2",
   "version": "2.7.6"
  }
 },
 "nbformat": 4,
 "nbformat_minor": 0
}