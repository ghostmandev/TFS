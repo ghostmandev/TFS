{
 "cells": [
  {
   "cell_type": "code",
   "execution_count": 1,
   "outputs": [],
   "source": [
    "import mediapipe as mp\n",
    "import cv2\n",
    "import csv\n",
    "import os\n",
    "import numpy as np\n",
    "import pandas as pd\n",
    "from sklearn.model_selection import train_test_split"
   ],
   "metadata": {
    "collapsed": false,
    "pycharm": {
     "name": "#%%\n"
    }
   }
  },
  {
   "cell_type": "code",
   "execution_count": 2,
   "outputs": [],
   "source": [
    "mp_drawing = mp.solutions.drawing_utils # Drawing helpers\n",
    "mp_holistic = mp.solutions.holistic # Mediapipe Solutions"
   ],
   "metadata": {
    "collapsed": false,
    "pycharm": {
     "name": "#%%\n"
    }
   }
  },
  {
   "cell_type": "code",
   "execution_count": 3,
   "outputs": [],
   "source": [
    "num_coords = 75  # (33 pose landmarks, 468 face landmarks, and 21 hand landmarks per hand)."
   ],
   "metadata": {
    "collapsed": false,
    "pycharm": {
     "name": "#%%\n"
    }
   }
  },
  {
   "cell_type": "code",
   "execution_count": 4,
   "outputs": [],
   "source": [
    "# landmarks = ['class']\n",
    "# for val in range(1, num_coords+1):\n",
    "#     landmarks += ['x{}'.format(val), 'y{}'.format(val), 'z{}'.format(val), 'v{}'.format(val)]"
   ],
   "metadata": {
    "collapsed": false,
    "pycharm": {
     "name": "#%%\n"
    }
   }
  },
  {
   "cell_type": "code",
   "execution_count": 5,
   "outputs": [],
   "source": [
    "landmarks = ['class']\n",
    "for val in range(1, num_coords+1):\n",
    "    landmarks += ['x{}'.format(val), 'y{}'.format(val), 'z{}'.format(val)]"
   ],
   "metadata": {
    "collapsed": false,
    "pycharm": {
     "name": "#%%\n"
    }
   }
  },
  {
   "cell_type": "code",
   "execution_count": 6,
   "outputs": [],
   "source": [
    "csv_file = 'TFS_TwoHand_75_points_no_V.csv'\n",
    "with open(csv_file, mode='w', newline='', encoding='utf-8') as f:\n",
    "    csv_writer = csv.writer(f, delimiter=',', quotechar='\"', quoting=csv.QUOTE_MINIMAL)\n",
    "    csv_writer.writerow(landmarks)"
   ],
   "metadata": {
    "collapsed": false,
    "pycharm": {
     "name": "#%%\n"
    }
   }
  },
  {
   "cell_type": "code",
   "execution_count": 7,
   "outputs": [],
   "source": [
    "# def mediapipe(path_of_file):\n",
    "#     frame = cv2.imread(path_of_file)\n",
    "#         # Initiate holistic model\n",
    "#     with mp_holistic.Holistic(min_detection_confidence=0.5, min_tracking_confidence=0.5) as holistic:\n",
    "#\n",
    "# #                 while cap.isOpened():\n",
    "# #                     ret, frame = cap.read()\n",
    "# #                     if ret == True:\n",
    "#                 # Recolor Feed\n",
    "#         image = cv2.cvtColor(frame, cv2.COLOR_BGR2RGB)\n",
    "#         image.flags.writeable = False\n",
    "#\n",
    "#         # Make Detections\n",
    "#         results = holistic.process(image)\n",
    "#         # print(results.face_landmarks)\n",
    "#\n",
    "#         # face_landmarks, pose_landmarks, left_hand_landmarks, right_hand_landmarks\n",
    "#\n",
    "#         # Recolor image back to BGR for rendering\n",
    "#         image.flags.writeable = True\n",
    "#         image = cv2.cvtColor(image, cv2.COLOR_RGB2BGR)\n",
    "#\n",
    "#\n",
    "#         # 1. Pose Detections\n",
    "#         mp_drawing.draw_landmarks(image, results.pose_landmarks, mp_holistic.POSE_CONNECTIONS,\n",
    "#                                  mp_drawing.DrawingSpec(color=(245,117,66), thickness=2, circle_radius=4),\n",
    "#                                  mp_drawing.DrawingSpec(color=(245,66,230), thickness=2, circle_radius=2)\n",
    "#                                  )\n",
    "#\n",
    "#         # 2. Right hand\n",
    "#         mp_drawing.draw_landmarks(image, results.right_hand_landmarks, mp_holistic.HAND_CONNECTIONS,\n",
    "#                                  mp_drawing.DrawingSpec(color=(80,22,10), thickness=2, circle_radius=4),\n",
    "#                                  mp_drawing.DrawingSpec(color=(80,44,121), thickness=2, circle_radius=2)\n",
    "#                                  )\n",
    "#\n",
    "#         # 3. Left Hand\n",
    "#         mp_drawing.draw_landmarks(image, results.left_hand_landmarks, mp_holistic.HAND_CONNECTIONS,\n",
    "#                                  mp_drawing.DrawingSpec(color=(121,22,76), thickness=2, circle_radius=4),\n",
    "#                                  mp_drawing.DrawingSpec(color=(121,44,250), thickness=2, circle_radius=2)\n",
    "#                                  )\n",
    "#\n",
    "#\n",
    "#\n",
    "#\n",
    "#         # Extract Pose landmarks\n",
    "#         pose = results.pose_landmarks.landmark\n",
    "#         pose_row = list(np.array([[landmark.x, landmark.y, landmark.z, landmark.visibility] for landmark in pose]).flatten())\n",
    "#\n",
    "#         try:\n",
    "#             # Extract Right Hand landmarks\n",
    "#             right_hand = results.right_hand_landmarks.landmark\n",
    "#             right_row = list(np.array([[landmark.x, landmark.y, landmark.z, landmark.visibility] for landmark in right_hand]).flatten())\n",
    "#             r_hand = 1\n",
    "#         except AttributeError:\n",
    "#             r_hand = 0\n",
    "#             rh_none = [None] * 21\n",
    "#             pass\n",
    "#\n",
    "#         try:\n",
    "#             # Extract Left Hand landmarks\n",
    "#             left_hand = results.left_hand_landmarks.landmark\n",
    "#             left_row = list(np.array([[landmark.x, landmark.y, landmark.z, landmark.visibility] for landmark in left_hand]).flatten())\n",
    "#             l_hand = 1\n",
    "#         except AttributeError:\n",
    "#             l_hand = 0\n",
    "#             lh_none = [None] * 21\n",
    "#             pass\n",
    "#\n",
    "#         if r_hand == 1 and l_hand == 1:\n",
    "#             row = pose_row + right_row + left_row\n",
    "#         elif r_hand == 0 and l_hand == 1:\n",
    "#             row = pose_row + rh_none + left_row\n",
    "#             # print('**************** No Right Hand =====>  = ',path_of_file)\n",
    "#         elif r_hand == 1 and l_hand == 0:\n",
    "#             row = pose_row + right_row + lh_none\n",
    "#             # print('**************** No Left Hand =====> = ',path_of_file)\n",
    "#         else:\n",
    "#             row = pose_row + rh_none + lh_none\n",
    "#             # print('**************** No Hands =====> ',path_of_file)\n",
    "#             pass\n",
    "#\n",
    "#         row.insert(0, class_name)\n",
    "#\n",
    "#         with open(csv_file, mode='a', newline='',encoding='utf-8') as f:\n",
    "#             csv_writer = csv.writer(f, delimiter=',', quotechar='\"', quoting=csv.QUOTE_MINIMAL)\n",
    "#             csv_writer.writerow(row)"
   ],
   "metadata": {
    "collapsed": false,
    "pycharm": {
     "name": "#%%\n"
    }
   }
  },
  {
   "cell_type": "code",
   "execution_count": 8,
   "outputs": [],
   "source": [
    "def mediapipe(path_of_file):\n",
    "    frame = cv2.imread(path_of_file)\n",
    "        # Initiate holistic model\n",
    "    with mp_holistic.Holistic(min_detection_confidence=0.5, min_tracking_confidence=0.5) as holistic:\n",
    "\n",
    "#                 while cap.isOpened():\n",
    "#                     ret, frame = cap.read()\n",
    "#                     if ret == True:\n",
    "                # Recolor Feed\n",
    "        image = cv2.cvtColor(frame, cv2.COLOR_BGR2RGB)\n",
    "        image.flags.writeable = False\n",
    "\n",
    "        # Make Detections\n",
    "        results = holistic.process(image)\n",
    "        # print(results.face_landmarks)\n",
    "\n",
    "        # face_landmarks, pose_landmarks, left_hand_landmarks, right_hand_landmarks\n",
    "\n",
    "        # Recolor image back to BGR for rendering\n",
    "        image.flags.writeable = True\n",
    "        image = cv2.cvtColor(image, cv2.COLOR_RGB2BGR)\n",
    "\n",
    "\n",
    "        # 1. Pose Detections\n",
    "        mp_drawing.draw_landmarks(image, results.pose_landmarks, mp_holistic.POSE_CONNECTIONS,\n",
    "                                 mp_drawing.DrawingSpec(color=(245,117,66), thickness=2, circle_radius=4),\n",
    "                                 mp_drawing.DrawingSpec(color=(245,66,230), thickness=2, circle_radius=2)\n",
    "                                 )\n",
    "\n",
    "        # 2. Right hand\n",
    "        mp_drawing.draw_landmarks(image, results.right_hand_landmarks, mp_holistic.HAND_CONNECTIONS,\n",
    "                                 mp_drawing.DrawingSpec(color=(80,22,10), thickness=2, circle_radius=4),\n",
    "                                 mp_drawing.DrawingSpec(color=(80,44,121), thickness=2, circle_radius=2)\n",
    "                                 )\n",
    "\n",
    "        # 3. Left Hand\n",
    "        mp_drawing.draw_landmarks(image, results.left_hand_landmarks, mp_holistic.HAND_CONNECTIONS,\n",
    "                                 mp_drawing.DrawingSpec(color=(121,22,76), thickness=2, circle_radius=4),\n",
    "                                 mp_drawing.DrawingSpec(color=(121,44,250), thickness=2, circle_radius=2)\n",
    "                                 )\n",
    "\n",
    "\n",
    "\n",
    "\n",
    "        # Extract Pose landmarks\n",
    "        pose = results.pose_landmarks.landmark\n",
    "        pose_row = list(np.array([[landmark.x, landmark.y, landmark.z] for landmark in pose]).flatten())\n",
    "\n",
    "        try:\n",
    "            # Extract Right Hand landmarks\n",
    "            right_hand = results.right_hand_landmarks.landmark\n",
    "            right_row = list(np.array([[landmark.x, landmark.y, landmark.z] for landmark in right_hand]).flatten())\n",
    "            r_hand = 1\n",
    "        except AttributeError:\n",
    "            r_hand = 0\n",
    "            rh_none = [None] * 21\n",
    "            pass\n",
    "\n",
    "        try:\n",
    "            # Extract Left Hand landmarks\n",
    "            left_hand = results.left_hand_landmarks.landmark\n",
    "            left_row = list(np.array([[landmark.x, landmark.y, landmark.z] for landmark in left_hand]).flatten())\n",
    "            l_hand = 1\n",
    "        except AttributeError:\n",
    "            l_hand = 0\n",
    "            lh_none = [None] * 21\n",
    "            pass\n",
    "\n",
    "        if r_hand == 1 and l_hand == 1:\n",
    "            row = pose_row + right_row + left_row\n",
    "        elif r_hand == 0 and l_hand == 1:\n",
    "            row = pose_row + rh_none + left_row\n",
    "            # print('**************** No Right Hand =====>  = ',path_of_file)\n",
    "        elif r_hand == 1 and l_hand == 0:\n",
    "            row = pose_row + right_row + lh_none\n",
    "            # print('**************** No Left Hand =====> = ',path_of_file)\n",
    "        else:\n",
    "            row = pose_row + rh_none + lh_none\n",
    "            # print('**************** No Hands =====> ',path_of_file)\n",
    "            pass\n",
    "\n",
    "        row.insert(0, class_name)\n",
    "\n",
    "        with open(csv_file, mode='a', newline='',encoding='utf-8') as f:\n",
    "            csv_writer = csv.writer(f, delimiter=',', quotechar='\"', quoting=csv.QUOTE_MINIMAL)\n",
    "            csv_writer.writerow(row)"
   ],
   "metadata": {
    "collapsed": false,
    "pycharm": {
     "name": "#%%\n"
    }
   }
  },
  {
   "cell_type": "code",
   "execution_count": 9,
   "outputs": [],
   "source": [
    "# srcPath = 'C:\\\\Users\\\\wutti\\\\Desktop\\\\Test_Files\\\\'\n",
    "# srcPath = 'D:\\\\FingerSpelling\\\\Skeleton_Dataset\\\\'\n",
    "srcPath = 'D:\\\\FingerSpelling\\\\Skeleton_Dataset\\\\TwoHand\\\\'"
   ],
   "metadata": {
    "collapsed": false,
    "pycharm": {
     "name": "#%%\n"
    }
   }
  },
  {
   "cell_type": "code",
   "execution_count": 10,
   "outputs": [
    {
     "name": "stdout",
     "output_type": "stream",
     "text": [
      "Class Name =  อ่\n",
      "Class Name =  อ้\n",
      "Class Name =  อ๊\n",
      "Class Name =  อ๋\n",
      "Class Name =  ทัณฑฆาต\n",
      "Class Name =  ฤ\n",
      "Class Name =  อะ\n",
      "Class Name =  อา\n",
      "Class Name =  อำ\n",
      "Class Name =  อุ\n",
      "Class Name =  อู\n",
      "Class Name =  ฯ\n",
      "Class Name =  เอ\n",
      "Class Name =  แอ\n",
      "Class Name =  ไม้หันอากาศ\n",
      "Class Name =  ไม้ไต่คู้\n",
      "\n",
      "!!!!...........Done........... !!!!\n"
     ]
    }
   ],
   "source": [
    "from natsort import natsort\n",
    "x = []\n",
    "file = []\n",
    "for group_word in os.listdir(srcPath):\n",
    "    path_of_main_word = srcPath + group_word + '\\\\'\n",
    "#     print('Main Word = {}'.format(main_word))\n",
    "\n",
    "    for Main_clip_word in os.listdir(path_of_main_word):\n",
    "        main_clip_path = path_of_main_word + '\\\\' + Main_clip_word + '\\\\'\n",
    "        class_name = Main_clip_word\n",
    "        print('Class Name = ',class_name)\n",
    "        for sub_clip_word in os.listdir(main_clip_path):\n",
    "            sub_clip_path = main_clip_path + sub_clip_word + '\\\\'\n",
    "            # print('Sub_clip = ', sub_clip_word)\n",
    "\n",
    "            for file_word in os.listdir(sub_clip_path):\n",
    "                # print(file_word)\n",
    "                x.append(file_word)\n",
    "            file = x\n",
    "            sort_file = natsort.natsorted(file)\n",
    "            # print('sort_file = ', sort_file)\n",
    "            x = []\n",
    "\n",
    "            for i in range(0,len(sort_file)):\n",
    "                # print('value = ', i)\n",
    "                path_of_file = sub_clip_path + '\\\\' + sort_file[i]\n",
    "                # print('path of file: ', str(sub_clip_word) + '\\\\' + sort_file[i])\n",
    "\n",
    "                mediapipe(path_of_file)\n",
    "\n",
    "print('')\n",
    "print('!!!!...........Done........... !!!!')"
   ],
   "metadata": {
    "collapsed": false,
    "pycharm": {
     "name": "#%%\n"
    }
   }
  },
  {
   "cell_type": "code",
   "execution_count": 10,
   "outputs": [],
   "source": [],
   "metadata": {
    "collapsed": false,
    "pycharm": {
     "name": "#%%\n"
    }
   }
  }
 ],
 "metadata": {
  "kernelspec": {
   "display_name": "Python 3",
   "language": "python",
   "name": "python3"
  },
  "language_info": {
   "codemirror_mode": {
    "name": "ipython",
    "version": 2
   },
   "file_extension": ".py",
   "mimetype": "text/x-python",
   "name": "python",
   "nbconvert_exporter": "python",
   "pygments_lexer": "ipython2",
   "version": "2.7.6"
  }
 },
 "nbformat": 4,
 "nbformat_minor": 0
}