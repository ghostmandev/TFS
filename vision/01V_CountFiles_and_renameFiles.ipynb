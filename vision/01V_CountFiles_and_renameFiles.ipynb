{
 "cells": [
  {
   "cell_type": "code",
   "execution_count": 10,
   "metadata": {
    "collapsed": true,
    "pycharm": {
     "name": "#%%\n"
    }
   },
   "outputs": [],
   "source": [
    "import os"
   ]
  },
  {
   "cell_type": "code",
   "execution_count": 13,
   "outputs": [],
   "source": [
    "main_folder= 'E:\\\\RemoveBG_TFS_success\\\\test_OneHand\\\\'\n",
    "# main_folder = 'D:\\\\Projects\\\\TFS\\\\Dataset\\\\Vision_Dataset\\\\SeperateFiles\\\\rembg_TFS\\\\TwoHand\\\\'\n",
    "num_sub, num_mainfile, subDir, num_files, allfiles, crp_count, crop_all_folder  = 0,0,0,0,0, 0,0"
   ],
   "metadata": {
    "collapsed": false,
    "pycharm": {
     "name": "#%%\n"
    }
   }
  },
  {
   "cell_type": "code",
   "execution_count": 14,
   "outputs": [
    {
     "name": "stdout",
     "output_type": "stream",
     "text": [
      "Num Files of ก: 127 ====> Crops: 127\n",
      "Num Files of ข: 147 ====> Crops: 147\n",
      "Num Files of โอ: 109 ====> Crops: 109\n",
      "Num Files of ใอ: 114 ====> Crops: 114\n",
      "\n",
      "All files:  497\n",
      "All words:  4\n",
      "Sub folder:  12\n",
      "Crop all folder:  497\n",
      "Average Crops per folder : 41.416666666666664\n",
      "Average Crops per Sub Folder : 41.416666666666664 (words)\n",
      "Average Files per word : 124.25\n"
     ]
    }
   ],
   "source": [
    "for subtype_folder in os.listdir(main_folder):\n",
    "            num_sub += 1\n",
    "            subtype_path = main_folder + subtype_folder + '\\\\'\n",
    "            # print('num_sub = ', num_sub)\n",
    "            # print('Subtype_folder = ',subtype_folder)\n",
    "            for mainfile_folder in os.listdir(subtype_path):\n",
    "                num_mainfile += 1\n",
    "                mainfile_path = subtype_path + mainfile_folder + '\\\\'\n",
    "                # print('mainfile_path = ',mainfile_path)\n",
    "                # print('num_mainfile = ',num_mainfile)\n",
    "                # print(mainfile_folder)\n",
    "                for filename in os.listdir(mainfile_path):\n",
    "\n",
    "                    if (filename != '.DS_Store') and (filename != 'desktop.ini'):\n",
    "                        groupFolder = mainfile_path + filename + '\\\\Humand hand\\\\'\n",
    "                        subDir += 1\n",
    "                        # print(filename)\n",
    "                        # print(groupFolder)\n",
    "                        for crp_folder in os.listdir(groupFolder):\n",
    "                            crp_path = groupFolder + crp_folder\n",
    "                            crp_count += 1\n",
    "                            crop_all_folder += 1\n",
    "                            # print(crp_folder)\n",
    "                            for remBG_file in os.listdir(crp_path):\n",
    "                                remBG_file_path = crp_path + '\\\\' + remBG_file\n",
    "                                # print(remBG_file)\n",
    "                                num_files += 1\n",
    "                                allfiles += 1\n",
    "                                # if remBG_file[-11:] == '.jpg0000600' :\n",
    "                                #     print(remBG_file)\n",
    "                                #     new_bg = remBG_file.replace('0000600', '')\n",
    "                                #     print(new_bg)\n",
    "                                #     os.rename(crp_path + '\\\\' + remBG_file, crp_path + '\\\\' + new_bg)\n",
    "                                #     num_files += 1\n",
    "                print(f'Num Files of {mainfile_folder}: {num_files} ====> Crops: {crp_count}')\n",
    "                num_files, crp_count = 0, 0\n",
    "                #\n",
    "                # print('Crop Folder : ',crp_count)\n",
    "                # crp_count = 0\n",
    "\n",
    "\n",
    "print('')\n",
    "print('All files: ', allfiles)\n",
    "print('All words: ', num_mainfile)\n",
    "print('Sub folder: ', subDir)\n",
    "print('Crop all folder: ',crop_all_folder)\n",
    "print(f'Average Crops per folder : {crop_all_folder / subDir}')\n",
    "print(f'Average Crops per Sub Folder : {allfiles / subDir} (words)')\n",
    "print(f'Average Files per word : {allfiles / num_mainfile}')\n"
   ],
   "metadata": {
    "collapsed": false,
    "pycharm": {
     "name": "#%%\n"
    }
   }
  },
  {
   "cell_type": "code",
   "execution_count": 3,
   "outputs": [],
   "source": [],
   "metadata": {
    "collapsed": false,
    "pycharm": {
     "name": "#%%\n"
    }
   }
  }
 ],
 "metadata": {
  "kernelspec": {
   "display_name": "Python 3",
   "language": "python",
   "name": "python3"
  },
  "language_info": {
   "codemirror_mode": {
    "name": "ipython",
    "version": 2
   },
   "file_extension": ".py",
   "mimetype": "text/x-python",
   "name": "python",
   "nbconvert_exporter": "python",
   "pygments_lexer": "ipython2",
   "version": "2.7.6"
  }
 },
 "nbformat": 4,
 "nbformat_minor": 0
}