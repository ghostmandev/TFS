{
 "cells": [
  {
   "cell_type": "code",
   "execution_count": 1,
   "outputs": [],
   "source": [
    "# !pip install easydev                 #version 0.12.0\n",
    "# !pip install colormap                #version 1.0.4\n",
    "# #!pip install opencv-python           #version 4.5.5.64\n",
    "# !pip install colorgram.py            #version 1.2.0\n",
    "# !pip install extcolors               #version 1.0.0"
   ],
   "metadata": {
    "collapsed": false,
    "pycharm": {
     "name": "#%%\n"
    }
   }
  },
  {
   "cell_type": "code",
   "execution_count": 2,
   "outputs": [],
   "source": [
    "import pandas as pd\n",
    "import matplotlib.pyplot as plt\n",
    "import extcolors\n",
    "from colormap import rgb2hex\n",
    "from PIL import Image"
   ],
   "metadata": {
    "collapsed": false,
    "pycharm": {
     "name": "#%%\n"
    }
   }
  },
  {
   "cell_type": "code",
   "execution_count": 3,
   "outputs": [
    {
     "name": "stderr",
     "output_type": "stream",
     "text": [
      "C:\\Users\\wutti\\AppData\\Local\\Temp/ipykernel_2288/1576065496.py:4: DeprecationWarning: ANTIALIAS is deprecated and will be removed in Pillow 10 (2023-07-01). Use Resampling.LANCZOS instead.\n",
      "  img = img.resize((img.size[0],img.size[1]), Image.ANTIALIAS)\n"
     ]
    }
   ],
   "source": [
    "input_name = 'krbg.jpg'\n",
    "img = Image.open(input_name)\n",
    "\n",
    "img = img.resize((img.size[0],img.size[1]), Image.ANTIALIAS)\n",
    "\n",
    "#save\n",
    "resize_name = input_name  #the resized image name\n",
    "img.save(resize_name, format= 'PNG')\n",
    "\n",
    "# plt.figure(figsize=(2,2))\n",
    "# plt.imshow(img)\n",
    "# plt.axis('off')\n",
    "# plt.show()"
   ],
   "metadata": {
    "collapsed": false,
    "pycharm": {
     "name": "#%%\n"
    }
   }
  },
  {
   "cell_type": "code",
   "execution_count": 4,
   "outputs": [
    {
     "data": {
      "text/plain": "(224, 224)"
     },
     "execution_count": 4,
     "metadata": {},
     "output_type": "execute_result"
    }
   ],
   "source": [
    "img.size"
   ],
   "metadata": {
    "collapsed": false,
    "pycharm": {
     "name": "#%%\n"
    }
   }
  },
  {
   "cell_type": "code",
   "execution_count": 5,
   "outputs": [
    {
     "data": {
      "text/plain": "([((0, 0, 0), 12543),\n  ((237, 27, 36), 12099),\n  ((0, 163, 232), 12090),\n  ((35, 177, 77), 11885),\n  ((46, 170, 82), 215),\n  ((68, 156, 95), 212),\n  ((14, 158, 218), 117),\n  ((18, 0, 0), 112),\n  ((57, 0, 0), 111),\n  ((182, 51, 56), 111),\n  ((217, 36, 43), 111),\n  ((0, 15, 41), 111),\n  ((46, 147, 191), 111),\n  ((189, 50, 43), 109),\n  ((20, 159, 198), 106),\n  ((0, 30, 11), 104),\n  ((61, 157, 86), 6),\n  ((0, 34, 8), 5),\n  ((18, 161, 191), 4),\n  ((0, 166, 218), 3)],\n 50176)"
     },
     "execution_count": 5,
     "metadata": {},
     "output_type": "execute_result"
    }
   ],
   "source": [
    "colors_x = extcolors.extract_from_path(resize_name, tolerance = 5, limit = 20)\n",
    "colors_x"
   ],
   "metadata": {
    "collapsed": false,
    "pycharm": {
     "name": "#%%\n"
    }
   }
  },
  {
   "cell_type": "code",
   "execution_count": 6,
   "outputs": [
    {
     "data": {
      "text/plain": "     c_code occurence\n0   #000000     12543\n1   #ED1B24     12099\n2   #00A3E8     12090\n3   #23B14D     11885\n4   #2EAA52       215\n5   #449C5F       212\n6   #0E9EDA       117\n7   #120000       112\n8   #390000       111\n9   #B63338       111\n10  #D9242B       111\n11  #000F29       111\n12  #2E93BF       111\n13  #BD322B       109\n14  #149FC6       106\n15  #001E0B       104\n16  #3D9D56         6\n17  #002208         5\n18  #12A1BF         4",
      "text/html": "<div>\n<style scoped>\n    .dataframe tbody tr th:only-of-type {\n        vertical-align: middle;\n    }\n\n    .dataframe tbody tr th {\n        vertical-align: top;\n    }\n\n    .dataframe thead th {\n        text-align: right;\n    }\n</style>\n<table border=\"1\" class=\"dataframe\">\n  <thead>\n    <tr style=\"text-align: right;\">\n      <th></th>\n      <th>c_code</th>\n      <th>occurence</th>\n    </tr>\n  </thead>\n  <tbody>\n    <tr>\n      <th>0</th>\n      <td>#000000</td>\n      <td>12543</td>\n    </tr>\n    <tr>\n      <th>1</th>\n      <td>#ED1B24</td>\n      <td>12099</td>\n    </tr>\n    <tr>\n      <th>2</th>\n      <td>#00A3E8</td>\n      <td>12090</td>\n    </tr>\n    <tr>\n      <th>3</th>\n      <td>#23B14D</td>\n      <td>11885</td>\n    </tr>\n    <tr>\n      <th>4</th>\n      <td>#2EAA52</td>\n      <td>215</td>\n    </tr>\n    <tr>\n      <th>5</th>\n      <td>#449C5F</td>\n      <td>212</td>\n    </tr>\n    <tr>\n      <th>6</th>\n      <td>#0E9EDA</td>\n      <td>117</td>\n    </tr>\n    <tr>\n      <th>7</th>\n      <td>#120000</td>\n      <td>112</td>\n    </tr>\n    <tr>\n      <th>8</th>\n      <td>#390000</td>\n      <td>111</td>\n    </tr>\n    <tr>\n      <th>9</th>\n      <td>#B63338</td>\n      <td>111</td>\n    </tr>\n    <tr>\n      <th>10</th>\n      <td>#D9242B</td>\n      <td>111</td>\n    </tr>\n    <tr>\n      <th>11</th>\n      <td>#000F29</td>\n      <td>111</td>\n    </tr>\n    <tr>\n      <th>12</th>\n      <td>#2E93BF</td>\n      <td>111</td>\n    </tr>\n    <tr>\n      <th>13</th>\n      <td>#BD322B</td>\n      <td>109</td>\n    </tr>\n    <tr>\n      <th>14</th>\n      <td>#149FC6</td>\n      <td>106</td>\n    </tr>\n    <tr>\n      <th>15</th>\n      <td>#001E0B</td>\n      <td>104</td>\n    </tr>\n    <tr>\n      <th>16</th>\n      <td>#3D9D56</td>\n      <td>6</td>\n    </tr>\n    <tr>\n      <th>17</th>\n      <td>#002208</td>\n      <td>5</td>\n    </tr>\n    <tr>\n      <th>18</th>\n      <td>#12A1BF</td>\n      <td>4</td>\n    </tr>\n  </tbody>\n</table>\n</div>"
     },
     "execution_count": 6,
     "metadata": {},
     "output_type": "execute_result"
    }
   ],
   "source": [
    "\n",
    "def color_to_df(input):\n",
    "    colors_pre_list = str(input).replace('([(','').split(', (')[0:-1]\n",
    "    df_rgb = [i.split('), ')[0] + ')' for i in colors_pre_list]\n",
    "    df_percent = [i.split('), ')[1].replace(')','') for i in colors_pre_list]\n",
    "\n",
    "    #convert RGB to HEX code\n",
    "    df_color_up = [rgb2hex(int(i.split(\", \")[0].replace(\"(\",\"\")),\n",
    "                          int(i.split(\", \")[1]),\n",
    "                          int(i.split(\", \")[2].replace(\")\",\"\"))) for i in df_rgb]\n",
    "\n",
    "    df = pd.DataFrame(zip(df_color_up, df_percent), columns = ['c_code','occurence'])\n",
    "    return df\n",
    "\n",
    "df_color = color_to_df(colors_x)\n",
    "df_color"
   ],
   "metadata": {
    "collapsed": false,
    "pycharm": {
     "name": "#%%\n"
    }
   }
  },
  {
   "cell_type": "code",
   "execution_count": 46,
   "outputs": [
    {
     "data": {
      "text/plain": "'#000000'"
     },
     "execution_count": 46,
     "metadata": {},
     "output_type": "execute_result"
    }
   ],
   "source": [
    "df_color['c_code'][0]"
   ],
   "metadata": {
    "collapsed": false,
    "pycharm": {
     "name": "#%%\n"
    }
   }
  },
  {
   "cell_type": "code",
   "execution_count": 56,
   "outputs": [
    {
     "data": {
      "text/plain": "'#ED1B24'"
     },
     "execution_count": 56,
     "metadata": {},
     "output_type": "execute_result"
    }
   ],
   "source": [
    "df_color['c_code'][1]"
   ],
   "metadata": {
    "collapsed": false,
    "pycharm": {
     "name": "#%%\n"
    }
   }
  },
  {
   "cell_type": "code",
   "execution_count": 55,
   "outputs": [
    {
     "name": "stdout",
     "output_type": "stream",
     "text": [
      "Delete image\n"
     ]
    }
   ],
   "source": [
    "percent = 0.2\n",
    "\n",
    "if df_color['c_code'][0] == '#000000' and float(df_color['occurence'][0]) > (img.size[0]*img.size[1]*percent):\n",
    "    print('Delete image')\n",
    "else:\n",
    "    print('No delete')"
   ],
   "metadata": {
    "collapsed": false,
    "pycharm": {
     "name": "#%%\n"
    }
   }
  },
  {
   "cell_type": "code",
   "execution_count": 7,
   "outputs": [],
   "source": [
    "list_color = list(df_color['c_code'])\n",
    "list_precent = [int(i) for i in list(df_color['occurence'])]\n",
    "text_c = [c + ' ' + str(round(p*100/sum(list_precent),1)) +'%' for c, p in zip(list_color, list_precent)]"
   ],
   "metadata": {
    "collapsed": false,
    "pycharm": {
     "name": "#%%\n"
    }
   }
  },
  {
   "cell_type": "code",
   "execution_count": 8,
   "outputs": [],
   "source": [
    "df = pd.DataFrame(text_c)"
   ],
   "metadata": {
    "collapsed": false,
    "pycharm": {
     "name": "#%%\n"
    }
   }
  },
  {
   "cell_type": "code",
   "execution_count": 9,
   "outputs": [
    {
     "data": {
      "text/plain": "['#000000', '25.0%']"
     },
     "execution_count": 9,
     "metadata": {},
     "output_type": "execute_result"
    }
   ],
   "source": [
    "high = df[0][0].split(\" \")\n",
    "high"
   ],
   "metadata": {
    "collapsed": false,
    "pycharm": {
     "name": "#%%\n"
    }
   }
  },
  {
   "cell_type": "code",
   "execution_count": 9,
   "outputs": [],
   "source": [],
   "metadata": {
    "collapsed": false,
    "pycharm": {
     "name": "#%%\n"
    }
   }
  },
  {
   "cell_type": "code",
   "execution_count": 10,
   "outputs": [
    {
     "name": "stdout",
     "output_type": "stream",
     "text": [
      "No\n"
     ]
    }
   ],
   "source": [
    "if high[0] == '#000000' and float(high[1][:-1]) > 60 :\n",
    "    print('Correct')\n",
    "else:\n",
    "    print('No')"
   ],
   "metadata": {
    "collapsed": false,
    "pycharm": {
     "name": "#%%\n"
    }
   }
  }
 ],
 "metadata": {
  "kernelspec": {
   "display_name": "Python 3",
   "language": "python",
   "name": "python3"
  },
  "language_info": {
   "codemirror_mode": {
    "name": "ipython",
    "version": 2
   },
   "file_extension": ".py",
   "mimetype": "text/x-python",
   "name": "python",
   "nbconvert_exporter": "python",
   "pygments_lexer": "ipython2",
   "version": "2.7.6"
  }
 },
 "nbformat": 4,
 "nbformat_minor": 0
}