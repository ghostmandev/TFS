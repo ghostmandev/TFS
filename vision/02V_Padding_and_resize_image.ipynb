{
 "cells": [
  {
   "cell_type": "code",
   "execution_count": 1,
   "outputs": [],
   "source": [
    "# !pip install opencv-python\n",
    "# !pip install opencv-contrib-python"
   ],
   "metadata": {
    "collapsed": false,
    "pycharm": {
     "name": "#%%\n"
    }
   }
  },
  {
   "cell_type": "code",
   "execution_count": 1,
   "outputs": [],
   "source": [
    "import os\n",
    "import cv2\n",
    "import numpy as np\n",
    "import os\n",
    "from PIL import Image"
   ],
   "metadata": {
    "collapsed": false,
    "pycharm": {
     "name": "#%%\n"
    }
   }
  },
  {
   "cell_type": "code",
   "execution_count": 2,
   "outputs": [],
   "source": [
    "# base_path = 'D:\\\\Projects\\\\TFS\\\\Dataset\\\\Vision_Dataset\\\\SeperateFiles\\\\rembg_TFS\\\\test_two_hand\\\\'\n",
    "base_path = 'E:\\\\RemoveBG_TFS_success\\\\test_TwoHand\\\\'"
   ],
   "metadata": {
    "collapsed": false,
    "pycharm": {
     "name": "#%%\n"
    }
   }
  },
  {
   "cell_type": "code",
   "execution_count": null,
   "outputs": [],
   "source": [
    "def createFolder(crops, sub_folder):\n",
    "       nameFolder = 'padding_' + sub_folder\n",
    "       pading_folder = crops + nameFolder\n",
    "       try:\n",
    "              os.mkdir(pading_folder)\n",
    "              print(\"Directory\", nameFolder, \"Created\")\n",
    "       except FileExistsError:\n",
    "              print(\"Directory\", nameFolder, \"already exists\")\n",
    "       return pading_folder + '\\\\'"
   ],
   "metadata": {
    "collapsed": false,
    "pycharm": {
     "name": "#%%\n"
    }
   }
  },
  {
   "cell_type": "code",
   "execution_count": 4,
   "outputs": [],
   "source": [
    "def padding(old_image_width, old_image_height, new_image_width, new_image_height):\n",
    "       x_center = (new_image_width - old_image_width) // 2\n",
    "       y_center = (new_image_height - old_image_height) // 2\n",
    "       return x_center, y_center"
   ],
   "metadata": {
    "collapsed": false,
    "pycharm": {
     "name": "#%%\n"
    }
   }
  },
  {
   "cell_type": "code",
   "execution_count": 1,
   "outputs": [],
   "source": [
    "for subtype_folder in os.listdir(base_path):\n",
    "    yolo_subtype_path = base_path + subtype_folder + '\\\\'\n",
    "    for mainfile_folder in os.listdir(yolo_subtype_path):\n",
    "        yolo_mainfile_path = yolo_subtype_path + mainfile_folder + '\\\\'\n",
    "        for subfile in os.listdir(yolo_mainfile_path):\n",
    "            yolo_subfile_path = yolo_mainfile_path + subfile + '\\\\' + 'Humand hand' + '\\\\'\n",
    "            vision_yolo_path = base_path + '\\\\' + subtype_folder + '\\\\' + mainfile_folder + '\\\\' + subfile + '\\\\' + 'Humand hand' + '\\\\'\n",
    "            for yolo_folder in os.listdir(vision_yolo_path):\n",
    "                vision_yolo_subfolder_path = vision_yolo_path + '\\\\' + yolo_folder + '\\\\'\n",
    "\n",
    "                padding_folder = createFolder(vision_yolo_subfolder_path, yolo_folder)   # Created Padding Folder\n",
    "\n",
    "                for vision_yolo_file in os.listdir(vision_yolo_subfolder_path):\n",
    "                    vision_yolo_file_path = base_path  + subtype_folder + '\\\\' + mainfile_folder + '\\\\' + subfile + '\\\\Humand hand\\\\' + yolo_folder + '\\\\' + vision_yolo_file\n",
    "\n",
    "                    crops =  base_path  + subtype_folder + '\\\\' + mainfile_folder + '\\\\' + subfile + '\\\\Humand hand\\\\' + yolo_folder + '\\\\'\n",
    "\n",
    "                    # padding_folder = createFolder(crops, vision_yolo_file)\n",
    "\n",
    "                    for (root, dirs, file) in os.walk(crops):\n",
    "                       for images in file:\n",
    "                              frames = Image.open(crops+images)\n",
    "                              # get width and height\n",
    "                              print(crops+images, ' = ', frames.size)\n",
    "\n",
    "                              # read image\n",
    "                              img = cv2.imread(crops + images)\n",
    "                              # print(img)\n",
    "                              old_image_height, old_image_width, channels = img.shape\n",
    "                              print('Old size ===> ({}, {}, {})'.format(old_image_width, old_image_height, channels))\n",
    "\n",
    "                              # create new image of desired size and color (blue) for padding\n",
    "                              new_image_width = 224   # change width size\n",
    "                              new_image_height = 224  # change height size\n",
    "                              new_size = (new_image_width,new_image_height)\n",
    "                              color = (0, 0, 0)  ### (255,255,255)\n",
    "                              result = np.full((new_image_height, new_image_width, channels), color,dtype=np.uint8)\n",
    "\n",
    "                              if (old_image_width < new_image_width) and (old_image_height < new_image_height) :\n",
    "                                    # print('case  1')\n",
    "                                     # # copy img image into center of result image\n",
    "                                     x_center, y_center = padding(old_image_width, old_image_height,new_image_width, new_image_height)\n",
    "                                     result[y_center:y_center + old_image_height,\n",
    "                                     x_center:x_center + old_image_width] = img\n",
    "                                     cv2.imwrite(padding_folder+images, result)\n",
    "                                     print('Case 1 ===> New shape (w, h) = {}'.format(result.shape))\n",
    "\n",
    "                              elif (old_image_width > new_image_width) and (old_image_height < new_image_height) :\n",
    "                                     # print('case 2')\n",
    "                                     x_resize = cv2.resize(img, (new_image_width, old_image_height))\n",
    "                                 #    print('Old size (w, h) = '.format(x_resize.shape[1], x_resize.shape[0]))\n",
    "                                 #    cv2.imwrite(\"case2_resize.jpg\", x_resize)\n",
    "\n",
    "                                     old_image_height, old_image_width, channels = x_resize.shape\n",
    "\n",
    "                                     # compute center offset\n",
    "                                     x_center, y_center = padding(old_image_width, old_image_height,\n",
    "                                                                  new_image_width, new_image_height)\n",
    "\n",
    "                                     result[y_center:y_center + old_image_height,\n",
    "                                     x_center:x_center + old_image_width] = x_resize\n",
    "\n",
    "                                     cv2.imwrite(padding_folder+images, result)\n",
    "                                     print('Case 2 ===>  New shape (w, h) = {}'.format(result.shape))\n",
    "\n",
    "                              elif (old_image_width < new_image_width) and (old_image_height > new_image_height) :\n",
    "                                     # print('case 3')\n",
    "                                     y_resize = cv2.resize(img, (old_image_width, new_image_height))\n",
    "                                   #  print('Old size (w, h) = '.format(y_resize.shape[1], y_resize.shape[0]))\n",
    "                                  #   cv2.imwrite(\"case3_resize.jpg\", y_resize)\n",
    "\n",
    "                                     old_image_height, old_image_width, channels = y_resize.shape\n",
    "\n",
    "                                     # compute center offset\n",
    "                                     x_center, y_center = padding(old_image_width, old_image_height,\n",
    "                                                                  new_image_width, new_image_height)\n",
    "\n",
    "                                     result[y_center:y_center + old_image_height,\n",
    "                                     x_center:x_center + old_image_width] = y_resize\n",
    "\n",
    "                                     cv2.imwrite(padding_folder+images, result)\n",
    "                                     print('Case 3 ===>  New shape (w, h) = {}'.format(result.shape))\n",
    "                              else:\n",
    "                                     # print('case 4')\n",
    "                                  #   print('case  4  => Old size (w, h) = {}, {}'.format(old_image_width, old_image_height))\n",
    "                                     xy_resize = cv2.resize(img, (new_image_width, new_image_height))\n",
    "                                     cv2.imwrite(padding_folder+images, xy_resize)\n",
    "                                     print('Case 4 ===>  New shape (w, h) = {}'.format(xy_resize.shape))\n",
    "                       print('')\n",
    "\n",
    "\n",
    "print('')\n",
    "print('************* Process Done!!! ***************')"
   ],
   "metadata": {
    "collapsed": false,
    "pycharm": {
     "name": "#%%\n"
    }
   }
  },
  {
   "cell_type": "code",
   "execution_count": null,
   "outputs": [],
   "source": [],
   "metadata": {
    "collapsed": false,
    "pycharm": {
     "name": "#%%\n"
    }
   }
  },
  {
   "cell_type": "code",
   "execution_count": null,
   "outputs": [],
   "source": [],
   "metadata": {
    "collapsed": false,
    "pycharm": {
     "name": "#%%\n"
    }
   }
  },
  {
   "cell_type": "code",
   "execution_count": null,
   "outputs": [],
   "source": [],
   "metadata": {
    "collapsed": false,
    "pycharm": {
     "name": "#%%\n"
    }
   }
  }
 ],
 "metadata": {
  "kernelspec": {
   "display_name": "Python 3",
   "language": "python",
   "name": "python3"
  },
  "language_info": {
   "codemirror_mode": {
    "name": "ipython",
    "version": 2
   },
   "file_extension": ".py",
   "mimetype": "text/x-python",
   "name": "python",
   "nbconvert_exporter": "python",
   "pygments_lexer": "ipython2",
   "version": "2.7.6"
  }
 },
 "nbformat": 4,
 "nbformat_minor": 0
}