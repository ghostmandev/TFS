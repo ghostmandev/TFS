{
 "cells": [
  {
   "cell_type": "code",
   "execution_count": 1,
   "outputs": [],
   "source": [
    "import numpy as np\n",
    "from PIL import Image\n",
    "import os\n",
    "from keras.preprocessing.image import load_img\n",
    "from keras.preprocessing.image import img_to_array\n",
    "import shutil\n",
    "from keras.preprocessing.sequence import pad_sequences\n",
    "import pickle\n",
    "from random import randint\n",
    "import random\n",
    "import shutil\n",
    "import extcolors\n",
    "from colormap import rgb2hex\n",
    "from PIL import Image\n",
    "import pandas as pd"
   ],
   "metadata": {
    "collapsed": false,
    "pycharm": {
     "name": "#%%\n"
    }
   }
  },
  {
   "cell_type": "code",
   "execution_count": 2,
   "outputs": [],
   "source": [
    "# base_path = 'E:\\\\RemoveBG_TFS_success\\\\test_OneHand\\\\'\n",
    "base_path = 'E:\\\\RemoveBG_TFS_success\\\\test_xxx\\\\'\n",
    "dummy_path = 'E:\\\\RemoveBG_TFS_success\\\\dummyImage\\\\black_img.jpg'"
   ],
   "metadata": {
    "collapsed": false,
    "pycharm": {
     "name": "#%%\n"
    }
   }
  },
  {
   "cell_type": "code",
   "execution_count": 3,
   "outputs": [],
   "source": [
    "def get_name_folder(CurrentPath):\n",
    "    sub_folders = [name for name in os.listdir(CurrentPath) if os.path.isdir(os.path.join(CurrentPath, name))]\n",
    "    # print(sub_folders)\n",
    "    return sub_folders"
   ],
   "metadata": {
    "collapsed": false,
    "pycharm": {
     "name": "#%%\n"
    }
   }
  },
  {
   "cell_type": "code",
   "execution_count": 4,
   "outputs": [],
   "source": [
    "def copy_image(amount_image, images):\n",
    "       source = 'E:\\\\RemoveBG_TFS_success\\\\dummyImage\\\\black_img.jpg'\n",
    "       name_image = images[1:3]\n",
    "       if amount_image == 30:\n",
    "              print('len(amount_image) = ', len(amount_image))\n",
    "              numberImage = len(amount_image)\n",
    "              for i in range(numberImage, 31) :\n",
    "                     empty_image = shutil.copy2(source, name_image + '99' + i + '.jpg' )\n",
    "       return empty_image"
   ],
   "metadata": {
    "collapsed": false,
    "pycharm": {
     "name": "#%%\n"
    }
   }
  },
  {
   "cell_type": "code",
   "execution_count": 5,
   "outputs": [],
   "source": [
    "def random_frame(num_random, seq_name):\n",
    "    new_r = []\n",
    "    j = 1\n",
    "    while (j <= num_random):\n",
    "        r = random.choice(seq_name)\n",
    "        if (r not in new_r):\n",
    "            new_r.append(r)\n",
    "            j += 1\n",
    "            if len(new_r) == num_random:\n",
    "                new_r.sort()\n",
    "   # print('new_r = ', new_r)\n",
    "    return new_r"
   ],
   "metadata": {
    "collapsed": false,
    "pycharm": {
     "name": "#%%\n"
    }
   }
  },
  {
   "cell_type": "code",
   "execution_count": 6,
   "outputs": [],
   "source": [
    "def createFolderSub(crops, sub_folder):\n",
    "       nameFolder = 'Sub_' + sub_folder\n",
    "       sub_folder = crops + nameFolder\n",
    "       try:\n",
    "              os.mkdir(sub_folder)\n",
    "              print(\"Directory\", nameFolder, \"Created\")\n",
    "       except FileExistsError:\n",
    "              print(\"Directory\", nameFolder, \"already exists\")\n",
    "       return sub_folder + '\\\\'"
   ],
   "metadata": {
    "collapsed": false,
    "pycharm": {
     "name": "#%%\n"
    }
   }
  },
  {
   "cell_type": "code",
   "execution_count": 7,
   "outputs": [],
   "source": [
    "def createFolderDummy(crops, sub_folder):\n",
    "       nameFolder = 'dummy_' + sub_folder\n",
    "       sub_folder = crops + nameFolder\n",
    "       try:\n",
    "              os.mkdir(sub_folder)\n",
    "              print(\"Directory\", nameFolder, \"Created\")\n",
    "       except FileExistsError:\n",
    "              print(\"Directory\", nameFolder, \"already exists\")\n",
    "       return sub_folder + '\\\\'"
   ],
   "metadata": {
    "collapsed": false,
    "pycharm": {
     "name": "#%%\n"
    }
   }
  },
  {
   "cell_type": "code",
   "execution_count": 8,
   "outputs": [],
   "source": [
    "def color_to_df(input):\n",
    "    colors_pre_list = str(input).replace('([(','').split(', (')[0:-1]\n",
    "    df_rgb = [i.split('), ')[0] + ')' for i in colors_pre_list]\n",
    "    df_percent = [i.split('), ')[1].replace(')','') for i in colors_pre_list]\n",
    "\n",
    "    #convert RGB to HEX code\n",
    "    df_color_up = [rgb2hex(int(i.split(\", \")[0].replace(\"(\",\"\")),\n",
    "                          int(i.split(\", \")[1]),\n",
    "                          int(i.split(\", \")[2].replace(\")\",\"\"))) for i in df_rgb]\n",
    "\n",
    "    df = pd.DataFrame(zip(df_color_up, df_percent), columns = ['c_code','occurence'])\n",
    "    return df\n",
    "\n"
   ],
   "metadata": {
    "collapsed": false,
    "pycharm": {
     "name": "#%%\n"
    }
   }
  },
  {
   "cell_type": "code",
   "execution_count": 9,
   "outputs": [],
   "source": [
    "# num_sub, num_mainfile, subDir, num_files, allfiles, crp_count, crop_all_folder, padding_file, sub_crop_count  = 0,0,0,0,0, 0,0,0,0"
   ],
   "metadata": {
    "collapsed": false,
    "pycharm": {
     "name": "#%%\n"
    }
   }
  },
  {
   "cell_type": "code",
   "execution_count": 10,
   "outputs": [],
   "source": [
    "# for subtype_folder in os.listdir(base_path):\n",
    "#             num_sub += 1\n",
    "#             subtype_path = base_path + subtype_folder + '\\\\'\n",
    "#             # print('num_sub = ', num_sub)\n",
    "#             # print('Subtype_folder = ',subtype_folder)\n",
    "#             for mainfile_folder in os.listdir(subtype_path):\n",
    "#                 num_mainfile += 1\n",
    "#                 mainfile_path = subtype_path + mainfile_folder + '\\\\'\n",
    "#                 # print('mainfile_path = ',mainfile_path)\n",
    "#                 # print('num_mainfile = ',num_mainfile)\n",
    "#                 # print(mainfile_folder)\n",
    "#                 for filename in os.listdir(mainfile_path):\n",
    "#                     if (filename != '.DS_Store') and (filename != 'desktop.ini'):\n",
    "#                         groupFolder = mainfile_path + filename + '\\\\Humand hand\\\\'\n",
    "#                         subDir += 1\n",
    "#                         # print(filename)\n",
    "#                         # print(groupFolder)\n",
    "#                         for crp_folder in os.listdir(groupFolder):\n",
    "#                             crp_path = groupFolder + crp_folder\n",
    "#                             crp_count += 1\n",
    "#                             crop_all_folder += 1\n",
    "#                             sub_crop_count += 1\n",
    "#                             # print(crp_folder)\n",
    "#                             for remBG_file in os.listdir(crp_path):\n",
    "#                                 remBG_file_path = crp_path + '\\\\' + remBG_file\n",
    "#                                 # print(remBG_file)\n",
    "#                                 num_files += 1\n",
    "#                                 allfiles += 1\n",
    "#                                 for paddingImg in os.listdir(crp_path):\n",
    "#                                     padding_file += 1\n",
    "#                     print(f'Sub Num File of {mainfile_folder}: {sub_crop_count}')\n",
    "#                     sub_crop_count =0\n",
    "#                 print(f'Num Files of {mainfile_folder}: {num_files} ====> Crops: {crp_count}')\n",
    "#                 print('')\n",
    "#                 num_files, crp_count = 0, 0\n",
    "#                 #\n",
    "#                 # print('Crop Folder : ',crp_count)\n",
    "#                 # crp_count = 0\n",
    "#\n",
    "#\n",
    "# print('')\n",
    "# print('All files: ', allfiles)\n",
    "# print('All words: ', num_mainfile)\n",
    "# print('Sub folder: ', subDir)\n",
    "# print('Crop all folder: ',crop_all_folder)\n",
    "# print('Padding Image: ',padding_file/4)\n",
    "# print(f'Average Crops per folder : {crop_all_folder / subDir}')\n",
    "# print(f'Average Crops per Sub Folder : {allfiles / subDir} (words)')\n",
    "# print(f'Average Files per word : {allfiles / num_mainfile}')"
   ],
   "metadata": {
    "collapsed": false,
    "pycharm": {
     "name": "#%%\n"
    }
   }
  },
  {
   "cell_type": "code",
   "execution_count": 11,
   "outputs": [
    {
     "name": "stdout",
     "output_type": "stream",
     "text": [
      "\n",
      "######## Done ########\n"
     ]
    }
   ],
   "source": [
    "path_dicts = {}\n",
    "occurence = []\n",
    "keys, values = [], []\n",
    "percent = 0.5\n",
    "count_crop, i = 0, 0\n",
    "avg_num_folder = 45\n",
    "for subtype_folder in os.listdir(base_path):\n",
    "            subtype_path = base_path + subtype_folder + '\\\\'\n",
    "            # print('num_sub = ', num_sub)\n",
    "            # print('Subtype_folder = ',subtype_folder)\n",
    "            for mainfile_folder in os.listdir(subtype_path):\n",
    "\n",
    "                mainfile_path = subtype_path + mainfile_folder + '\\\\'\n",
    "                # print('mainfile_path = ',mainfile_path)\n",
    "                # print('num_mainfile = ',num_mainfile)\n",
    "                # print(mainfile_folder)\n",
    "                for filename in os.listdir(mainfile_path):\n",
    "                    if (filename != '.DS_Store') and (filename != 'desktop.ini'):\n",
    "                        groupFolder = mainfile_path + filename + '\\\\Humand hand\\\\'\n",
    "\n",
    "                        # print(filename)\n",
    "                        # print(groupFolder)\n",
    "                        for crp_folder in os.listdir(groupFolder):\n",
    "                            crp_path = groupFolder + crp_folder\n",
    "                            count_crop += 1\n",
    "\n",
    "                        # print(f'Path = {groupFolder} , {count_crop}')\n",
    "\n",
    "                        while count_crop < avg_num_folder:\n",
    "                            # print(avg_num_folder - count_crop)\n",
    "                            i += 1\n",
    "                            created_sub_folder = createFolderSub(groupFolder, str(i))\n",
    "                            created_dummy_folder = createFolderDummy(created_sub_folder, str(i))\n",
    "                            add_dummy_img = shutil.copy2(dummy_path, created_dummy_folder)\n",
    "                            count_crop += 1\n",
    "\n",
    "\n",
    "                        if count_crop > avg_num_folder:\n",
    "                            diff = count_crop - avg_num_folder\n",
    "                            print('Crop_img_Diff = ',diff)\n",
    "                            for crp_color_folder in os.listdir(groupFolder):\n",
    "                                check_color = groupFolder + crp_color_folder + '\\\\padding_' + crp_color_folder + '.jpg\\\\' + crp_color_folder+'.jpg'\n",
    "                                # print(check_color)\n",
    "                                input_name = check_color\n",
    "                                img = Image.open(input_name)\n",
    "\n",
    "                                # img = img.resize((img.size[0],img.size[1]), Image.ANTIALIAS)\n",
    "                                img = img.resize((img.size[0],img.size[1]), Image.Resampling.LANCZOS)\n",
    "                                #save\n",
    "                                resize_name = input_name  #the resized image name\n",
    "                                img.save(resize_name, format= 'PNG')\n",
    "                                # print(img.size)\n",
    "                                colors_x = extcolors.extract_from_path(resize_name, tolerance = 5, limit = 20)\n",
    "                                df_color = color_to_df(colors_x)\n",
    "                                if (df_color['c_code'][0] == '#000000' or df_color['c_code'][1] == '#000000' or df_color['c_code'][2] == '#000000') and (float(df_color['occurence'][0]) > (img.size[0]*img.size[1]*percent or float(df_color['occurence'][1]) > (img.size[0]*img.size[1]*percent) or float(df_color['occurence'][2]) > (img.size[0]*img.size[1]*percent))):\n",
    "                                    occurence.append(df_color['occurence'][0])\n",
    "\n",
    "                                    dict_occur = dict({check_color: df_color['occurence'][0]})\n",
    "                                    keys.append(check_color)\n",
    "                                    values.append(df_color['occurence'][0])\n",
    "                                    print(f\"{check_color} ====>  {df_color['occurence'][0]}\")\n",
    "                                occur_sorted_max = sorted(occurence)[::-1]\n",
    "\n",
    "                            for i in range(len(keys)):\n",
    "                                path_dicts[keys[i]] = values[i]\n",
    "\n",
    "                            print('Dicts = ',path_dicts)\n",
    "                            print('Sorted Occurence(Max2Min) = ',occur_sorted_max)\n",
    "                            print(occur_sorted_max[:diff])\n",
    "                            for  j in range(0, diff):\n",
    "                                highest_occur = list(path_dicts.keys())[list(path_dicts.values()).index(occur_sorted_max[j])]\n",
    "                                print('Path Keys = ',highest_occur)\n",
    "                                del_folder = highest_occur.split('\\\\')\n",
    "                                del del_folder[8:]\n",
    "                                remove_folder = '\\\\'.join(del_folder)\n",
    "                                print('Remove folder = ', remove_folder)\n",
    "                                shutil.rmtree(remove_folder)  ### delete folder root\n",
    "\n",
    "                            keys, values = [], []\n",
    "                            dicts = {}\n",
    "                            occurence = []\n",
    "\n",
    "                            print('')\n",
    "                        count_crop, i = 0, 0\n",
    "print('')\n",
    "print('######## Done ########')"
   ],
   "metadata": {
    "collapsed": false,
    "pycharm": {
     "name": "#%%\n"
    }
   }
  },
  {
   "cell_type": "code",
   "execution_count": 11,
   "outputs": [],
   "source": [],
   "metadata": {
    "collapsed": false,
    "pycharm": {
     "name": "#%%\n"
    }
   }
  },
  {
   "cell_type": "code",
   "execution_count": 12,
   "outputs": [
    {
     "name": "stdout",
     "output_type": "stream",
     "text": [
      "Sub Num File of 0: 45\n",
      "Sub Num File of 0: 45\n",
      "Sub Num File of 0: 45\n",
      "Num Files of 0: 249 ====> Crops: 135\n",
      "\n",
      "Sub Num File of 9: 45\n",
      "Sub Num File of 9: 45\n",
      "Sub Num File of 9: 45\n",
      "Num Files of 9: 238 ====> Crops: 135\n",
      "\n",
      "Sub Num File of ก: 45\n",
      "Sub Num File of ก: 45\n",
      "Sub Num File of ก: 45\n",
      "Num Files of ก: 256 ====> Crops: 135\n",
      "\n",
      "Sub Num File of ช: 45\n",
      "Sub Num File of ช: 45\n",
      "Sub Num File of ช: 45\n",
      "Num Files of ช: 260 ====> Crops: 135\n",
      "\n",
      "Sub Num File of อิ: 45\n",
      "Sub Num File of อิ: 45\n",
      "Sub Num File of อิ: 45\n",
      "Num Files of อิ: 258 ====> Crops: 135\n",
      "\n",
      "Sub Num File of โอ: 45\n",
      "Sub Num File of โอ: 45\n",
      "Sub Num File of โอ: 45\n",
      "Num Files of โอ: 244 ====> Crops: 135\n",
      "\n",
      "\n",
      "All files:  1505\n",
      "All words:  6\n",
      "Sub folder:  18\n",
      "Crop all folder:  810\n",
      "Padding Image:  723.75\n",
      "Average Crops per folder : 45.0\n",
      "Average Crops per Sub Folder : 83.61111111111111 (words)\n",
      "Average Files per word : 250.83333333333334\n"
     ]
    }
   ],
   "source": [
    "num_sub, num_mainfile, subDir, num_files, allfiles, crp_count, crop_all_folder, padding_file, sub_crop_count  = 0,0,0,0,0, 0,0,0,0\n",
    "for subtype_folder in os.listdir(base_path):\n",
    "            num_sub += 1\n",
    "            subtype_path = base_path + subtype_folder + '\\\\'\n",
    "            # print('num_sub = ', num_sub)\n",
    "            # print('Subtype_folder = ',subtype_folder)\n",
    "            for mainfile_folder in os.listdir(subtype_path):\n",
    "                num_mainfile += 1\n",
    "                mainfile_path = subtype_path + mainfile_folder + '\\\\'\n",
    "                # print('mainfile_path = ',mainfile_path)\n",
    "                # print('num_mainfile = ',num_mainfile)\n",
    "                # print(mainfile_folder)\n",
    "                for filename in os.listdir(mainfile_path):\n",
    "                    if (filename != '.DS_Store') and (filename != 'desktop.ini'):\n",
    "                        groupFolder = mainfile_path + filename + '\\\\Humand hand\\\\'\n",
    "                        subDir += 1\n",
    "                        # print(filename)\n",
    "                        # print(groupFolder)\n",
    "                        for crp_folder in os.listdir(groupFolder):\n",
    "                            crp_path = groupFolder + crp_folder\n",
    "                            crp_count += 1\n",
    "                            crop_all_folder += 1\n",
    "                            sub_crop_count += 1\n",
    "                            # print(crp_folder)\n",
    "                            for remBG_file in os.listdir(crp_path):\n",
    "                                remBG_file_path = crp_path + '\\\\' + remBG_file\n",
    "                                # print(remBG_file)\n",
    "                                num_files += 1\n",
    "                                allfiles += 1\n",
    "                                for paddingImg in os.listdir(crp_path):\n",
    "                                    padding_file += 1\n",
    "                    print(f'Sub Num File of {mainfile_folder}: {sub_crop_count}')\n",
    "                    sub_crop_count =0\n",
    "                print(f'Num Files of {mainfile_folder}: {num_files} ====> Crops: {crp_count}')\n",
    "                print('')\n",
    "                num_files, crp_count = 0, 0\n",
    "                #\n",
    "                # print('Crop Folder : ',crp_count)\n",
    "                # crp_count = 0\n",
    "\n",
    "\n",
    "print('')\n",
    "print('All files: ', allfiles)\n",
    "print('All words: ', num_mainfile)\n",
    "print('Sub folder: ', subDir)\n",
    "print('Crop all folder: ',crop_all_folder)\n",
    "print('Padding Image: ',padding_file/4)\n",
    "print(f'Average Crops per folder : {crop_all_folder / subDir}')\n",
    "print(f'Average Crops per Sub Folder : {allfiles / subDir} (words)')\n",
    "print(f'Average Files per word : {allfiles / num_mainfile}')"
   ],
   "metadata": {
    "collapsed": false,
    "pycharm": {
     "name": "#%%\n"
    }
   }
  },
  {
   "cell_type": "code",
   "execution_count": 12,
   "outputs": [],
   "source": [],
   "metadata": {
    "collapsed": false,
    "pycharm": {
     "name": "#%%\n"
    }
   }
  },
  {
   "cell_type": "code",
   "execution_count": 13,
   "outputs": [
    {
     "name": "stdout",
     "output_type": "stream",
     "text": [
      "1\n",
      "2\n",
      "3\n",
      "4\n",
      "5\n",
      "6\n",
      "(6, 135, 224, 224, 3) (6,)\n"
     ]
    }
   ],
   "source": [
    "num_sub, num_mainfile, subDir, num_files, allfiles, crp_count, crop_all_folder, padding_file, sub_crop_count  = 0,0,0,0,0, 0,0,0,0\n",
    "photos = []\n",
    "seq_name = list()\n",
    "labels = []\n",
    "count = 0\n",
    "for subtype_folder in os.listdir(base_path):\n",
    "            num_sub += 1\n",
    "            subtype_path = base_path + subtype_folder + '\\\\'\n",
    "\n",
    "\n",
    "            for mainfile_folder in os.listdir(subtype_path):\n",
    "                num_mainfile += 1\n",
    "                mainfile_path = subtype_path + mainfile_folder + '\\\\'\n",
    "\n",
    "                count += 1\n",
    "                # print(mainfile_folder)\n",
    "                for filename in os.listdir(mainfile_path):\n",
    "                    if (filename != '.DS_Store') and (filename != 'desktop.ini'):\n",
    "                        groupFolder = mainfile_path + filename + '\\\\Humand hand\\\\'\n",
    "                        subDir += 1\n",
    "                        # print(filename)\n",
    "                        # print(groupFolder)\n",
    "                        for crp_folder in os.listdir(groupFolder):\n",
    "                            crp_path = groupFolder + crp_folder + '\\\\'\n",
    "                            crp_count += 1\n",
    "                            for padding_folder in os.listdir(crp_path):\n",
    "                                if padding_folder[:3] == 'pad' or padding_folder[:3] == 'dum':\n",
    "                                    padding_path = crp_path + padding_folder + '\\\\'\n",
    "                                    for img_files in os.listdir(padding_path):\n",
    "                                        # img_path = padding_path + img_files\n",
    "                                        # print(img_path)\n",
    "\n",
    "                                        try:\n",
    "                                            img_path = padding_path + img_files\n",
    "                                            photo = load_img(img_path)\n",
    "                                            photo = img_to_array(photo)\n",
    "                                            photos.append(photo)\n",
    "                                        except FileNotFoundError:\n",
    "                                            print('File Error:=>  ', img_path)\n",
    "\n",
    "                labels.append(mainfile_folder)\n",
    "                print(count)\n",
    "\n",
    "photos = np.stack(photos)\n",
    "labels = np.stack(labels)\n",
    "datas = photos.reshape(count,int(crp_count/count),224,224,3)\n",
    "print(datas.shape, labels.shape)"
   ],
   "metadata": {
    "collapsed": false,
    "pycharm": {
     "name": "#%%\n"
    }
   }
  },
  {
   "cell_type": "code",
   "execution_count": 16,
   "outputs": [
    {
     "name": "stdout",
     "output_type": "stream",
     "text": [
      "2022-12-11_00-14-35\n"
     ]
    }
   ],
   "source": [
    "from datetime import datetime\n",
    "current_dateTime = datetime.now()\n",
    "current_dateTime = current_dateTime.strftime(\"%Y-%m-%d_%H-%M-%S\")\n",
    "print(current_dateTime)\n"
   ],
   "metadata": {
    "collapsed": false,
    "pycharm": {
     "name": "#%%\n"
    }
   }
  },
  {
   "cell_type": "code",
   "execution_count": 17,
   "outputs": [],
   "source": [
    "pre_data = datas\n",
    "f = open('Data_test_LSTM_OneHand_' + str(current_dateTime) + '.pkl','wb')\n",
    "pickle.dump(pre_data,f)\n",
    "f.close()\n",
    "\n",
    "pre_labels = labels\n",
    "g = open('labels_test_LSTM_OneHand_' + str(current_dateTime) + '.pkl','wb')\n",
    "pickle.dump(pre_labels, g)\n",
    "g.close()"
   ],
   "metadata": {
    "collapsed": false,
    "pycharm": {
     "name": "#%%\n"
    }
   }
  },
  {
   "cell_type": "code",
   "execution_count": null,
   "outputs": [],
   "source": [],
   "metadata": {
    "collapsed": false,
    "pycharm": {
     "name": "#%%\n"
    }
   }
  }
 ],
 "metadata": {
  "kernelspec": {
   "display_name": "Python 3",
   "language": "python",
   "name": "python3"
  },
  "language_info": {
   "codemirror_mode": {
    "name": "ipython",
    "version": 2
   },
   "file_extension": ".py",
   "mimetype": "text/x-python",
   "name": "python",
   "nbconvert_exporter": "python",
   "pygments_lexer": "ipython2",
   "version": "2.7.6"
  }
 },
 "nbformat": 4,
 "nbformat_minor": 0
}