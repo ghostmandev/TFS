{
 "cells": [
  {
   "cell_type": "code",
   "execution_count": 1,
   "outputs": [],
   "source": [
    "# !pip install rembg --user\n",
    "\n",
    "### Run on Server ###"
   ],
   "metadata": {
    "collapsed": false,
    "pycharm": {
     "name": "#%%\n"
    }
   }
  },
  {
   "cell_type": "code",
   "execution_count": 1,
   "outputs": [],
   "source": [
    "from PIL import Image\n",
    "import os\n",
    "import shutil\n",
    "from rembg import remove\n",
    "import time\n",
    "import numpy as np\n",
    "#import pyvips\n",
    "import cv2"
   ],
   "metadata": {
    "collapsed": false,
    "pycharm": {
     "name": "#%%\n"
    }
   }
  },
  {
   "cell_type": "code",
   "execution_count": 2,
   "outputs": [],
   "source": [
    "srcPath = 'C:\\\\Users\\\\wutti\\\\Desktop\\\\Test Files\\\\start_rembg\\\\'\n",
    "destPath = 'C:\\\\Users\\\\wutti\\\\Desktop\\\\Test Files\\\\end_rembg\\\\'"
   ],
   "metadata": {
    "collapsed": false,
    "pycharm": {
     "name": "#%%\n"
    }
   }
  },
  {
   "cell_type": "code",
   "execution_count": 3,
   "outputs": [],
   "source": [
    "def createFolder(path, filename):\n",
    "#     print('xxxxxxx ==>', filename)\n",
    "#     nameF = filename.translate({ord(i):None for i in '.mp4'})  # delete .mp4\n",
    "    nameF = filename\n",
    "    # print('xxxxx ==>', nameF)\n",
    "    try:\n",
    "        os.mkdir(path+nameF)  # Create target Directory\n",
    "        # print(\"Directory \" , nameF ,  \" Created \")\n",
    "    except FileExistsError:\n",
    "        print(\"Directory \" , nameF ,  \" already exists\")"
   ],
   "metadata": {
    "collapsed": false,
    "pycharm": {
     "name": "#%%\n"
    }
   }
  },
  {
   "cell_type": "code",
   "execution_count": 4,
   "outputs": [],
   "source": [
    "def subFolder(path, filename):\n",
    "#     print('xxxxxxx ==>', filename)\n",
    "#     nameF = filename.translate({ord(i):None for i in '.mp4'})  # delete .mp4\n",
    "    nameF = filename\n",
    "    # print('yyyyy ==>', nameF)\n",
    "    try:\n",
    "        os.mkdir(path+nameF)  # Create target Directory\n",
    "        # print(\"Directory \" , nameF ,  \" Created \")\n",
    "    except FileExistsError:\n",
    "        print(\"Directory \" , nameF ,  \" already exists\")"
   ],
   "metadata": {
    "collapsed": false,
    "pycharm": {
     "name": "#%%\n"
    }
   }
  },
  {
   "cell_type": "code",
   "execution_count": 5,
   "outputs": [
    {
     "name": "stdout",
     "output_type": "stream",
     "text": [
      "Mainfile_folder = 2  ===>   Sub Folder = 2_1\n",
      "Mainfile_folder = 2  ===>   Sub Folder = 2_2\n",
      "Mainfile_folder = 2  ===>   Sub Folder = 2_3\n",
      "Mainfile_folder = 3  ===>   Sub Folder = 3_1\n",
      "Mainfile_folder = 3  ===>   Sub Folder = 3_2\n",
      "Mainfile_folder = ก  ===>   Sub Folder = ก_1\n",
      "Mainfile_folder = ก  ===>   Sub Folder = ก_2\n",
      "Mainfile_folder = ก  ===>   Sub Folder = ก_3\n",
      "Mainfile_folder = ข  ===>   Sub Folder = ข_1\n",
      "Mainfile_folder = ข  ===>   Sub Folder = ข_2\n"
     ]
    }
   ],
   "source": [
    "for subtype_folder in os.listdir(srcPath):\n",
    "    yolo_subtype_path = srcPath + subtype_folder + '\\\\'\n",
    "    for mainfile_folder in os.listdir(yolo_subtype_path):\n",
    "        yolo_mainfile_path = yolo_subtype_path + mainfile_folder + '\\\\'\n",
    "        for subfile in os.listdir(yolo_mainfile_path):\n",
    "            yolo_subfile_path = yolo_mainfile_path + subfile + '\\\\' + 'Humand hand' + '\\\\'\n",
    "            vision_yolo_path = srcPath + '\\\\' + subtype_folder + '\\\\' + mainfile_folder + '\\\\' + subfile + '\\\\' + 'Humand hand' + '\\\\'\n",
    "            print(f'Mainfile_folder = {mainfile_folder}  ===>   Sub Folder = {subfile}')\n",
    "            for yolo_folder in os.listdir(vision_yolo_path):\n",
    "                vision_yolo_subfolder_path = vision_yolo_path + '\\\\' + yolo_folder + '\\\\'\n",
    "                # print(f'Yolo Folder = {yolo_folder}')\n",
    "                for vision_yolo_file in os.listdir(vision_yolo_subfolder_path):\n",
    "                    vision_yolo_file_path = srcPath  + subtype_folder + '\\\\' + mainfile_folder + '\\\\' + subfile + '\\\\Humand hand\\\\' + yolo_folder + '\\\\' + vision_yolo_file\n",
    "\n",
    "                    input_img = Image.open(vision_yolo_file_path)\n",
    "                    output_img = remove(input_img)\n",
    "                    output_img.save(vision_yolo_file_path,format='PNG')\n",
    "                    # print(f'Vision_yolo_file = {vision_yolo_file}')"
   ],
   "metadata": {
    "collapsed": false,
    "pycharm": {
     "name": "#%%\n"
    }
   }
  },
  {
   "cell_type": "code",
   "execution_count": null,
   "outputs": [],
   "source": [],
   "metadata": {
    "collapsed": false,
    "pycharm": {
     "name": "#%%\n"
    }
   }
  }
 ],
 "metadata": {
  "kernelspec": {
   "display_name": "Python 3",
   "language": "python",
   "name": "python3"
  },
  "language_info": {
   "codemirror_mode": {
    "name": "ipython",
    "version": 2
   },
   "file_extension": ".py",
   "mimetype": "text/x-python",
   "name": "python",
   "nbconvert_exporter": "python",
   "pygments_lexer": "ipython2",
   "version": "2.7.6"
  }
 },
 "nbformat": 4,
 "nbformat_minor": 0
}