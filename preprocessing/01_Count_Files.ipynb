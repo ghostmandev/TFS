{
 "cells": [
  {
   "cell_type": "code",
   "execution_count": 1,
   "metadata": {
    "collapsed": true,
    "pycharm": {
     "name": "#%%\n"
    }
   },
   "outputs": [],
   "source": [
    "import os\n",
    "\n",
    "# src_folder = 'D:\\\\FingerSpelling\\\\Test_Dataset\\\\raw_data\\\\'\n",
    "src_folder = 'D:\\\\FingerSpelling\\\\TFS_Dataset\\\\01_RawData\\\\'\n",
    "num_name = 0\n",
    "num_sub = 0\n",
    "num_mainfile = 0\n",
    "num_file = 0\n",
    "folder_missing = 0\n",
    "file_missing = 0\n"
   ]
  },
  {
   "cell_type": "code",
   "execution_count": 2,
   "outputs": [
    {
     "name": "stdout",
     "output_type": "stream",
     "text": [
      "\n",
      "\n",
      "\n",
      "\n",
      "File Path =  D:\\FingerSpelling\\TFS_Dataset\\01_RawData\\S3ธนพล\\พยัญชนะ\\ก\\  ===> Missing =  5\n",
      "File Path =  D:\\FingerSpelling\\TFS_Dataset\\01_RawData\\S3ธนพล\\พยัญชนะ\\ข\\  ===> Missing =  5\n",
      "File Path =  D:\\FingerSpelling\\TFS_Dataset\\01_RawData\\S3ธนพล\\พยัญชนะ\\ค\\  ===> Missing =  5\n",
      "File Path =  D:\\FingerSpelling\\TFS_Dataset\\01_RawData\\S3ธนพล\\พยัญชนะ\\ฆ\\  ===> Missing =  5\n",
      "File Path =  D:\\FingerSpelling\\TFS_Dataset\\01_RawData\\S3ธนพล\\พยัญชนะ\\ง\\  ===> Missing =  5\n",
      "File Path =  D:\\FingerSpelling\\TFS_Dataset\\01_RawData\\S3ธนพล\\พยัญชนะ\\จ\\  ===> Missing =  5\n",
      "File Path =  D:\\FingerSpelling\\TFS_Dataset\\01_RawData\\S3ธนพล\\พยัญชนะ\\ฉ\\  ===> Missing =  5\n",
      "File Path =  D:\\FingerSpelling\\TFS_Dataset\\01_RawData\\S3ธนพล\\พยัญชนะ\\ช\\  ===> Missing =  5\n",
      "File Path =  D:\\FingerSpelling\\TFS_Dataset\\01_RawData\\S3ธนพล\\พยัญชนะ\\ซ\\  ===> Missing =  5\n",
      "File Path =  D:\\FingerSpelling\\TFS_Dataset\\01_RawData\\S3ธนพล\\พยัญชนะ\\ฌ\\  ===> Missing =  5\n",
      "File Path =  D:\\FingerSpelling\\TFS_Dataset\\01_RawData\\S3ธนพล\\พยัญชนะ\\ญ\\  ===> Missing =  5\n",
      "File Path =  D:\\FingerSpelling\\TFS_Dataset\\01_RawData\\S3ธนพล\\พยัญชนะ\\ฎ\\  ===> Missing =  5\n",
      "File Path =  D:\\FingerSpelling\\TFS_Dataset\\01_RawData\\S3ธนพล\\พยัญชนะ\\ฏ\\  ===> Missing =  5\n",
      "File Path =  D:\\FingerSpelling\\TFS_Dataset\\01_RawData\\S3ธนพล\\พยัญชนะ\\ฐ\\  ===> Missing =  5\n",
      "File Path =  D:\\FingerSpelling\\TFS_Dataset\\01_RawData\\S3ธนพล\\พยัญชนะ\\ฑ\\  ===> Missing =  5\n",
      "File Path =  D:\\FingerSpelling\\TFS_Dataset\\01_RawData\\S3ธนพล\\พยัญชนะ\\ฒ\\  ===> Missing =  5\n",
      "File Path =  D:\\FingerSpelling\\TFS_Dataset\\01_RawData\\S3ธนพล\\พยัญชนะ\\ณ\\  ===> Missing =  5\n",
      "File Path =  D:\\FingerSpelling\\TFS_Dataset\\01_RawData\\S3ธนพล\\พยัญชนะ\\ด\\  ===> Missing =  5\n",
      "File Path =  D:\\FingerSpelling\\TFS_Dataset\\01_RawData\\S3ธนพล\\พยัญชนะ\\ต\\  ===> Missing =  5\n",
      "File Path =  D:\\FingerSpelling\\TFS_Dataset\\01_RawData\\S3ธนพล\\พยัญชนะ\\ถ\\  ===> Missing =  5\n",
      "File Path =  D:\\FingerSpelling\\TFS_Dataset\\01_RawData\\S3ธนพล\\พยัญชนะ\\ท\\  ===> Missing =  5\n",
      "File Path =  D:\\FingerSpelling\\TFS_Dataset\\01_RawData\\S3ธนพล\\พยัญชนะ\\ธ\\  ===> Missing =  5\n",
      "File Path =  D:\\FingerSpelling\\TFS_Dataset\\01_RawData\\S3ธนพล\\พยัญชนะ\\น\\  ===> Missing =  5\n",
      "File Path =  D:\\FingerSpelling\\TFS_Dataset\\01_RawData\\S3ธนพล\\พยัญชนะ\\บ\\  ===> Missing =  5\n",
      "File Path =  D:\\FingerSpelling\\TFS_Dataset\\01_RawData\\S3ธนพล\\พยัญชนะ\\ป\\  ===> Missing =  5\n",
      "File Path =  D:\\FingerSpelling\\TFS_Dataset\\01_RawData\\S3ธนพล\\พยัญชนะ\\ผ\\  ===> Missing =  5\n",
      "File Path =  D:\\FingerSpelling\\TFS_Dataset\\01_RawData\\S3ธนพล\\พยัญชนะ\\ฝ\\  ===> Missing =  5\n",
      "File Path =  D:\\FingerSpelling\\TFS_Dataset\\01_RawData\\S3ธนพล\\พยัญชนะ\\พ\\  ===> Missing =  5\n",
      "File Path =  D:\\FingerSpelling\\TFS_Dataset\\01_RawData\\S3ธนพล\\พยัญชนะ\\ฟ\\  ===> Missing =  5\n",
      "File Path =  D:\\FingerSpelling\\TFS_Dataset\\01_RawData\\S3ธนพล\\พยัญชนะ\\ภ\\  ===> Missing =  5\n",
      "File Path =  D:\\FingerSpelling\\TFS_Dataset\\01_RawData\\S3ธนพล\\พยัญชนะ\\ม\\  ===> Missing =  5\n",
      "File Path =  D:\\FingerSpelling\\TFS_Dataset\\01_RawData\\S3ธนพล\\พยัญชนะ\\ย\\  ===> Missing =  5\n",
      "File Path =  D:\\FingerSpelling\\TFS_Dataset\\01_RawData\\S3ธนพล\\พยัญชนะ\\ร\\  ===> Missing =  5\n",
      "File Path =  D:\\FingerSpelling\\TFS_Dataset\\01_RawData\\S3ธนพล\\พยัญชนะ\\ล\\  ===> Missing =  5\n",
      "File Path =  D:\\FingerSpelling\\TFS_Dataset\\01_RawData\\S3ธนพล\\พยัญชนะ\\ว\\  ===> Missing =  5\n",
      "File Path =  D:\\FingerSpelling\\TFS_Dataset\\01_RawData\\S3ธนพล\\พยัญชนะ\\ศ\\  ===> Missing =  5\n",
      "File Path =  D:\\FingerSpelling\\TFS_Dataset\\01_RawData\\S3ธนพล\\พยัญชนะ\\ษ\\  ===> Missing =  5\n",
      "File Path =  D:\\FingerSpelling\\TFS_Dataset\\01_RawData\\S3ธนพล\\พยัญชนะ\\ส\\  ===> Missing =  5\n",
      "File Path =  D:\\FingerSpelling\\TFS_Dataset\\01_RawData\\S3ธนพล\\พยัญชนะ\\ห\\  ===> Missing =  5\n",
      "File Path =  D:\\FingerSpelling\\TFS_Dataset\\01_RawData\\S3ธนพล\\พยัญชนะ\\ฬ\\  ===> Missing =  5\n",
      "File Path =  D:\\FingerSpelling\\TFS_Dataset\\01_RawData\\S3ธนพล\\พยัญชนะ\\อ\\  ===> Missing =  5\n",
      "File Path =  D:\\FingerSpelling\\TFS_Dataset\\01_RawData\\S3ธนพล\\พยัญชนะ\\ฮ\\  ===> Missing =  5\n",
      "\n",
      "\n",
      "File Path =  D:\\FingerSpelling\\TFS_Dataset\\01_RawData\\S5พิเชฐ\\พยัญชนะ\\ฉ\\  ===> Missing =  5\n",
      "File Path =  D:\\FingerSpelling\\TFS_Dataset\\01_RawData\\S5พิเชฐ\\พยัญชนะ\\ช\\  ===> Missing =  1\n",
      "File Path =  D:\\FingerSpelling\\TFS_Dataset\\01_RawData\\S5พิเชฐ\\พยัญชนะ\\ซ\\  ===> Missing =  1\n",
      "File Path =  D:\\FingerSpelling\\TFS_Dataset\\01_RawData\\S5พิเชฐ\\พยัญชนะ\\ณ\\  ===> Missing =  1\n",
      "File Path =  D:\\FingerSpelling\\TFS_Dataset\\01_RawData\\S5พิเชฐ\\สระเดียว\\อุ\\  ===> Missing =  1\n",
      "File Path =  D:\\FingerSpelling\\TFS_Dataset\\01_RawData\\S5พิเชฐ\\สระเดียว\\ฯ\\  ===> Missing =  3\n",
      "\n",
      "File Path =  D:\\FingerSpelling\\TFS_Dataset\\01_RawData\\S6ธนากร\\ตัวเลข\\17\\  ===> Missing =  1\n",
      "File Path =  D:\\FingerSpelling\\TFS_Dataset\\01_RawData\\S6ธนากร\\ตัวเลข\\19\\  ===> Missing =  1\n",
      "File Path =  D:\\FingerSpelling\\TFS_Dataset\\01_RawData\\S6ธนากร\\ตัวเลข\\2\\  ===> Missing =  1\n",
      "File Path =  D:\\FingerSpelling\\TFS_Dataset\\01_RawData\\S6ธนากร\\ตัวเลข\\20\\  ===> Missing =  1\n",
      "File Path =  D:\\FingerSpelling\\TFS_Dataset\\01_RawData\\S6ธนากร\\ตัวเลข\\30\\  ===> Missing =  5\n",
      "File Path =  D:\\FingerSpelling\\TFS_Dataset\\01_RawData\\S6ธนากร\\ตัวเลข\\40\\  ===> Missing =  5\n",
      "File Path =  D:\\FingerSpelling\\TFS_Dataset\\01_RawData\\S6ธนากร\\ตัวเลข\\50\\  ===> Missing =  5\n",
      "File Path =  D:\\FingerSpelling\\TFS_Dataset\\01_RawData\\S6ธนากร\\ตัวเลข\\8\\  ===> Missing =  1\n",
      "File Path =  D:\\FingerSpelling\\TFS_Dataset\\01_RawData\\S6ธนากร\\ตัวเลข\\9\\  ===> Missing =  1\n",
      "File Path =  D:\\FingerSpelling\\TFS_Dataset\\01_RawData\\S6ธนากร\\วรรณยุกต์\\อ๋\\  ===> Missing =  1\n",
      "File Path =  D:\\FingerSpelling\\TFS_Dataset\\01_RawData\\S6ธนากร\\สระเดียว\\ฯ\\  ===> Missing =  5\n",
      "File Path =  D:\\FingerSpelling\\TFS_Dataset\\01_RawData\\S6ธนากร\\สระเดียว\\ไม้ไต่คู้\\  ===> Missing =  1\n",
      "\n",
      "File Path =  D:\\FingerSpelling\\TFS_Dataset\\01_RawData\\S7พุฒิพงศ์\\สระเดียว\\อึ(นึก)\\  ===> Missing =  5\n",
      "\n",
      "File Path =  D:\\FingerSpelling\\TFS_Dataset\\01_RawData\\S8อภิชญา\\พยัญชนะ\\ข\\  ===> Missing =  1\n",
      "File Path =  D:\\FingerSpelling\\TFS_Dataset\\01_RawData\\S8อภิชญา\\พยัญชนะ\\ฆ\\  ===> Missing =  5\n",
      "File Path =  D:\\FingerSpelling\\TFS_Dataset\\01_RawData\\S8อภิชญา\\พยัญชนะ\\ถ\\  ===> Missing =  1\n",
      "File Path =  D:\\FingerSpelling\\TFS_Dataset\\01_RawData\\S8อภิชญา\\พยัญชนะ\\ป\\  ===> Missing =  1\n",
      "File Path =  D:\\FingerSpelling\\TFS_Dataset\\01_RawData\\S8อภิชญา\\พยัญชนะ\\ร\\  ===> Missing =  1\n",
      "\n",
      "File Path =  D:\\FingerSpelling\\TFS_Dataset\\01_RawData\\S9ณัฐดนัย\\ตัวเลข\\15\\  ===> Missing =  1\n",
      "File Path =  D:\\FingerSpelling\\TFS_Dataset\\01_RawData\\S9ณัฐดนัย\\ตัวเลข\\16\\  ===> Missing =  1\n",
      "File Path =  D:\\FingerSpelling\\TFS_Dataset\\01_RawData\\S9ณัฐดนัย\\ตัวเลข\\17\\  ===> Missing =  1\n",
      "File Path =  D:\\FingerSpelling\\TFS_Dataset\\01_RawData\\S9ณัฐดนัย\\สระเดียว\\ไอ\\  ===> Missing =  1\n",
      "\n",
      "Missing Files:  268\n",
      "Total number of files 4732 from total files :  5000\n",
      "Number of directories : 930 from total Directores :  1000\n"
     ]
    }
   ],
   "source": [
    "for name_folder in os.listdir(src_folder):\n",
    "    if name_folder[0] == 'S':\n",
    "        num_name += 1\n",
    "        name_path = src_folder + name_folder + '\\\\'\n",
    "        # print('num_name = ',num_name)\n",
    "        print('')\n",
    "        for subtype_folder in os.listdir(name_path):\n",
    "            num_sub += 1\n",
    "            subtype_path = name_path + subtype_folder + '\\\\'\n",
    "            # print('num_sub = ', num_sub)\n",
    "            for mainfile_folder in os.listdir(subtype_path):\n",
    "                num_mainfile += 1\n",
    "                mainfile_path = subtype_path + mainfile_folder + '\\\\'\n",
    "                # print('mainfile_path = ',mainfile_path)\n",
    "                # print('num_mainfile = ',num_mainfile)\n",
    "\n",
    "                if len(os.listdir(mainfile_path)) == 5:\n",
    "                    for file in os.listdir(mainfile_path):\n",
    "                        num_file += 1\n",
    "                        file_path = mainfile_path + file\n",
    "                else:\n",
    "                    loss = 5 - len(os.listdir(mainfile_path))\n",
    "                    print('File Path = ',mainfile_path, ' ===> Missing = ', loss)\n",
    "                    folder_missing += 1\n",
    "                        # print('num_file = ',num_file)\n",
    "                    file_missing += loss\n",
    "\n",
    "print('')\n",
    "print('Missing Files: ',file_missing)\n",
    "print('Total number of files', (num_mainfile * 5) - file_missing, 'from total files : ', num_mainfile * 5)\n",
    "print('Number of directories :', num_mainfile - folder_missing, 'from total Directores : ', num_mainfile)"
   ],
   "metadata": {
    "collapsed": false,
    "pycharm": {
     "name": "#%%\n"
    }
   }
  },
  {
   "cell_type": "code",
   "execution_count": null,
   "outputs": [],
   "source": [],
   "metadata": {
    "collapsed": false,
    "pycharm": {
     "name": "#%%\n"
    }
   }
  }
 ],
 "metadata": {
  "kernelspec": {
   "display_name": "Python 3",
   "language": "python",
   "name": "python3"
  },
  "language_info": {
   "codemirror_mode": {
    "name": "ipython",
    "version": 2
   },
   "file_extension": ".py",
   "mimetype": "text/x-python",
   "name": "python",
   "nbconvert_exporter": "python",
   "pygments_lexer": "ipython2",
   "version": "2.7.6"
  }
 },
 "nbformat": 4,
 "nbformat_minor": 0
}