{
 "cells": [
  {
   "cell_type": "code",
   "execution_count": 1,
   "outputs": [],
   "source": [
    "import cv2\n",
    "import imageio\n",
    "import os\n",
    "import shutil\n",
    "from moviepy.editor import *"
   ],
   "metadata": {
    "collapsed": false,
    "pycharm": {
     "name": "#%%\n"
    }
   }
  },
  {
   "cell_type": "code",
   "execution_count": 2,
   "outputs": [],
   "source": [
    "def getFrame(sec,nameFiles,folderName):\n",
    "    vidcap.set(cv2.CAP_PROP_POS_MSEC,sec*1000)\n",
    "    hasFrames,image = vidcap.read()\n",
    "    #cv2.putText(image,str(count),(10,30),cv2.FONT_HERSHEY_SIMPLEX,0.8,(0,255,0),cv2.LINE_4)\n",
    "    if hasFrames:\n",
    "#         nameF = nameFiles.translate({ord(i):None for i in '.mp4'})\n",
    "        nameF = filename[:-4]\n",
    "        os.chdir(mainfile_path+ str(newfolder))\n",
    "        frame = cv2.imwrite(folderName + '-' + str(count) + \".jpg\", image)  # save frame as JPG file\n",
    "    return hasFrames"
   ],
   "metadata": {
    "collapsed": false,
    "pycharm": {
     "name": "#%%\n"
    }
   }
  },
  {
   "cell_type": "code",
   "execution_count": 3,
   "outputs": [],
   "source": [
    "def createFolder(filename, folderName, numberfolder):\n",
    "#     print('xxxxxxx ==>', filename)\n",
    "#     nameF = filename.translate({ord(i):None for i in '.mp4'})  # delete .mp4\n",
    "    nameF = filename[:-4]\n",
    "#     print('yyyyyy ==>', nameF)\n",
    "    try:\n",
    "        folder = folderName + '_' + str(numberfolder)\n",
    "        os.mkdir(mainfile_path + folder)  # Create target Directory\n",
    "        # os.mkdir(path_of_the_directory+nameF)  # Create target Directory\n",
    "        # print(\"Directory \" , folder ,  \" Created \")\n",
    "    except FileExistsError:\n",
    "        print(\"Directory \" , folder ,  \" already exists\")\n",
    "    return folder"
   ],
   "metadata": {
    "collapsed": false,
    "pycharm": {
     "name": "#%%\n"
    }
   }
  },
  {
   "cell_type": "code",
   "execution_count": 4,
   "outputs": [],
   "source": [
    "def duration(filename,path_of_the_directory):\n",
    "    clip = VideoFileClip(path_of_the_directory + filename)\n",
    "    duration = clip.duration\n",
    "    ChargeRate = round(duration/97,6)             # 97 average frame per clips   30 fps\n",
    "    # print(\"Duration : \" + str(duration) + '  ' + 'seconds')\n",
    "    # print(\"Frame Rate : \" + str(ChargeRate) + '  ' + 'seconds/Frames')\n",
    "    return ChargeRate"
   ],
   "metadata": {
    "collapsed": false,
    "pycharm": {
     "name": "#%%\n"
    }
   }
  },
  {
   "cell_type": "code",
   "execution_count": 5,
   "outputs": [],
   "source": [
    "# currentPath = 'D:\\\\FingerSpelling\\\\TFS_Dataset\\\\02_Combine_Data\\\\'\n",
    "currentPath = 'D:\\\\FingerSpelling\\\\Test_Dataset\\\\dest_raw_data\\\\'\n",
    "\n",
    "# frameRate = 0.04\n",
    "allFrame = 0\n",
    "MainDir = 0\n",
    "countClips = 0\n",
    "count_created_folder = 0\n",
    "subDir = 0\n",
    "eachFolderFrame = 0\n",
    "\n",
    "num_name = 0\n",
    "num_sub = 0\n",
    "num_mainfile = 0\n",
    "num_file = 0\n",
    "folder_missing = 0\n",
    "file_missing = 0"
   ],
   "metadata": {
    "collapsed": false,
    "pycharm": {
     "name": "#%%\n"
    }
   }
  },
  {
   "cell_type": "code",
   "execution_count": 6,
   "outputs": [
    {
     "name": "stdout",
     "output_type": "stream",
     "text": [
      "mainfile_path =  D:\\FingerSpelling\\Test_Dataset\\dest_raw_data\\พยัญชนะ\\ฟ\\\n"
     ]
    }
   ],
   "source": [
    "for subtype_folder in os.listdir(currentPath):\n",
    "            num_sub += 1\n",
    "            subtype_path = currentPath + subtype_folder + '\\\\'\n",
    "            # print('num_sub = ', num_sub)\n",
    "            # print('Subtype_folder = ',subtype_folder)\n",
    "            for mainfile_folder in os.listdir(subtype_path):\n",
    "                num_mainfile += 1\n",
    "                mainfile_path = subtype_path + mainfile_folder + '\\\\'\n",
    "                print('mainfile_path = ',mainfile_path)\n",
    "                # print('num_mainfile = ',num_mainfile)\n",
    "                for filename in os.listdir(mainfile_path):\n",
    "                    subDir += 1\n",
    "                    if (filename != '.DS_Store') and (filename != 'desktop.ini'):\n",
    "                        # print(filename)\n",
    "                        groupFolder = mainfile_path + filename\n",
    "                        sec = 0\n",
    "                        count = 1\n",
    "                        countClips = countClips + 1\n",
    "                        count_created_folder += 1\n",
    "                        # print('filename = ', filename)\n",
    "                        frameRate = duration(filename, mainfile_path)\n",
    "                        path = os.path.join(mainfile_path, filename)\n",
    "                        newfolder = createFolder(filename, mainfile_folder, count_created_folder)\n",
    "                        # print('newfolder = ', newfolder)\n",
    "                        vidcap = cv2.VideoCapture(path)\n",
    "                        success = getFrame(sec, filename, mainfile_folder)\n",
    "                        # print('groupFolder = ', groupFolder)\n",
    "                        while success:\n",
    "                            count = count + 1\n",
    "                            eachFolderFrame = eachFolderFrame + 1\n",
    "                            allFrame = allFrame + 1\n",
    "                            sec = sec + frameRate\n",
    "                            sec = round(sec, 6)\n",
    "                            success = getFrame(sec, mainfile_folder, mainfile_folder)\n",
    "                        # print('Image Frames = ', count - 1)\n",
    "                count_created_folder = 0\n",
    "                # print('In Folder Frame', eachFolderFrame)\n",
    "                # print('')\n",
    "\n",
    "\n",
    "# print('All Clips = ', countClips)\n",
    "# print('All Image Frames = ', allFrame)\n",
    "# print('Average Frame = ', allFrame / countClips)\n",
    "# print('Sub of Directory = ', subDir)\n",
    "# print('Main of Directory = ', MainDir)\n",
    "# print('')\n",
    "\n"
   ],
   "metadata": {
    "collapsed": false,
    "pycharm": {
     "name": "#%%\n"
    }
   }
  },
  {
   "cell_type": "code",
   "execution_count": 6,
   "outputs": [],
   "source": [],
   "metadata": {
    "collapsed": false,
    "pycharm": {
     "name": "#%%\n"
    }
   }
  },
  {
   "cell_type": "code",
   "execution_count": 7,
   "outputs": [],
   "source": [
    "# for folderName in os.listdir(currentPath):\n",
    "#     if folderName[0] != 'D':\n",
    "#         path_of_the_directory = currentPath + folderName + '\\\\'\n",
    "#         # print(path_of_the_directory)\n",
    "#         MainDir = MainDir + 1\n",
    "#         eachFolderFrame = 0\n",
    "#         print('FolderName = ', folderName)\n",
    "#         for filename in os.listdir(path_of_the_directory):\n",
    "#             subDir += 1\n",
    "#             if (filename != '.DS_Store') and (filename != 'desktop.ini'):\n",
    "#                 # print(filename)\n",
    "#                 groupFolder = path_of_the_directory + filename\n",
    "#                 sec = 0\n",
    "#                 count = 1\n",
    "#                 countClips = countClips + 1\n",
    "#                 count_created_folder += 1\n",
    "#                 print('filename = ', filename)\n",
    "#                 frameRate = duration(filename, path_of_the_directory)\n",
    "#                 path = os.path.join(path_of_the_directory, filename)\n",
    "#                 newfolder = createFolder(filename, folderName, count_created_folder)\n",
    "#                 print('newfolder = ', newfolder)\n",
    "#                 vidcap = cv2.VideoCapture(path)\n",
    "#                 success = getFrame(sec, filename, folderName)\n",
    "#                 print('groupFolder = ', groupFolder)\n",
    "#                 while success:\n",
    "#                     count = count + 1\n",
    "#                     eachFolderFrame = eachFolderFrame + 1\n",
    "#                     allFrame = allFrame + 1\n",
    "#                     sec = sec + frameRate\n",
    "#                     sec = round(sec, 6)\n",
    "#                     success = getFrame(sec, folderName, folderName)\n",
    "#                 print('Image Frames = ', count - 1)\n",
    "#         count_created_folder = 0\n",
    "#         print('In Folder Frame', eachFolderFrame)\n",
    "#         print('')\n",
    "# print('All Clips = ', countClips)\n",
    "# print('All Image Frames = ', allFrame)\n",
    "# print('Average Frame = ', allFrame / countClips)\n",
    "# print('Sub of Directory = ', subDir)\n",
    "# print('Main of Directory = ', MainDir)\n",
    "# print('')"
   ],
   "metadata": {
    "collapsed": false,
    "pycharm": {
     "name": "#%%\n"
    }
   }
  }
 ],
 "metadata": {
  "kernelspec": {
   "display_name": "Python 3",
   "language": "python",
   "name": "python3"
  },
  "language_info": {
   "codemirror_mode": {
    "name": "ipython",
    "version": 2
   },
   "file_extension": ".py",
   "mimetype": "text/x-python",
   "name": "python",
   "nbconvert_exporter": "python",
   "pygments_lexer": "ipython2",
   "version": "2.7.6"
  }
 },
 "nbformat": 4,
 "nbformat_minor": 0
}