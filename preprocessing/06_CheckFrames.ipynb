{
 "cells": [
  {
   "cell_type": "code",
   "execution_count": 40,
   "metadata": {
    "collapsed": true,
    "pycharm": {
     "name": "#%%\n"
    }
   },
   "outputs": [],
   "source": [
    "import os\n",
    "\n",
    "# src_folder = 'D:\\\\FingerSpelling\\\\Test_Dataset\\\\raw_data\\\\'\n",
    "# src_folder = 'D:\\\\FingerSpelling\\\\Test_Dataset\\\\dest_raw_data\\\\'\n",
    "\n",
    "src_folder = 'E:\\\\02_Combine_Data\\\\'\n",
    "\n",
    "num_name = 0\n",
    "num_sub = 0\n",
    "num_mainfile = 0\n",
    "num_subfile = 0\n",
    "folder_missing = 0\n",
    "file_missing = 0\n",
    "num_file = 0\n",
    "countall = 0"
   ]
  },
  {
   "cell_type": "code",
   "execution_count": 41,
   "outputs": [
    {
     "name": "stdout",
     "output_type": "stream",
     "text": [
      "Num Mainsub =  100\n",
      "Num Subfolder =  4732\n",
      "All files =  459004\n"
     ]
    }
   ],
   "source": [
    "count = 0\n",
    "for subtype_folder in os.listdir(src_folder):\n",
    "    num_sub += 1\n",
    "    subtype_path = src_folder + subtype_folder + '\\\\'\n",
    "    # print('num_sub = ', num_sub)\n",
    "    for mainfile_folder in os.listdir(subtype_path):\n",
    "        num_mainfile += 1\n",
    "        mainfile_path = subtype_path + mainfile_folder + '\\\\'\n",
    "        # print('mainfile_path = ',mainfile_path)\n",
    "        # print('num_mainfile = ',num_mainfile)\n",
    "        for subfile in os.listdir(mainfile_path):\n",
    "            num_subfile += 1\n",
    "            subfile_path = mainfile_path + subfile\n",
    "            # print(subfile_path)\n",
    "            if subfile[0] == '.':\n",
    "                os.rmdir(subfile_path)\n",
    "                print('Removed Directory= ',subfile_path)\n",
    "            else:\n",
    "                for files in os.listdir(subfile_path):\n",
    "                    files_path = subfile_path + '\\\\' + files\n",
    "                    countall += 1\n",
    "                    if files[0] == '.':\n",
    "                        os.remove(files_path)\n",
    "                        print('Removed File= ',files_path)\n",
    "                    if files[-4:] == '.jpg':\n",
    "\n",
    "                        count += 1\n",
    "                if count != 97:\n",
    "                    print('Problem file: {}  ===>  Path: {}'.format(count, subfile_path))\n",
    "\n",
    "                count = 0\n",
    "\n",
    "print(\"Num Mainsub = \",num_mainfile)\n",
    "print('Num Subfolder = ',num_subfile)\n",
    "print('All files = ', countall)\n"
   ],
   "metadata": {
    "collapsed": false,
    "pycharm": {
     "name": "#%%\n"
    }
   }
  },
  {
   "cell_type": "code",
   "execution_count": 2,
   "outputs": [],
   "source": [],
   "metadata": {
    "collapsed": false,
    "pycharm": {
     "name": "#%%\n"
    }
   }
  }
 ],
 "metadata": {
  "kernelspec": {
   "display_name": "Python 3",
   "language": "python",
   "name": "python3"
  },
  "language_info": {
   "codemirror_mode": {
    "name": "ipython",
    "version": 2
   },
   "file_extension": ".py",
   "mimetype": "text/x-python",
   "name": "python",
   "nbconvert_exporter": "python",
   "pygments_lexer": "ipython2",
   "version": "2.7.6"
  }
 },
 "nbformat": 4,
 "nbformat_minor": 0
}